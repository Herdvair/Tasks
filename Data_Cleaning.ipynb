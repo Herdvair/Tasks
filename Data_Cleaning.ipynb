{
  "cells": [
    {
      "cell_type": "markdown",
      "metadata": {
        "id": "view-in-github",
        "colab_type": "text"
      },
      "source": [
        "<a href=\"https://colab.research.google.com/github/Herdvair/Tasks/blob/main/Data_Cleaning.ipynb\" target=\"_parent\"><img src=\"https://colab.research.google.com/assets/colab-badge.svg\" alt=\"Open In Colab\"/></a>"
      ]
    },
    {
      "cell_type": "markdown",
      "id": "59914624",
      "metadata": {
        "id": "59914624"
      },
      "source": [
        "# Import Library"
      ]
    },
    {
      "cell_type": "code",
      "execution_count": null,
      "id": "bc5e4e37",
      "metadata": {
        "id": "bc5e4e37"
      },
      "outputs": [],
      "source": [
        "import pandas as pd\n",
        "import matplotlib.pyplot as plt\n",
        "import numpy as np\n",
        "import seaborn as sns\n",
        "from sklearn.model_selection import train_test_split\n",
        "from scipy import stats\n",
        "from scipy.stats import skew,shapiro\n",
        "import warnings\n",
        "warnings.filterwarnings('ignore')\n",
        "\n",
        "# Set the maximum number of columns and rows to display to a large number\n",
        "pd.set_option('display.max_columns', None)\n",
        "pd.set_option('display.max_rows', None)"
      ]
    },
    {
      "cell_type": "markdown",
      "id": "07a4475f",
      "metadata": {
        "id": "07a4475f"
      },
      "source": [
        "# Import Dataset & Data Understanding"
      ]
    },
    {
      "cell_type": "code",
      "execution_count": null,
      "id": "85903a72",
      "metadata": {
        "id": "85903a72"
      },
      "outputs": [],
      "source": [
        "df_california = pd.read_csv('california_dataset.csv')\n"
      ]
    },
    {
      "cell_type": "code",
      "execution_count": null,
      "id": "d179cafc",
      "metadata": {
        "id": "d179cafc",
        "outputId": "0f0951f6-32ad-4f89-c95b-0b0f502dc27a"
      },
      "outputs": [
        {
          "data": {
            "text/plain": [
              "(20640, 9)"
            ]
          },
          "execution_count": 8,
          "metadata": {},
          "output_type": "execute_result"
        }
      ],
      "source": [
        "#identifikasi dimensi data\n",
        "df_california.shape"
      ]
    },
    {
      "cell_type": "markdown",
      "id": "62737639",
      "metadata": {
        "id": "62737639"
      },
      "source": [
        "Pada dataset \"california.csv\" terdapat 20.640 baris data dan 9 kolom"
      ]
    },
    {
      "cell_type": "code",
      "execution_count": null,
      "id": "e3fbe7de",
      "metadata": {
        "id": "e3fbe7de",
        "outputId": "6afa7396-96fa-434f-9b72-1e777f126212"
      },
      "outputs": [
        {
          "name": "stdout",
          "output_type": "stream",
          "text": [
            "<class 'pandas.core.frame.DataFrame'>\n",
            "RangeIndex: 20640 entries, 0 to 20639\n",
            "Data columns (total 9 columns):\n",
            " #   Column       Non-Null Count  Dtype  \n",
            "---  ------       --------------  -----  \n",
            " 0   MedInc       20640 non-null  float64\n",
            " 1   HouseAge     20640 non-null  float64\n",
            " 2   AveRooms     20640 non-null  float64\n",
            " 3   AveBedrms    20640 non-null  float64\n",
            " 4   Population   20640 non-null  float64\n",
            " 5   AveOccup     20640 non-null  float64\n",
            " 6   Latitude     20640 non-null  float64\n",
            " 7   Longitude    20640 non-null  float64\n",
            " 8   house_price  20640 non-null  float64\n",
            "dtypes: float64(9)\n",
            "memory usage: 1.4 MB\n"
          ]
        }
      ],
      "source": [
        "df_california.info()"
      ]
    },
    {
      "cell_type": "code",
      "execution_count": null,
      "id": "06b47c9c",
      "metadata": {
        "id": "06b47c9c",
        "outputId": "603bf8a1-168b-4915-b5a7-f031908e40ae"
      },
      "outputs": [
        {
          "data": {
            "text/html": [
              "<div>\n",
              "<style scoped>\n",
              "    .dataframe tbody tr th:only-of-type {\n",
              "        vertical-align: middle;\n",
              "    }\n",
              "\n",
              "    .dataframe tbody tr th {\n",
              "        vertical-align: top;\n",
              "    }\n",
              "\n",
              "    .dataframe thead th {\n",
              "        text-align: right;\n",
              "    }\n",
              "</style>\n",
              "<table border=\"1\" class=\"dataframe\">\n",
              "  <thead>\n",
              "    <tr style=\"text-align: right;\">\n",
              "      <th></th>\n",
              "      <th>MedInc</th>\n",
              "      <th>HouseAge</th>\n",
              "      <th>AveRooms</th>\n",
              "      <th>AveBedrms</th>\n",
              "      <th>Population</th>\n",
              "      <th>AveOccup</th>\n",
              "      <th>Latitude</th>\n",
              "      <th>Longitude</th>\n",
              "      <th>house_price</th>\n",
              "    </tr>\n",
              "  </thead>\n",
              "  <tbody>\n",
              "    <tr>\n",
              "      <th>0</th>\n",
              "      <td>8.3252</td>\n",
              "      <td>41.0</td>\n",
              "      <td>6.984127</td>\n",
              "      <td>1.023810</td>\n",
              "      <td>322.0</td>\n",
              "      <td>2.555556</td>\n",
              "      <td>37.88</td>\n",
              "      <td>-122.23</td>\n",
              "      <td>4.526</td>\n",
              "    </tr>\n",
              "    <tr>\n",
              "      <th>1</th>\n",
              "      <td>8.3014</td>\n",
              "      <td>21.0</td>\n",
              "      <td>6.238137</td>\n",
              "      <td>0.971880</td>\n",
              "      <td>2401.0</td>\n",
              "      <td>2.109842</td>\n",
              "      <td>37.86</td>\n",
              "      <td>-122.22</td>\n",
              "      <td>3.585</td>\n",
              "    </tr>\n",
              "    <tr>\n",
              "      <th>2</th>\n",
              "      <td>7.2574</td>\n",
              "      <td>52.0</td>\n",
              "      <td>8.288136</td>\n",
              "      <td>1.073446</td>\n",
              "      <td>496.0</td>\n",
              "      <td>2.802260</td>\n",
              "      <td>37.85</td>\n",
              "      <td>-122.24</td>\n",
              "      <td>3.521</td>\n",
              "    </tr>\n",
              "    <tr>\n",
              "      <th>3</th>\n",
              "      <td>5.6431</td>\n",
              "      <td>52.0</td>\n",
              "      <td>5.817352</td>\n",
              "      <td>1.073059</td>\n",
              "      <td>558.0</td>\n",
              "      <td>2.547945</td>\n",
              "      <td>37.85</td>\n",
              "      <td>-122.25</td>\n",
              "      <td>3.413</td>\n",
              "    </tr>\n",
              "    <tr>\n",
              "      <th>4</th>\n",
              "      <td>3.8462</td>\n",
              "      <td>52.0</td>\n",
              "      <td>6.281853</td>\n",
              "      <td>1.081081</td>\n",
              "      <td>565.0</td>\n",
              "      <td>2.181467</td>\n",
              "      <td>37.85</td>\n",
              "      <td>-122.25</td>\n",
              "      <td>3.422</td>\n",
              "    </tr>\n",
              "    <tr>\n",
              "      <th>5</th>\n",
              "      <td>4.0368</td>\n",
              "      <td>52.0</td>\n",
              "      <td>4.761658</td>\n",
              "      <td>1.103627</td>\n",
              "      <td>413.0</td>\n",
              "      <td>2.139896</td>\n",
              "      <td>37.85</td>\n",
              "      <td>-122.25</td>\n",
              "      <td>2.697</td>\n",
              "    </tr>\n",
              "    <tr>\n",
              "      <th>6</th>\n",
              "      <td>3.6591</td>\n",
              "      <td>52.0</td>\n",
              "      <td>4.931907</td>\n",
              "      <td>0.951362</td>\n",
              "      <td>1094.0</td>\n",
              "      <td>2.128405</td>\n",
              "      <td>37.84</td>\n",
              "      <td>-122.25</td>\n",
              "      <td>2.992</td>\n",
              "    </tr>\n",
              "    <tr>\n",
              "      <th>7</th>\n",
              "      <td>3.1200</td>\n",
              "      <td>52.0</td>\n",
              "      <td>4.797527</td>\n",
              "      <td>1.061824</td>\n",
              "      <td>1157.0</td>\n",
              "      <td>1.788253</td>\n",
              "      <td>37.84</td>\n",
              "      <td>-122.25</td>\n",
              "      <td>2.414</td>\n",
              "    </tr>\n",
              "    <tr>\n",
              "      <th>8</th>\n",
              "      <td>2.0804</td>\n",
              "      <td>42.0</td>\n",
              "      <td>4.294118</td>\n",
              "      <td>1.117647</td>\n",
              "      <td>1206.0</td>\n",
              "      <td>2.026891</td>\n",
              "      <td>37.84</td>\n",
              "      <td>-122.26</td>\n",
              "      <td>2.267</td>\n",
              "    </tr>\n",
              "    <tr>\n",
              "      <th>9</th>\n",
              "      <td>3.6912</td>\n",
              "      <td>52.0</td>\n",
              "      <td>4.970588</td>\n",
              "      <td>0.990196</td>\n",
              "      <td>1551.0</td>\n",
              "      <td>2.172269</td>\n",
              "      <td>37.84</td>\n",
              "      <td>-122.25</td>\n",
              "      <td>2.611</td>\n",
              "    </tr>\n",
              "  </tbody>\n",
              "</table>\n",
              "</div>"
            ],
            "text/plain": [
              "   MedInc  HouseAge  AveRooms  AveBedrms  Population  AveOccup  Latitude  \\\n",
              "0  8.3252      41.0  6.984127   1.023810       322.0  2.555556     37.88   \n",
              "1  8.3014      21.0  6.238137   0.971880      2401.0  2.109842     37.86   \n",
              "2  7.2574      52.0  8.288136   1.073446       496.0  2.802260     37.85   \n",
              "3  5.6431      52.0  5.817352   1.073059       558.0  2.547945     37.85   \n",
              "4  3.8462      52.0  6.281853   1.081081       565.0  2.181467     37.85   \n",
              "5  4.0368      52.0  4.761658   1.103627       413.0  2.139896     37.85   \n",
              "6  3.6591      52.0  4.931907   0.951362      1094.0  2.128405     37.84   \n",
              "7  3.1200      52.0  4.797527   1.061824      1157.0  1.788253     37.84   \n",
              "8  2.0804      42.0  4.294118   1.117647      1206.0  2.026891     37.84   \n",
              "9  3.6912      52.0  4.970588   0.990196      1551.0  2.172269     37.84   \n",
              "\n",
              "   Longitude  house_price  \n",
              "0    -122.23        4.526  \n",
              "1    -122.22        3.585  \n",
              "2    -122.24        3.521  \n",
              "3    -122.25        3.413  \n",
              "4    -122.25        3.422  \n",
              "5    -122.25        2.697  \n",
              "6    -122.25        2.992  \n",
              "7    -122.25        2.414  \n",
              "8    -122.26        2.267  \n",
              "9    -122.25        2.611  "
            ]
          },
          "execution_count": 10,
          "metadata": {},
          "output_type": "execute_result"
        }
      ],
      "source": [
        "df_california.head(10)"
      ]
    },
    {
      "cell_type": "code",
      "execution_count": null,
      "id": "9350f681",
      "metadata": {
        "id": "9350f681",
        "outputId": "3b7778cc-2dd1-46ef-8708-bd9eac2b790d"
      },
      "outputs": [
        {
          "data": {
            "text/html": [
              "<div>\n",
              "<style scoped>\n",
              "    .dataframe tbody tr th:only-of-type {\n",
              "        vertical-align: middle;\n",
              "    }\n",
              "\n",
              "    .dataframe tbody tr th {\n",
              "        vertical-align: top;\n",
              "    }\n",
              "\n",
              "    .dataframe thead th {\n",
              "        text-align: right;\n",
              "    }\n",
              "</style>\n",
              "<table border=\"1\" class=\"dataframe\">\n",
              "  <thead>\n",
              "    <tr style=\"text-align: right;\">\n",
              "      <th></th>\n",
              "      <th>MedInc</th>\n",
              "      <th>HouseAge</th>\n",
              "      <th>AveRooms</th>\n",
              "      <th>AveBedrms</th>\n",
              "      <th>Population</th>\n",
              "      <th>AveOccup</th>\n",
              "      <th>Latitude</th>\n",
              "      <th>Longitude</th>\n",
              "      <th>house_price</th>\n",
              "    </tr>\n",
              "  </thead>\n",
              "  <tbody>\n",
              "    <tr>\n",
              "      <th>count</th>\n",
              "      <td>20640.000000</td>\n",
              "      <td>20640.000000</td>\n",
              "      <td>20640.000000</td>\n",
              "      <td>20640.000000</td>\n",
              "      <td>20640.000000</td>\n",
              "      <td>20640.000000</td>\n",
              "      <td>20640.000000</td>\n",
              "      <td>20640.000000</td>\n",
              "      <td>20640.000000</td>\n",
              "    </tr>\n",
              "    <tr>\n",
              "      <th>mean</th>\n",
              "      <td>3.870671</td>\n",
              "      <td>28.639486</td>\n",
              "      <td>5.429000</td>\n",
              "      <td>1.096675</td>\n",
              "      <td>1425.476744</td>\n",
              "      <td>3.070655</td>\n",
              "      <td>35.631861</td>\n",
              "      <td>-119.569704</td>\n",
              "      <td>2.068558</td>\n",
              "    </tr>\n",
              "    <tr>\n",
              "      <th>std</th>\n",
              "      <td>1.899822</td>\n",
              "      <td>12.585558</td>\n",
              "      <td>2.474173</td>\n",
              "      <td>0.473911</td>\n",
              "      <td>1132.462122</td>\n",
              "      <td>10.386050</td>\n",
              "      <td>2.135952</td>\n",
              "      <td>2.003532</td>\n",
              "      <td>1.153956</td>\n",
              "    </tr>\n",
              "    <tr>\n",
              "      <th>min</th>\n",
              "      <td>0.499900</td>\n",
              "      <td>1.000000</td>\n",
              "      <td>0.846154</td>\n",
              "      <td>0.333333</td>\n",
              "      <td>3.000000</td>\n",
              "      <td>0.692308</td>\n",
              "      <td>32.540000</td>\n",
              "      <td>-124.350000</td>\n",
              "      <td>0.149990</td>\n",
              "    </tr>\n",
              "    <tr>\n",
              "      <th>25%</th>\n",
              "      <td>2.563400</td>\n",
              "      <td>18.000000</td>\n",
              "      <td>4.440716</td>\n",
              "      <td>1.006079</td>\n",
              "      <td>787.000000</td>\n",
              "      <td>2.429741</td>\n",
              "      <td>33.930000</td>\n",
              "      <td>-121.800000</td>\n",
              "      <td>1.196000</td>\n",
              "    </tr>\n",
              "    <tr>\n",
              "      <th>50%</th>\n",
              "      <td>3.534800</td>\n",
              "      <td>29.000000</td>\n",
              "      <td>5.229129</td>\n",
              "      <td>1.048780</td>\n",
              "      <td>1166.000000</td>\n",
              "      <td>2.818116</td>\n",
              "      <td>34.260000</td>\n",
              "      <td>-118.490000</td>\n",
              "      <td>1.797000</td>\n",
              "    </tr>\n",
              "    <tr>\n",
              "      <th>75%</th>\n",
              "      <td>4.743250</td>\n",
              "      <td>37.000000</td>\n",
              "      <td>6.052381</td>\n",
              "      <td>1.099526</td>\n",
              "      <td>1725.000000</td>\n",
              "      <td>3.282261</td>\n",
              "      <td>37.710000</td>\n",
              "      <td>-118.010000</td>\n",
              "      <td>2.647250</td>\n",
              "    </tr>\n",
              "    <tr>\n",
              "      <th>max</th>\n",
              "      <td>15.000100</td>\n",
              "      <td>52.000000</td>\n",
              "      <td>141.909091</td>\n",
              "      <td>34.066667</td>\n",
              "      <td>35682.000000</td>\n",
              "      <td>1243.333333</td>\n",
              "      <td>41.950000</td>\n",
              "      <td>-114.310000</td>\n",
              "      <td>5.000010</td>\n",
              "    </tr>\n",
              "  </tbody>\n",
              "</table>\n",
              "</div>"
            ],
            "text/plain": [
              "             MedInc      HouseAge      AveRooms     AveBedrms    Population  \\\n",
              "count  20640.000000  20640.000000  20640.000000  20640.000000  20640.000000   \n",
              "mean       3.870671     28.639486      5.429000      1.096675   1425.476744   \n",
              "std        1.899822     12.585558      2.474173      0.473911   1132.462122   \n",
              "min        0.499900      1.000000      0.846154      0.333333      3.000000   \n",
              "25%        2.563400     18.000000      4.440716      1.006079    787.000000   \n",
              "50%        3.534800     29.000000      5.229129      1.048780   1166.000000   \n",
              "75%        4.743250     37.000000      6.052381      1.099526   1725.000000   \n",
              "max       15.000100     52.000000    141.909091     34.066667  35682.000000   \n",
              "\n",
              "           AveOccup      Latitude     Longitude   house_price  \n",
              "count  20640.000000  20640.000000  20640.000000  20640.000000  \n",
              "mean       3.070655     35.631861   -119.569704      2.068558  \n",
              "std       10.386050      2.135952      2.003532      1.153956  \n",
              "min        0.692308     32.540000   -124.350000      0.149990  \n",
              "25%        2.429741     33.930000   -121.800000      1.196000  \n",
              "50%        2.818116     34.260000   -118.490000      1.797000  \n",
              "75%        3.282261     37.710000   -118.010000      2.647250  \n",
              "max     1243.333333     41.950000   -114.310000      5.000010  "
            ]
          },
          "execution_count": 11,
          "metadata": {},
          "output_type": "execute_result"
        }
      ],
      "source": [
        "df_california.describe()"
      ]
    },
    {
      "cell_type": "markdown",
      "id": "e00cfc46",
      "metadata": {
        "id": "e00cfc46"
      },
      "source": [
        "# Data Distribution"
      ]
    },
    {
      "cell_type": "code",
      "execution_count": null,
      "id": "cb954f08",
      "metadata": {
        "id": "cb954f08",
        "outputId": "6640a695-967b-4996-e9c3-19f432b785f8"
      },
      "outputs": [
        {
          "name": "stdout",
          "output_type": "stream",
          "text": [
            "kolom : MedInc\n",
            "memiliki skewness 1.64653702990008\n",
            "Hasil uji saphiro, Nilai stat : 0.8932, nilai p-value : 0.0000\n",
            "distribusi data tidak normal\n"
          ]
        },
        {
          "data": {
            "image/png": "[encoded data removed]",
            "text/plain": [
              "<Figure size 432x288 with 1 Axes>"
            ]
          },
          "metadata": {
            "needs_background": "light"
          },
          "output_type": "display_data"
        },
        {
          "name": "stdout",
          "output_type": "stream",
          "text": [
            "kolom : HouseAge\n",
            "memiliki skewness 0.06032625301661101\n",
            "Hasil uji saphiro, Nilai stat : 0.9782, nilai p-value : 0.0000\n",
            "distribusi data tidak normal\n"
          ]
        },
        {
          "data": {
            "image/png": "[encoded data removed]",
            "text/plain": [
              "<Figure size 432x288 with 1 Axes>"
            ]
          },
          "metadata": {
            "needs_background": "light"
          },
          "output_type": "display_data"
        },
        {
          "name": "stdout",
          "output_type": "stream",
          "text": [
            "kolom : AveRooms\n",
            "memiliki skewness 20.696364720750925\n",
            "Hasil uji saphiro, Nilai stat : 0.4257, nilai p-value : 0.0000\n",
            "distribusi data tidak normal\n"
          ]
        },
        {
          "data": {
            "image/png": "[encoded data removed]",
            "text/plain": [
              "<Figure size 432x288 with 1 Axes>"
            ]
          },
          "metadata": {
            "needs_background": "light"
          },
          "output_type": "display_data"
        },
        {
          "name": "stdout",
          "output_type": "stream",
          "text": [
            "kolom : AveBedrms\n",
            "memiliki skewness 31.314680259248192\n",
            "Hasil uji saphiro, Nilai stat : 0.1604, nilai p-value : 0.0000\n",
            "distribusi data tidak normal\n"
          ]
        },
        {
          "data": {
            "image/png": "[encoded data removed]",
            "text/plain": [
              "<Figure size 432x288 with 1 Axes>"
            ]
          },
          "metadata": {
            "needs_background": "light"
          },
          "output_type": "display_data"
        },
        {
          "name": "stdout",
          "output_type": "stream",
          "text": [
            "kolom : Population\n",
            "memiliki skewness 4.93549950885852\n",
            "Hasil uji saphiro, Nilai stat : 0.7133, nilai p-value : 0.0000\n",
            "distribusi data tidak normal\n"
          ]
        },
        {
          "data": {
            "image/png": "[encoded data removed]",
            "text/plain": [
              "<Figure size 432x288 with 1 Axes>"
            ]
          },
          "metadata": {
            "needs_background": "light"
          },
          "output_type": "display_data"
        },
        {
          "name": "stdout",
          "output_type": "stream",
          "text": [
            "kolom : AveOccup\n",
            "memiliki skewness 97.63246492211677\n",
            "Hasil uji saphiro, Nilai stat : 0.0159, nilai p-value : 0.0000\n",
            "distribusi data tidak normal\n"
          ]
        },
        {
          "data": {
            "image/png": "[encoded data removed]",
            "text/plain": [
              "<Figure size 432x288 with 1 Axes>"
            ]
          },
          "metadata": {
            "needs_background": "light"
          },
          "output_type": "display_data"
        },
        {
          "name": "stdout",
          "output_type": "stream",
          "text": [
            "kolom : Latitude\n",
            "memiliki skewness 0.46591914016270397\n",
            "Hasil uji saphiro, Nilai stat : 0.8771, nilai p-value : 0.0000\n",
            "distribusi data tidak normal\n"
          ]
        },
        {
          "data": {
            "image/png": "[encoded data removed]",
            "text/plain": [
              "<Figure size 432x288 with 1 Axes>"
            ]
          },
          "metadata": {
            "needs_background": "light"
          },
          "output_type": "display_data"
        },
        {
          "name": "stdout",
          "output_type": "stream",
          "text": [
            "kolom : Longitude\n",
            "memiliki skewness -0.29777956498586855\n",
            "Hasil uji saphiro, Nilai stat : 0.8970, nilai p-value : 0.0000\n",
            "distribusi data tidak normal\n"
          ]
        },
        {
          "data": {
            "image/png": "[encoded data removed]",
            "text/plain": [
              "<Figure size 432x288 with 1 Axes>"
            ]
          },
          "metadata": {
            "needs_background": "light"
          },
          "output_type": "display_data"
        },
        {
          "name": "stdout",
          "output_type": "stream",
          "text": [
            "kolom : house_price\n",
            "memiliki skewness 0.9776922140978419\n",
            "Hasil uji saphiro, Nilai stat : 0.9123, nilai p-value : 0.0000\n",
            "distribusi data tidak normal\n"
          ]
        },
        {
          "data": {
            "image/png": "[encoded data removed]",
            "text/plain": [
              "<Figure size 432x288 with 1 Axes>"
            ]
          },
          "metadata": {
            "needs_background": "light"
          },
          "output_type": "display_data"
        }
      ],
      "source": [
        "distribusi_kolom = ['MedInc', 'HouseAge', 'AveRooms', 'AveBedrms',\n",
        "                   'Population', 'AveOccup', 'Latitude', 'Longitude', 'house_price']\n",
        "\n",
        "for i in distribusi_kolom:\n",
        "    data_distribusi = df_california[i]\n",
        "    nilai_skew = skew(data_distribusi)\n",
        "    stat, p = shapiro(data_distribusi)\n",
        "\n",
        "    print(f\"kolom : {i}\")\n",
        "    print(f\"memiliki skewness {nilai_skew}\")\n",
        "    print(f\"Hasil uji saphiro, Nilai stat : {stat :.4f}, nilai p-value : {p :.4f}\")\n",
        "\n",
        "    if p > 0.5:\n",
        "        print(\"distribusi data normal\")\n",
        "    else:\n",
        "        print(\"distribusi data tidak normal\")\n",
        "\n",
        "    sns.histplot(data_distribusi, kde=True)\n",
        "\n",
        "    plt.title('Distribusi')\n",
        "    plt.xlabel(i)\n",
        "    plt.ylabel('Frekuensi')\n",
        "    plt.show()"
      ]
    },
    {
      "cell_type": "markdown",
      "id": "dd3d09e5",
      "metadata": {
        "id": "dd3d09e5"
      },
      "source": [
        "# Data Cleaning"
      ]
    },
    {
      "cell_type": "markdown",
      "id": "c0cfa6bf",
      "metadata": {
        "id": "c0cfa6bf"
      },
      "source": [
        "## Handling Duplicate"
      ]
    },
    {
      "cell_type": "code",
      "execution_count": null,
      "id": "aadf3637",
      "metadata": {
        "id": "aadf3637",
        "outputId": "ebc212c8-cf49-4d7a-b924-c484fed354d2"
      },
      "outputs": [
        {
          "data": {
            "text/plain": [
              "20640"
            ]
          },
          "execution_count": 12,
          "metadata": {},
          "output_type": "execute_result"
        }
      ],
      "source": [
        "len(df_california.drop_duplicates())"
      ]
    },
    {
      "cell_type": "code",
      "execution_count": null,
      "id": "f78dab30",
      "metadata": {
        "id": "f78dab30",
        "outputId": "3345deaf-7e2a-41e8-9295-94ba2a940034"
      },
      "outputs": [
        {
          "data": {
            "text/plain": [
              "1.0"
            ]
          },
          "execution_count": 13,
          "metadata": {},
          "output_type": "execute_result"
        }
      ],
      "source": [
        "len(df_california.drop_duplicates()) / len(df_california)"
      ]
    },
    {
      "cell_type": "markdown",
      "id": "658674c3",
      "metadata": {
        "id": "658674c3"
      },
      "source": [
        "Tidak ada data duplikat"
      ]
    },
    {
      "cell_type": "markdown",
      "id": "889e8494",
      "metadata": {
        "id": "889e8494"
      },
      "source": [
        "## Handling Outlier"
      ]
    },
    {
      "cell_type": "code",
      "execution_count": null,
      "id": "5d1cc57d",
      "metadata": {
        "id": "5d1cc57d",
        "outputId": "b427e097-672c-40f1-95b8-ff8cf0b52b32"
      },
      "outputs": [
        {
          "data": {
            "text/html": [
              "<div>\n",
              "<style scoped>\n",
              "    .dataframe tbody tr th:only-of-type {\n",
              "        vertical-align: middle;\n",
              "    }\n",
              "\n",
              "    .dataframe tbody tr th {\n",
              "        vertical-align: top;\n",
              "    }\n",
              "\n",
              "    .dataframe thead th {\n",
              "        text-align: right;\n",
              "    }\n",
              "</style>\n",
              "<table border=\"1\" class=\"dataframe\">\n",
              "  <thead>\n",
              "    <tr style=\"text-align: right;\">\n",
              "      <th></th>\n",
              "      <th>MedInc</th>\n",
              "      <th>HouseAge</th>\n",
              "      <th>AveRooms</th>\n",
              "      <th>AveBedrms</th>\n",
              "      <th>Population</th>\n",
              "      <th>AveOccup</th>\n",
              "      <th>Latitude</th>\n",
              "      <th>Longitude</th>\n",
              "      <th>house_price</th>\n",
              "    </tr>\n",
              "  </thead>\n",
              "  <tbody>\n",
              "    <tr>\n",
              "      <th>0</th>\n",
              "      <td>8.3252</td>\n",
              "      <td>41.0</td>\n",
              "      <td>6.984127</td>\n",
              "      <td>1.023810</td>\n",
              "      <td>322.0</td>\n",
              "      <td>2.555556</td>\n",
              "      <td>37.88</td>\n",
              "      <td>-122.23</td>\n",
              "      <td>4.526</td>\n",
              "    </tr>\n",
              "    <tr>\n",
              "      <th>1</th>\n",
              "      <td>8.3014</td>\n",
              "      <td>21.0</td>\n",
              "      <td>6.238137</td>\n",
              "      <td>0.971880</td>\n",
              "      <td>2401.0</td>\n",
              "      <td>2.109842</td>\n",
              "      <td>37.86</td>\n",
              "      <td>-122.22</td>\n",
              "      <td>3.585</td>\n",
              "    </tr>\n",
              "    <tr>\n",
              "      <th>2</th>\n",
              "      <td>7.2574</td>\n",
              "      <td>52.0</td>\n",
              "      <td>8.288136</td>\n",
              "      <td>1.073446</td>\n",
              "      <td>496.0</td>\n",
              "      <td>2.802260</td>\n",
              "      <td>37.85</td>\n",
              "      <td>-122.24</td>\n",
              "      <td>3.521</td>\n",
              "    </tr>\n",
              "    <tr>\n",
              "      <th>3</th>\n",
              "      <td>5.6431</td>\n",
              "      <td>52.0</td>\n",
              "      <td>5.817352</td>\n",
              "      <td>1.073059</td>\n",
              "      <td>558.0</td>\n",
              "      <td>2.547945</td>\n",
              "      <td>37.85</td>\n",
              "      <td>-122.25</td>\n",
              "      <td>3.413</td>\n",
              "    </tr>\n",
              "    <tr>\n",
              "      <th>4</th>\n",
              "      <td>3.8462</td>\n",
              "      <td>52.0</td>\n",
              "      <td>6.281853</td>\n",
              "      <td>1.081081</td>\n",
              "      <td>565.0</td>\n",
              "      <td>2.181467</td>\n",
              "      <td>37.85</td>\n",
              "      <td>-122.25</td>\n",
              "      <td>3.422</td>\n",
              "    </tr>\n",
              "  </tbody>\n",
              "</table>\n",
              "</div>"
            ],
            "text/plain": [
              "   MedInc  HouseAge  AveRooms  AveBedrms  Population  AveOccup  Latitude  \\\n",
              "0  8.3252      41.0  6.984127   1.023810       322.0  2.555556     37.88   \n",
              "1  8.3014      21.0  6.238137   0.971880      2401.0  2.109842     37.86   \n",
              "2  7.2574      52.0  8.288136   1.073446       496.0  2.802260     37.85   \n",
              "3  5.6431      52.0  5.817352   1.073059       558.0  2.547945     37.85   \n",
              "4  3.8462      52.0  6.281853   1.081081       565.0  2.181467     37.85   \n",
              "\n",
              "   Longitude  house_price  \n",
              "0    -122.23        4.526  \n",
              "1    -122.22        3.585  \n",
              "2    -122.24        3.521  \n",
              "3    -122.25        3.413  \n",
              "4    -122.25        3.422  "
            ]
          },
          "execution_count": 14,
          "metadata": {},
          "output_type": "execute_result"
        }
      ],
      "source": [
        "#untuk plot QQ\n",
        "df_california.head()\n"
      ]
    },
    {
      "cell_type": "markdown",
      "id": "632dcf1f",
      "metadata": {
        "id": "632dcf1f"
      },
      "source": [
        "### for Machine Learning"
      ]
    },
    {
      "cell_type": "code",
      "execution_count": null,
      "id": "024c68bd",
      "metadata": {
        "id": "024c68bd"
      },
      "outputs": [],
      "source": [
        "train_clfr, test_clfr = train_test_split(df_california, train_size=0.8, test_size=0.2, random_state=42)"
      ]
    },
    {
      "cell_type": "code",
      "execution_count": null,
      "id": "e4004b9e",
      "metadata": {
        "id": "e4004b9e",
        "outputId": "c8354a7f-0e7e-4f92-fca7-cff9575ba540"
      },
      "outputs": [
        {
          "data": {
            "text/html": [
              "<div>\n",
              "<style scoped>\n",
              "    .dataframe tbody tr th:only-of-type {\n",
              "        vertical-align: middle;\n",
              "    }\n",
              "\n",
              "    .dataframe tbody tr th {\n",
              "        vertical-align: top;\n",
              "    }\n",
              "\n",
              "    .dataframe thead th {\n",
              "        text-align: right;\n",
              "    }\n",
              "</style>\n",
              "<table border=\"1\" class=\"dataframe\">\n",
              "  <thead>\n",
              "    <tr style=\"text-align: right;\">\n",
              "      <th></th>\n",
              "      <th>MedInc</th>\n",
              "      <th>HouseAge</th>\n",
              "      <th>AveRooms</th>\n",
              "      <th>AveBedrms</th>\n",
              "      <th>Population</th>\n",
              "      <th>AveOccup</th>\n",
              "      <th>Latitude</th>\n",
              "      <th>Longitude</th>\n",
              "      <th>house_price</th>\n",
              "    </tr>\n",
              "  </thead>\n",
              "  <tbody>\n",
              "    <tr>\n",
              "      <th>count</th>\n",
              "      <td>4128.000000</td>\n",
              "      <td>4128.000000</td>\n",
              "      <td>4128.000000</td>\n",
              "      <td>4128.000000</td>\n",
              "      <td>4128.000000</td>\n",
              "      <td>4128.000000</td>\n",
              "      <td>4128.00000</td>\n",
              "      <td>4128.00000</td>\n",
              "      <td>4128.000000</td>\n",
              "    </tr>\n",
              "    <tr>\n",
              "      <th>mean</th>\n",
              "      <td>3.830338</td>\n",
              "      <td>28.764293</td>\n",
              "      <td>5.404059</td>\n",
              "      <td>1.096637</td>\n",
              "      <td>1421.571705</td>\n",
              "      <td>2.965431</td>\n",
              "      <td>35.58671</td>\n",
              "      <td>-119.51936</td>\n",
              "      <td>2.055003</td>\n",
              "    </tr>\n",
              "    <tr>\n",
              "      <th>std</th>\n",
              "      <td>1.881515</td>\n",
              "      <td>12.518304</td>\n",
              "      <td>2.794717</td>\n",
              "      <td>0.610196</td>\n",
              "      <td>1114.023136</td>\n",
              "      <td>1.753316</td>\n",
              "      <td>2.13276</td>\n",
              "      <td>1.99447</td>\n",
              "      <td>1.144870</td>\n",
              "    </tr>\n",
              "    <tr>\n",
              "      <th>min</th>\n",
              "      <td>0.499900</td>\n",
              "      <td>1.000000</td>\n",
              "      <td>0.846154</td>\n",
              "      <td>0.500000</td>\n",
              "      <td>8.000000</td>\n",
              "      <td>1.263566</td>\n",
              "      <td>32.54000</td>\n",
              "      <td>-124.19000</td>\n",
              "      <td>0.149990</td>\n",
              "    </tr>\n",
              "    <tr>\n",
              "      <th>25%</th>\n",
              "      <td>2.548500</td>\n",
              "      <td>18.000000</td>\n",
              "      <td>4.396633</td>\n",
              "      <td>1.004338</td>\n",
              "      <td>781.000000</td>\n",
              "      <td>2.435365</td>\n",
              "      <td>33.93000</td>\n",
              "      <td>-121.69000</td>\n",
              "      <td>1.192750</td>\n",
              "    </tr>\n",
              "    <tr>\n",
              "      <th>50%</th>\n",
              "      <td>3.500000</td>\n",
              "      <td>29.000000</td>\n",
              "      <td>5.192764</td>\n",
              "      <td>1.046715</td>\n",
              "      <td>1160.000000</td>\n",
              "      <td>2.823586</td>\n",
              "      <td>34.23000</td>\n",
              "      <td>-118.47000</td>\n",
              "      <td>1.786500</td>\n",
              "    </tr>\n",
              "    <tr>\n",
              "      <th>75%</th>\n",
              "      <td>4.645925</td>\n",
              "      <td>37.000000</td>\n",
              "      <td>6.008889</td>\n",
              "      <td>1.095908</td>\n",
              "      <td>1722.000000</td>\n",
              "      <td>3.289374</td>\n",
              "      <td>37.70000</td>\n",
              "      <td>-117.99000</td>\n",
              "      <td>2.630000</td>\n",
              "    </tr>\n",
              "    <tr>\n",
              "      <th>max</th>\n",
              "      <td>15.000100</td>\n",
              "      <td>52.000000</td>\n",
              "      <td>132.533333</td>\n",
              "      <td>34.066667</td>\n",
              "      <td>16122.000000</td>\n",
              "      <td>83.171429</td>\n",
              "      <td>41.81000</td>\n",
              "      <td>-114.58000</td>\n",
              "      <td>5.000010</td>\n",
              "    </tr>\n",
              "  </tbody>\n",
              "</table>\n",
              "</div>"
            ],
            "text/plain": [
              "            MedInc     HouseAge     AveRooms    AveBedrms    Population  \\\n",
              "count  4128.000000  4128.000000  4128.000000  4128.000000   4128.000000   \n",
              "mean      3.830338    28.764293     5.404059     1.096637   1421.571705   \n",
              "std       1.881515    12.518304     2.794717     0.610196   1114.023136   \n",
              "min       0.499900     1.000000     0.846154     0.500000      8.000000   \n",
              "25%       2.548500    18.000000     4.396633     1.004338    781.000000   \n",
              "50%       3.500000    29.000000     5.192764     1.046715   1160.000000   \n",
              "75%       4.645925    37.000000     6.008889     1.095908   1722.000000   \n",
              "max      15.000100    52.000000   132.533333    34.066667  16122.000000   \n",
              "\n",
              "          AveOccup    Latitude   Longitude  house_price  \n",
              "count  4128.000000  4128.00000  4128.00000  4128.000000  \n",
              "mean      2.965431    35.58671  -119.51936     2.055003  \n",
              "std       1.753316     2.13276     1.99447     1.144870  \n",
              "min       1.263566    32.54000  -124.19000     0.149990  \n",
              "25%       2.435365    33.93000  -121.69000     1.192750  \n",
              "50%       2.823586    34.23000  -118.47000     1.786500  \n",
              "75%       3.289374    37.70000  -117.99000     2.630000  \n",
              "max      83.171429    41.81000  -114.58000     5.000010  "
            ]
          },
          "execution_count": 16,
          "metadata": {},
          "output_type": "execute_result"
        }
      ],
      "source": [
        "test_clfr.describe()"
      ]
    },
    {
      "cell_type": "code",
      "execution_count": null,
      "id": "d07f2921",
      "metadata": {
        "id": "d07f2921"
      },
      "outputs": [],
      "source": [
        "def check_plot(df_california,distribusi_kolom):\n",
        "\n",
        "    for i in distribusi_kolom:\n",
        "\n",
        "    # tentukan ukuran gambar\n",
        "        plt.figure(figsize=(16, 4))\n",
        "\n",
        "        # histogram\n",
        "        plt.subplot(1, 3, 1)\n",
        "        sns.histplot(df_california[i], bins=30)\n",
        "        plt.title('Histogram')\n",
        "\n",
        "    # plot Q-Q\n",
        "        plt.subplot(1, 3, 2)\n",
        "        stats.probplot(df_california[i], dist=\"norm\", plot=plt)\n",
        "        plt.ylabel('Variable quantiles')\n",
        "\n",
        "    # box plot\n",
        "        plt.subplot(1, 3, 3)\n",
        "        sns.boxplot(y=df_california[i])\n",
        "        plt.title('Boxplot')\n",
        "\n",
        "        plt.show()\n"
      ]
    },
    {
      "cell_type": "code",
      "execution_count": null,
      "id": "b0570cdc",
      "metadata": {
        "id": "b0570cdc",
        "outputId": "a3272bf9-314c-403a-cadd-929d7d3c4110"
      },
      "outputs": [
        {
          "data": {
            "image/png": "[encoded data removed]",
            "text/plain": [
              "<Figure size 1152x288 with 3 Axes>"
            ]
          },
          "metadata": {
            "needs_background": "light"
          },
          "output_type": "display_data"
        },
        {
          "data": {
            "image/png": "[encoded data removed]",
            "text/plain": [
              "<Figure size 1152x288 with 3 Axes>"
            ]
          },
          "metadata": {
            "needs_background": "light"
          },
          "output_type": "display_data"
        },
        {
          "data": {
            "image/png": "[encoded data removed]",
            "text/plain": [
              "<Figure size 1152x288 with 3 Axes>"
            ]
          },
          "metadata": {
            "needs_background": "light"
          },
          "output_type": "display_data"
        },
        {
          "data": {
            "image/png": "[encoded data removed]",
            "text/plain": [
              "<Figure size 1152x288 with 3 Axes>"
            ]
          },
          "metadata": {
            "needs_background": "light"
          },
          "output_type": "display_data"
        },
        {
          "data": {
            "image/png": "[encoded data removed]",
            "text/plain": [
              "<Figure size 1152x288 with 3 Axes>"
            ]
          },
          "metadata": {
            "needs_background": "light"
          },
          "output_type": "display_data"
        }
      ],
      "source": [
        "data = ['MedInc', 'HouseAge', 'AveRooms', 'AveBedrms', 'AveOccup']\n",
        "\n",
        "check_plot(train_clfr, data)"
      ]
    },
    {
      "cell_type": "code",
      "execution_count": null,
      "id": "24121f98",
      "metadata": {
        "id": "24121f98"
      },
      "outputs": [],
      "source": [
        "def find_outlier_boundary(df_california,variabel):\n",
        "\n",
        "    IQR = df_california[variabel].quantile(0.75) - df_california[variabel].quantile(0.25)\n",
        "\n",
        "    lower_boundary = df_california[variabel].quantile(0.25) - (IQR * 1.5)\n",
        "    upper_boundary = df_california[variabel].quantile(0.75) + (IQR * 1.5)\n",
        "\n",
        "    return upper_boundary, lower_boundary"
      ]
    },
    {
      "cell_type": "code",
      "execution_count": null,
      "id": "869b01db",
      "metadata": {
        "id": "869b01db",
        "outputId": "276cefa0-1882-4274-8b25-c6e737adb941"
      },
      "outputs": [
        {
          "name": "stdout",
          "output_type": "stream",
          "text": [
            "MedInc\n",
            "HouseAge\n",
            "AveRooms\n",
            "AveBedrms\n",
            "Population\n",
            "AveOccup\n",
            "Latitude\n",
            "Longitude\n",
            "house_price\n"
          ]
        }
      ],
      "source": [
        "for col in train_clfr.columns:\n",
        "  print(col)"
      ]
    },
    {
      "cell_type": "code",
      "execution_count": null,
      "id": "5ee8754d",
      "metadata": {
        "id": "5ee8754d",
        "outputId": "9eb54ff2-644a-4a19-f992-b60819835caf"
      },
      "outputs": [
        {
          "data": {
            "text/plain": [
              "(8.474509781463325, 2.0385818023548827)"
            ]
          },
          "execution_count": 21,
          "metadata": {},
          "output_type": "execute_result"
        }
      ],
      "source": [
        "# batas untuk AveRooms\n",
        "\n",
        "occup_upper_limit, occup_lower_limit = find_outlier_boundary(train_clfr, 'AveRooms')\n",
        "occup_upper_limit, occup_lower_limit"
      ]
    },
    {
      "cell_type": "code",
      "execution_count": null,
      "id": "08a17fed",
      "metadata": {
        "id": "08a17fed",
        "outputId": "77347e98-7464-45c9-9f4c-66a380dbe799"
      },
      "outputs": [
        {
          "data": {
            "text/plain": [
              "(16512, 9)"
            ]
          },
          "execution_count": 22,
          "metadata": {},
          "output_type": "execute_result"
        }
      ],
      "source": [
        "#before trimming\n",
        "train_clfr.shape"
      ]
    },
    {
      "cell_type": "code",
      "execution_count": null,
      "id": "4adb228d",
      "metadata": {
        "id": "4adb228d"
      },
      "outputs": [],
      "source": [
        "# Trimming atau drop value outlier -> pengurangan baris\n",
        "# Trimming outliers from the training data\n",
        "train_clfr = train_clfr[(train_clfr['AveRooms'] <= occup_upper_limit) & (train_clfr['AveRooms'] >= occup_lower_limit)]"
      ]
    },
    {
      "cell_type": "code",
      "execution_count": null,
      "id": "02cd7058",
      "metadata": {
        "id": "02cd7058",
        "outputId": "114fac18-5388-416e-8d4d-30154e601dc3"
      },
      "outputs": [
        {
          "data": {
            "text/plain": [
              "(16102, 9)"
            ]
          },
          "execution_count": 24,
          "metadata": {},
          "output_type": "execute_result"
        }
      ],
      "source": [
        "#after trimming\n",
        "train_clfr.shape"
      ]
    },
    {
      "cell_type": "code",
      "execution_count": null,
      "id": "95cd2564",
      "metadata": {
        "id": "95cd2564",
        "outputId": "1f1bc158-24be-4fe4-fd4e-7e6d5e81edd3"
      },
      "outputs": [
        {
          "data": {
            "image/png": "[encoded data removed]",
            "text/plain": [
              "<Figure size 1152x288 with 3 Axes>"
            ]
          },
          "metadata": {
            "needs_background": "light"
          },
          "output_type": "display_data"
        }
      ],
      "source": [
        "check_plot(train_clfr, ['AveRooms'])"
      ]
    },
    {
      "cell_type": "markdown",
      "id": "8a97baae",
      "metadata": {
        "id": "8a97baae"
      },
      "source": [
        "### for EDA"
      ]
    },
    {
      "cell_type": "code",
      "execution_count": null,
      "id": "84235ef4",
      "metadata": {
        "id": "84235ef4"
      },
      "outputs": [],
      "source": [
        "data_calif = df_california.copy()"
      ]
    },
    {
      "cell_type": "code",
      "execution_count": null,
      "id": "f40987e2",
      "metadata": {
        "id": "f40987e2",
        "outputId": "b1d346f9-f72b-451c-a9f3-cac3278cb868"
      },
      "outputs": [
        {
          "data": {
            "image/png": "[encoded data removed]",
            "text/plain": [
              "<Figure size 1152x288 with 3 Axes>"
            ]
          },
          "metadata": {
            "needs_background": "light"
          },
          "output_type": "display_data"
        }
      ],
      "source": [
        "check_plot(data_calif,['AveRooms'])"
      ]
    },
    {
      "cell_type": "code",
      "execution_count": null,
      "id": "d9cd7c2d",
      "metadata": {
        "id": "d9cd7c2d",
        "outputId": "663fb265-1827-4dcf-8055-40b235a97c19"
      },
      "outputs": [
        {
          "data": {
            "text/plain": [
              "(8.469878027106942, 2.023219161170969)"
            ]
          },
          "execution_count": 28,
          "metadata": {},
          "output_type": "execute_result"
        }
      ],
      "source": [
        "full_occup_upper_limit, full_occup_lower_limit = find_outlier_boundary(data_calif, 'AveRooms')\n",
        "full_occup_upper_limit, full_occup_lower_limit"
      ]
    },
    {
      "cell_type": "code",
      "execution_count": null,
      "id": "2d70557e",
      "metadata": {
        "id": "2d70557e",
        "outputId": "a3561ad6-1700-4b09-95da-0fedc626f33a"
      },
      "outputs": [
        {
          "data": {
            "text/plain": [
              "(20640, 9)"
            ]
          },
          "execution_count": 29,
          "metadata": {},
          "output_type": "execute_result"
        }
      ],
      "source": [
        "#before timming\n",
        "data_calif.shape"
      ]
    },
    {
      "cell_type": "code",
      "execution_count": null,
      "id": "4886ca38",
      "metadata": {
        "id": "4886ca38"
      },
      "outputs": [],
      "source": [
        "# Trimming atau drop value outlier -> pengurangan baris\n",
        "data_calif = data_calif[(data_calif['AveRooms'] <= occup_upper_limit) & (data_calif['AveRooms'] >= occup_lower_limit)]"
      ]
    },
    {
      "cell_type": "code",
      "execution_count": null,
      "id": "f97d1df7",
      "metadata": {
        "id": "f97d1df7",
        "outputId": "91546cb6-7e0a-4130-baae-95d28ab8f636"
      },
      "outputs": [
        {
          "data": {
            "text/plain": [
              "(20130, 9)"
            ]
          },
          "execution_count": 31,
          "metadata": {},
          "output_type": "execute_result"
        }
      ],
      "source": [
        "#after timming\n",
        "data_calif.shape"
      ]
    },
    {
      "cell_type": "code",
      "execution_count": null,
      "id": "bfc54d88",
      "metadata": {
        "id": "bfc54d88",
        "outputId": "dc3fbdf8-4e64-4b30-9858-041c0ab608a9"
      },
      "outputs": [
        {
          "data": {
            "image/png": "[encoded data removed]",
            "text/plain": [
              "<Figure size 1152x288 with 3 Axes>"
            ]
          },
          "metadata": {
            "needs_background": "light"
          },
          "output_type": "display_data"
        }
      ],
      "source": [
        "check_plot(data_calif,['AveRooms'])"
      ]
    },
    {
      "cell_type": "markdown",
      "id": "fc1aa5a8",
      "metadata": {
        "id": "fc1aa5a8"
      },
      "source": [
        "## Handling Missing Values"
      ]
    },
    {
      "cell_type": "code",
      "execution_count": null,
      "id": "6288c612",
      "metadata": {
        "id": "6288c612"
      },
      "outputs": [],
      "source": [
        "df_company = pd.read_csv('company.csv')"
      ]
    },
    {
      "cell_type": "code",
      "execution_count": null,
      "id": "749fe805",
      "metadata": {
        "id": "749fe805",
        "outputId": "f23f9c5c-b52c-4965-a8c4-918533b42915"
      },
      "outputs": [
        {
          "data": {
            "text/html": [
              "<div>\n",
              "<style scoped>\n",
              "    .dataframe tbody tr th:only-of-type {\n",
              "        vertical-align: middle;\n",
              "    }\n",
              "\n",
              "    .dataframe tbody tr th {\n",
              "        vertical-align: top;\n",
              "    }\n",
              "\n",
              "    .dataframe thead th {\n",
              "        text-align: right;\n",
              "    }\n",
              "</style>\n",
              "<table border=\"1\" class=\"dataframe\">\n",
              "  <thead>\n",
              "    <tr style=\"text-align: right;\">\n",
              "      <th></th>\n",
              "      <th>Revenue</th>\n",
              "      <th>Size</th>\n",
              "      <th>Rating</th>\n",
              "      <th>Headquarters</th>\n",
              "    </tr>\n",
              "  </thead>\n",
              "  <tbody>\n",
              "    <tr>\n",
              "      <th>0</th>\n",
              "      <td>Unknown / Non-Applicable</td>\n",
              "      <td>1001 to 5000 employees</td>\n",
              "      <td>NaN</td>\n",
              "      <td>New York, NY</td>\n",
              "    </tr>\n",
              "    <tr>\n",
              "      <th>1</th>\n",
              "      <td>$1 to $2 billion (USD)</td>\n",
              "      <td>5001 to 10000 employees</td>\n",
              "      <td>4.2</td>\n",
              "      <td>Herndon, VA</td>\n",
              "    </tr>\n",
              "    <tr>\n",
              "      <th>2</th>\n",
              "      <td>$100 to $500 million (USD)</td>\n",
              "      <td>1001 to 5000 employees</td>\n",
              "      <td>3.8</td>\n",
              "      <td>Boston, MA</td>\n",
              "    </tr>\n",
              "    <tr>\n",
              "      <th>3</th>\n",
              "      <td>$100 to $500 million (USD)</td>\n",
              "      <td>501 to 1000 employees</td>\n",
              "      <td>3.5</td>\n",
              "      <td>Bad Ragaz, Switzerland</td>\n",
              "    </tr>\n",
              "    <tr>\n",
              "      <th>4</th>\n",
              "      <td>Unknown / Non-Applicable</td>\n",
              "      <td>51 to 200 employees</td>\n",
              "      <td>2.9</td>\n",
              "      <td>New York, NY</td>\n",
              "    </tr>\n",
              "  </tbody>\n",
              "</table>\n",
              "</div>"
            ],
            "text/plain": [
              "                      Revenue                     Size  Rating  \\\n",
              "0    Unknown / Non-Applicable   1001 to 5000 employees     NaN   \n",
              "1      $1 to $2 billion (USD)  5001 to 10000 employees     4.2   \n",
              "2  $100 to $500 million (USD)   1001 to 5000 employees     3.8   \n",
              "3  $100 to $500 million (USD)    501 to 1000 employees     3.5   \n",
              "4    Unknown / Non-Applicable      51 to 200 employees     2.9   \n",
              "\n",
              "             Headquarters  \n",
              "0            New York, NY  \n",
              "1             Herndon, VA  \n",
              "2              Boston, MA  \n",
              "3  Bad Ragaz, Switzerland  \n",
              "4            New York, NY  "
            ]
          },
          "execution_count": 34,
          "metadata": {},
          "output_type": "execute_result"
        }
      ],
      "source": [
        "df_company.head()"
      ]
    },
    {
      "cell_type": "markdown",
      "id": "d3df465b",
      "metadata": {
        "id": "d3df465b"
      },
      "source": [
        "#### identifikasi missing data"
      ]
    },
    {
      "cell_type": "code",
      "execution_count": null,
      "id": "d1dbc0f5",
      "metadata": {
        "id": "d1dbc0f5",
        "outputId": "0d0e1d03-c0f2-4d78-9953-d443614ea9a6"
      },
      "outputs": [
        {
          "data": {
            "text/plain": [
              "(672, 4)"
            ]
          },
          "execution_count": 35,
          "metadata": {},
          "output_type": "execute_result"
        }
      ],
      "source": [
        "df_company.shape"
      ]
    },
    {
      "cell_type": "code",
      "execution_count": null,
      "id": "be29bb67",
      "metadata": {
        "id": "be29bb67",
        "outputId": "8502215d-d1fc-4abe-c94f-43b2465f16d7"
      },
      "outputs": [
        {
          "data": {
            "text/plain": [
              "Revenue          0\n",
              "Size             0\n",
              "Rating          50\n",
              "Headquarters     0\n",
              "dtype: int64"
            ]
          },
          "execution_count": 36,
          "metadata": {},
          "output_type": "execute_result"
        }
      ],
      "source": [
        "df_company.isna().sum()"
      ]
    },
    {
      "cell_type": "code",
      "execution_count": null,
      "id": "eef50206",
      "metadata": {
        "id": "eef50206",
        "outputId": "e143fff9-4e98-4b2d-94f6-1d567071b6ea"
      },
      "outputs": [
        {
          "data": {
            "text/plain": [
              "Revenue          0\n",
              "Size             0\n",
              "Rating          50\n",
              "Headquarters     0\n",
              "dtype: int64"
            ]
          },
          "execution_count": 37,
          "metadata": {},
          "output_type": "execute_result"
        }
      ],
      "source": [
        "df_company.isnull().sum()"
      ]
    },
    {
      "cell_type": "code",
      "execution_count": null,
      "id": "106adf4f",
      "metadata": {
        "id": "106adf4f",
        "outputId": "9ef323e7-e246-46b3-e279-a6d4ce334cd0"
      },
      "outputs": [
        {
          "data": {
            "text/html": [
              "<div>\n",
              "<style scoped>\n",
              "    .dataframe tbody tr th:only-of-type {\n",
              "        vertical-align: middle;\n",
              "    }\n",
              "\n",
              "    .dataframe tbody tr th {\n",
              "        vertical-align: top;\n",
              "    }\n",
              "\n",
              "    .dataframe thead th {\n",
              "        text-align: right;\n",
              "    }\n",
              "</style>\n",
              "<table border=\"1\" class=\"dataframe\">\n",
              "  <thead>\n",
              "    <tr style=\"text-align: right;\">\n",
              "      <th></th>\n",
              "      <th>Revenue</th>\n",
              "      <th>Size</th>\n",
              "      <th>Rating</th>\n",
              "      <th>Headquarters</th>\n",
              "    </tr>\n",
              "  </thead>\n",
              "  <tbody>\n",
              "    <tr>\n",
              "      <th>0</th>\n",
              "      <td>Unknown / Non-Applicable</td>\n",
              "      <td>1001 to 5000 employees</td>\n",
              "      <td>NaN</td>\n",
              "      <td>New York, NY</td>\n",
              "    </tr>\n",
              "    <tr>\n",
              "      <th>7</th>\n",
              "      <td>$1 to $2 billion (USD)</td>\n",
              "      <td>1001 to 5000 employees</td>\n",
              "      <td>NaN</td>\n",
              "      <td>Bedford, MA</td>\n",
              "    </tr>\n",
              "    <tr>\n",
              "      <th>82</th>\n",
              "      <td>$25 to $50 million (USD)</td>\n",
              "      <td>51 to 200 employees</td>\n",
              "      <td>NaN</td>\n",
              "      <td>Minneapolis, MN</td>\n",
              "    </tr>\n",
              "    <tr>\n",
              "      <th>84</th>\n",
              "      <td>$25 to $50 million (USD)</td>\n",
              "      <td>51 to 200 employees</td>\n",
              "      <td>NaN</td>\n",
              "      <td>Austin, TX</td>\n",
              "    </tr>\n",
              "    <tr>\n",
              "      <th>92</th>\n",
              "      <td>$1 to $2 billion (USD)</td>\n",
              "      <td>5001 to 10000 employees</td>\n",
              "      <td>NaN</td>\n",
              "      <td>Herndon, VA</td>\n",
              "    </tr>\n",
              "    <tr>\n",
              "      <th>108</th>\n",
              "      <td>Unknown / Non-Applicable</td>\n",
              "      <td>10000+ employees</td>\n",
              "      <td>NaN</td>\n",
              "      <td>Palo Alto, CA</td>\n",
              "    </tr>\n",
              "    <tr>\n",
              "      <th>116</th>\n",
              "      <td>$5 to $10 million (USD)</td>\n",
              "      <td>51 to 200 employees</td>\n",
              "      <td>NaN</td>\n",
              "      <td>Annapolis Junction, MD</td>\n",
              "    </tr>\n",
              "    <tr>\n",
              "      <th>129</th>\n",
              "      <td>$2 to $5 billion (USD)</td>\n",
              "      <td>5001 to 10000 employees</td>\n",
              "      <td>NaN</td>\n",
              "      <td>Sunnyvale, CA</td>\n",
              "    </tr>\n",
              "    <tr>\n",
              "      <th>134</th>\n",
              "      <td>Unknown / Non-Applicable</td>\n",
              "      <td>51 to 200 employees</td>\n",
              "      <td>NaN</td>\n",
              "      <td>San Francisco, CA</td>\n",
              "    </tr>\n",
              "    <tr>\n",
              "      <th>136</th>\n",
              "      <td>$50 to $100 million (USD)</td>\n",
              "      <td>201 to 500 employees</td>\n",
              "      <td>NaN</td>\n",
              "      <td>Lehi, UT</td>\n",
              "    </tr>\n",
              "    <tr>\n",
              "      <th>145</th>\n",
              "      <td>$100 to $500 million (USD)</td>\n",
              "      <td>501 to 1000 employees</td>\n",
              "      <td>NaN</td>\n",
              "      <td>Bethesda, MD</td>\n",
              "    </tr>\n",
              "    <tr>\n",
              "      <th>179</th>\n",
              "      <td>$50 to $100 million (USD)</td>\n",
              "      <td>501 to 1000 employees</td>\n",
              "      <td>NaN</td>\n",
              "      <td>Arlington, VA</td>\n",
              "    </tr>\n",
              "    <tr>\n",
              "      <th>209</th>\n",
              "      <td>$1 to $5 million (USD)</td>\n",
              "      <td>1 to 50 employees</td>\n",
              "      <td>NaN</td>\n",
              "      <td>Woodbine, MD</td>\n",
              "    </tr>\n",
              "    <tr>\n",
              "      <th>215</th>\n",
              "      <td>$10+ billion (USD)</td>\n",
              "      <td>10000+ employees</td>\n",
              "      <td>NaN</td>\n",
              "      <td>Cambridge, United Kingdom</td>\n",
              "    </tr>\n",
              "    <tr>\n",
              "      <th>237</th>\n",
              "      <td>$10+ billion (USD)</td>\n",
              "      <td>10000+ employees</td>\n",
              "      <td>NaN</td>\n",
              "      <td>San Jose, CA</td>\n",
              "    </tr>\n",
              "    <tr>\n",
              "      <th>242</th>\n",
              "      <td>$50 to $100 million (USD)</td>\n",
              "      <td>201 to 500 employees</td>\n",
              "      <td>NaN</td>\n",
              "      <td>New York, NY</td>\n",
              "    </tr>\n",
              "    <tr>\n",
              "      <th>254</th>\n",
              "      <td>$50 to $100 million (USD)</td>\n",
              "      <td>201 to 500 employees</td>\n",
              "      <td>NaN</td>\n",
              "      <td>New York, NY</td>\n",
              "    </tr>\n",
              "    <tr>\n",
              "      <th>288</th>\n",
              "      <td>Unknown / Non-Applicable</td>\n",
              "      <td>51 to 200 employees</td>\n",
              "      <td>NaN</td>\n",
              "      <td>Santa Cruz, CA</td>\n",
              "    </tr>\n",
              "    <tr>\n",
              "      <th>306</th>\n",
              "      <td>$10 to $25 million (USD)</td>\n",
              "      <td>201 to 500 employees</td>\n",
              "      <td>NaN</td>\n",
              "      <td>Rockville, MD</td>\n",
              "    </tr>\n",
              "    <tr>\n",
              "      <th>316</th>\n",
              "      <td>$1 to $5 million (USD)</td>\n",
              "      <td>51 to 200 employees</td>\n",
              "      <td>NaN</td>\n",
              "      <td>Pittsburgh, PA</td>\n",
              "    </tr>\n",
              "    <tr>\n",
              "      <th>322</th>\n",
              "      <td>Unknown / Non-Applicable</td>\n",
              "      <td>1 to 50 employees</td>\n",
              "      <td>NaN</td>\n",
              "      <td>Cincinnati, OH</td>\n",
              "    </tr>\n",
              "    <tr>\n",
              "      <th>328</th>\n",
              "      <td>$5 to $10 million (USD)</td>\n",
              "      <td>51 to 200 employees</td>\n",
              "      <td>NaN</td>\n",
              "      <td>Raleigh, NC</td>\n",
              "    </tr>\n",
              "    <tr>\n",
              "      <th>340</th>\n",
              "      <td>$100 to $500 million (USD)</td>\n",
              "      <td>201 to 500 employees</td>\n",
              "      <td>NaN</td>\n",
              "      <td>Carson, CA</td>\n",
              "    </tr>\n",
              "    <tr>\n",
              "      <th>353</th>\n",
              "      <td>Unknown / Non-Applicable</td>\n",
              "      <td>1 to 50 employees</td>\n",
              "      <td>NaN</td>\n",
              "      <td>Cambridge, MA</td>\n",
              "    </tr>\n",
              "    <tr>\n",
              "      <th>360</th>\n",
              "      <td>-1</td>\n",
              "      <td>-1</td>\n",
              "      <td>NaN</td>\n",
              "      <td>-1</td>\n",
              "    </tr>\n",
              "    <tr>\n",
              "      <th>365</th>\n",
              "      <td>$10+ billion (USD)</td>\n",
              "      <td>10000+ employees</td>\n",
              "      <td>NaN</td>\n",
              "      <td>OSAKA, Japan</td>\n",
              "    </tr>\n",
              "    <tr>\n",
              "      <th>366</th>\n",
              "      <td>$2 to $5 billion (USD)</td>\n",
              "      <td>5001 to 10000 employees</td>\n",
              "      <td>NaN</td>\n",
              "      <td>Westminster, CO</td>\n",
              "    </tr>\n",
              "    <tr>\n",
              "      <th>368</th>\n",
              "      <td>Unknown / Non-Applicable</td>\n",
              "      <td>51 to 200 employees</td>\n",
              "      <td>NaN</td>\n",
              "      <td>Danville, CA</td>\n",
              "    </tr>\n",
              "    <tr>\n",
              "      <th>397</th>\n",
              "      <td>$2 to $5 billion (USD)</td>\n",
              "      <td>5001 to 10000 employees</td>\n",
              "      <td>NaN</td>\n",
              "      <td>Westminster, CO</td>\n",
              "    </tr>\n",
              "    <tr>\n",
              "      <th>409</th>\n",
              "      <td>Unknown / Non-Applicable</td>\n",
              "      <td>Unknown</td>\n",
              "      <td>NaN</td>\n",
              "      <td>Half Moon Bay, CA</td>\n",
              "    </tr>\n",
              "    <tr>\n",
              "      <th>412</th>\n",
              "      <td>Unknown / Non-Applicable</td>\n",
              "      <td>1 to 50 employees</td>\n",
              "      <td>NaN</td>\n",
              "      <td>London, United Kingdom</td>\n",
              "    </tr>\n",
              "    <tr>\n",
              "      <th>413</th>\n",
              "      <td>$1 to $5 million (USD)</td>\n",
              "      <td>1 to 50 employees</td>\n",
              "      <td>NaN</td>\n",
              "      <td>Hilliard, OH</td>\n",
              "    </tr>\n",
              "    <tr>\n",
              "      <th>431</th>\n",
              "      <td>Unknown / Non-Applicable</td>\n",
              "      <td>1 to 50 employees</td>\n",
              "      <td>NaN</td>\n",
              "      <td>Cincinnati, OH</td>\n",
              "    </tr>\n",
              "    <tr>\n",
              "      <th>443</th>\n",
              "      <td>$100 to $500 million (USD)</td>\n",
              "      <td>1001 to 5000 employees</td>\n",
              "      <td>NaN</td>\n",
              "      <td>Alexandria, VA</td>\n",
              "    </tr>\n",
              "    <tr>\n",
              "      <th>448</th>\n",
              "      <td>$5 to $10 billion (USD)</td>\n",
              "      <td>10000+ employees</td>\n",
              "      <td>NaN</td>\n",
              "      <td>Edison, NJ</td>\n",
              "    </tr>\n",
              "    <tr>\n",
              "      <th>485</th>\n",
              "      <td>Unknown / Non-Applicable</td>\n",
              "      <td>1 to 50 employees</td>\n",
              "      <td>NaN</td>\n",
              "      <td>Cambridge, MA</td>\n",
              "    </tr>\n",
              "    <tr>\n",
              "      <th>489</th>\n",
              "      <td>$1 to $5 million (USD)</td>\n",
              "      <td>1 to 50 employees</td>\n",
              "      <td>NaN</td>\n",
              "      <td>Aliso Viejo, CA</td>\n",
              "    </tr>\n",
              "    <tr>\n",
              "      <th>492</th>\n",
              "      <td>$100 to $500 million (USD)</td>\n",
              "      <td>201 to 500 employees</td>\n",
              "      <td>NaN</td>\n",
              "      <td>Denver, CO</td>\n",
              "    </tr>\n",
              "    <tr>\n",
              "      <th>498</th>\n",
              "      <td>-1</td>\n",
              "      <td>-1</td>\n",
              "      <td>NaN</td>\n",
              "      <td>-1</td>\n",
              "    </tr>\n",
              "    <tr>\n",
              "      <th>500</th>\n",
              "      <td>-1</td>\n",
              "      <td>-1</td>\n",
              "      <td>NaN</td>\n",
              "      <td>-1</td>\n",
              "    </tr>\n",
              "    <tr>\n",
              "      <th>502</th>\n",
              "      <td>$10 to $25 million (USD)</td>\n",
              "      <td>51 to 200 employees</td>\n",
              "      <td>NaN</td>\n",
              "      <td>Jersey City, NJ</td>\n",
              "    </tr>\n",
              "    <tr>\n",
              "      <th>537</th>\n",
              "      <td>Unknown / Non-Applicable</td>\n",
              "      <td>201 to 500 employees</td>\n",
              "      <td>NaN</td>\n",
              "      <td>Denver, CO</td>\n",
              "    </tr>\n",
              "    <tr>\n",
              "      <th>602</th>\n",
              "      <td>$1 to $2 billion (USD)</td>\n",
              "      <td>5001 to 10000 employees</td>\n",
              "      <td>NaN</td>\n",
              "      <td>Laurel, MD</td>\n",
              "    </tr>\n",
              "    <tr>\n",
              "      <th>604</th>\n",
              "      <td>$1 to $5 million (USD)</td>\n",
              "      <td>1 to 50 employees</td>\n",
              "      <td>NaN</td>\n",
              "      <td>Aliso Viejo, CA</td>\n",
              "    </tr>\n",
              "    <tr>\n",
              "      <th>606</th>\n",
              "      <td>$100 to $500 million (USD)</td>\n",
              "      <td>51 to 200 employees</td>\n",
              "      <td>NaN</td>\n",
              "      <td>Reston, VA</td>\n",
              "    </tr>\n",
              "    <tr>\n",
              "      <th>614</th>\n",
              "      <td>$10+ billion (USD)</td>\n",
              "      <td>10000+ employees</td>\n",
              "      <td>NaN</td>\n",
              "      <td>Bethesda, MD</td>\n",
              "    </tr>\n",
              "    <tr>\n",
              "      <th>628</th>\n",
              "      <td>$100 to $500 million (USD)</td>\n",
              "      <td>1001 to 5000 employees</td>\n",
              "      <td>NaN</td>\n",
              "      <td>Oakville, Canada</td>\n",
              "    </tr>\n",
              "    <tr>\n",
              "      <th>633</th>\n",
              "      <td>$5 to $10 million (USD)</td>\n",
              "      <td>51 to 200 employees</td>\n",
              "      <td>NaN</td>\n",
              "      <td>Fremont, CA</td>\n",
              "    </tr>\n",
              "    <tr>\n",
              "      <th>660</th>\n",
              "      <td>-1</td>\n",
              "      <td>-1</td>\n",
              "      <td>NaN</td>\n",
              "      <td>-1</td>\n",
              "    </tr>\n",
              "    <tr>\n",
              "      <th>671</th>\n",
              "      <td>$1 to $2 billion (USD)</td>\n",
              "      <td>1001 to 5000 employees</td>\n",
              "      <td>NaN</td>\n",
              "      <td>Carle Place, NY</td>\n",
              "    </tr>\n",
              "  </tbody>\n",
              "</table>\n",
              "</div>"
            ],
            "text/plain": [
              "                        Revenue                     Size  Rating  \\\n",
              "0      Unknown / Non-Applicable   1001 to 5000 employees     NaN   \n",
              "7        $1 to $2 billion (USD)   1001 to 5000 employees     NaN   \n",
              "82     $25 to $50 million (USD)      51 to 200 employees     NaN   \n",
              "84     $25 to $50 million (USD)      51 to 200 employees     NaN   \n",
              "92       $1 to $2 billion (USD)  5001 to 10000 employees     NaN   \n",
              "108    Unknown / Non-Applicable         10000+ employees     NaN   \n",
              "116     $5 to $10 million (USD)      51 to 200 employees     NaN   \n",
              "129      $2 to $5 billion (USD)  5001 to 10000 employees     NaN   \n",
              "134    Unknown / Non-Applicable      51 to 200 employees     NaN   \n",
              "136   $50 to $100 million (USD)     201 to 500 employees     NaN   \n",
              "145  $100 to $500 million (USD)    501 to 1000 employees     NaN   \n",
              "179   $50 to $100 million (USD)    501 to 1000 employees     NaN   \n",
              "209      $1 to $5 million (USD)        1 to 50 employees     NaN   \n",
              "215          $10+ billion (USD)         10000+ employees     NaN   \n",
              "237          $10+ billion (USD)         10000+ employees     NaN   \n",
              "242   $50 to $100 million (USD)     201 to 500 employees     NaN   \n",
              "254   $50 to $100 million (USD)     201 to 500 employees     NaN   \n",
              "288    Unknown / Non-Applicable      51 to 200 employees     NaN   \n",
              "306    $10 to $25 million (USD)     201 to 500 employees     NaN   \n",
              "316      $1 to $5 million (USD)      51 to 200 employees     NaN   \n",
              "322    Unknown / Non-Applicable        1 to 50 employees     NaN   \n",
              "328     $5 to $10 million (USD)      51 to 200 employees     NaN   \n",
              "340  $100 to $500 million (USD)     201 to 500 employees     NaN   \n",
              "353    Unknown / Non-Applicable        1 to 50 employees     NaN   \n",
              "360                          -1                       -1     NaN   \n",
              "365          $10+ billion (USD)         10000+ employees     NaN   \n",
              "366      $2 to $5 billion (USD)  5001 to 10000 employees     NaN   \n",
              "368    Unknown / Non-Applicable      51 to 200 employees     NaN   \n",
              "397      $2 to $5 billion (USD)  5001 to 10000 employees     NaN   \n",
              "409    Unknown / Non-Applicable                  Unknown     NaN   \n",
              "412    Unknown / Non-Applicable        1 to 50 employees     NaN   \n",
              "413      $1 to $5 million (USD)        1 to 50 employees     NaN   \n",
              "431    Unknown / Non-Applicable        1 to 50 employees     NaN   \n",
              "443  $100 to $500 million (USD)   1001 to 5000 employees     NaN   \n",
              "448     $5 to $10 billion (USD)         10000+ employees     NaN   \n",
              "485    Unknown / Non-Applicable        1 to 50 employees     NaN   \n",
              "489      $1 to $5 million (USD)        1 to 50 employees     NaN   \n",
              "492  $100 to $500 million (USD)     201 to 500 employees     NaN   \n",
              "498                          -1                       -1     NaN   \n",
              "500                          -1                       -1     NaN   \n",
              "502    $10 to $25 million (USD)      51 to 200 employees     NaN   \n",
              "537    Unknown / Non-Applicable     201 to 500 employees     NaN   \n",
              "602      $1 to $2 billion (USD)  5001 to 10000 employees     NaN   \n",
              "604      $1 to $5 million (USD)        1 to 50 employees     NaN   \n",
              "606  $100 to $500 million (USD)      51 to 200 employees     NaN   \n",
              "614          $10+ billion (USD)         10000+ employees     NaN   \n",
              "628  $100 to $500 million (USD)   1001 to 5000 employees     NaN   \n",
              "633     $5 to $10 million (USD)      51 to 200 employees     NaN   \n",
              "660                          -1                       -1     NaN   \n",
              "671      $1 to $2 billion (USD)   1001 to 5000 employees     NaN   \n",
              "\n",
              "                  Headquarters  \n",
              "0                 New York, NY  \n",
              "7                  Bedford, MA  \n",
              "82             Minneapolis, MN  \n",
              "84                  Austin, TX  \n",
              "92                 Herndon, VA  \n",
              "108              Palo Alto, CA  \n",
              "116     Annapolis Junction, MD  \n",
              "129              Sunnyvale, CA  \n",
              "134          San Francisco, CA  \n",
              "136                   Lehi, UT  \n",
              "145               Bethesda, MD  \n",
              "179              Arlington, VA  \n",
              "209               Woodbine, MD  \n",
              "215  Cambridge, United Kingdom  \n",
              "237               San Jose, CA  \n",
              "242               New York, NY  \n",
              "254               New York, NY  \n",
              "288             Santa Cruz, CA  \n",
              "306              Rockville, MD  \n",
              "316             Pittsburgh, PA  \n",
              "322             Cincinnati, OH  \n",
              "328                Raleigh, NC  \n",
              "340                 Carson, CA  \n",
              "353              Cambridge, MA  \n",
              "360                         -1  \n",
              "365               OSAKA, Japan  \n",
              "366            Westminster, CO  \n",
              "368               Danville, CA  \n",
              "397            Westminster, CO  \n",
              "409          Half Moon Bay, CA  \n",
              "412     London, United Kingdom  \n",
              "413               Hilliard, OH  \n",
              "431             Cincinnati, OH  \n",
              "443             Alexandria, VA  \n",
              "448                 Edison, NJ  \n",
              "485              Cambridge, MA  \n",
              "489            Aliso Viejo, CA  \n",
              "492                 Denver, CO  \n",
              "498                         -1  \n",
              "500                         -1  \n",
              "502            Jersey City, NJ  \n",
              "537                 Denver, CO  \n",
              "602                 Laurel, MD  \n",
              "604            Aliso Viejo, CA  \n",
              "606                 Reston, VA  \n",
              "614               Bethesda, MD  \n",
              "628           Oakville, Canada  \n",
              "633                Fremont, CA  \n",
              "660                         -1  \n",
              "671            Carle Place, NY  "
            ]
          },
          "execution_count": 38,
          "metadata": {},
          "output_type": "execute_result"
        }
      ],
      "source": [
        "df_company[df_company.isna().any(axis=1)]"
      ]
    },
    {
      "cell_type": "code",
      "execution_count": null,
      "id": "914b0131",
      "metadata": {
        "id": "914b0131",
        "outputId": "0241ad5d-5292-4476-bda5-a7d085c0ac58"
      },
      "outputs": [
        {
          "name": "stdout",
          "output_type": "stream",
          "text": [
            "============= Revenue =================\n"
          ]
        },
        {
          "data": {
            "text/plain": [
              "Unknown / Non-Applicable            213\n",
              "$100 to $500 million (USD)           94\n",
              "$10+ billion (USD)                   63\n",
              "$2 to $5 billion (USD)               45\n",
              "$10 to $25 million (USD)             41\n",
              "$1 to $2 billion (USD)               36\n",
              "$25 to $50 million (USD)             36\n",
              "$1 to $5 million (USD)               31\n",
              "$50 to $100 million (USD)            31\n",
              "-1                                   27\n",
              "$500 million to $1 billion (USD)     19\n",
              "Less than $1 million (USD)           14\n",
              "$5 to $10 million (USD)              14\n",
              "$5 to $10 billion (USD)               8\n",
              "Name: Revenue, dtype: int64"
            ]
          },
          "metadata": {},
          "output_type": "display_data"
        },
        {
          "name": "stdout",
          "output_type": "stream",
          "text": [
            "\n",
            "============= Size =================\n"
          ]
        },
        {
          "data": {
            "text/plain": [
              "51 to 200 employees        135\n",
              "1001 to 5000 employees     104\n",
              "1 to 50 employees           86\n",
              "201 to 500 employees        85\n",
              "10000+ employees            80\n",
              "501 to 1000 employees       77\n",
              "5001 to 10000 employees     61\n",
              "-1                          27\n",
              "Unknown                     17\n",
              "Name: Size, dtype: int64"
            ]
          },
          "metadata": {},
          "output_type": "display_data"
        },
        {
          "name": "stdout",
          "output_type": "stream",
          "text": [
            "\n",
            "============= Rating =================\n"
          ]
        },
        {
          "data": {
            "text/plain": [
              " 3.5    52\n",
              "-1.0    43\n",
              " 3.9    39\n",
              " 3.3    39\n",
              " 4.0    38\n",
              " 3.7    37\n",
              " 3.8    35\n",
              " 5.0    34\n",
              " 4.5    31\n",
              " 3.6    30\n",
              " 4.2    28\n",
              " 3.4    27\n",
              " 4.4    23\n",
              " 4.1    23\n",
              " 4.8    20\n",
              " 4.7    20\n",
              " 3.2    19\n",
              " 2.9    14\n",
              " 4.6    12\n",
              " 4.3    11\n",
              " 3.1    10\n",
              " 2.7     9\n",
              " 4.9     8\n",
              " 3.0     6\n",
              " 2.6     4\n",
              " 2.8     3\n",
              " 2.5     2\n",
              " 2.3     1\n",
              " 2.2     1\n",
              " 2.4     1\n",
              " 2.0     1\n",
              " 2.1     1\n",
              "Name: Rating, dtype: int64"
            ]
          },
          "metadata": {},
          "output_type": "display_data"
        },
        {
          "name": "stdout",
          "output_type": "stream",
          "text": [
            "\n",
            "============= Headquarters =================\n"
          ]
        },
        {
          "data": {
            "text/plain": [
              "New York, NY                 33\n",
              "-1                           31\n",
              "San Francisco, CA            31\n",
              "Chicago, IL                  23\n",
              "Boston, MA                   19\n",
              "Reston, VA                   14\n",
              "Mc Lean, VA                  13\n",
              "Westminster, CO              12\n",
              "Cambridge, MA                10\n",
              "Cambridge, United Kingdom    10\n",
              "Vienna, VA                    8\n",
              "San Jose, CA                  7\n",
              "Woodbine, MD                  7\n",
              "Bedford, MA                   7\n",
              "Herndon, VA                   7\n",
              "Saint Louis, MO               7\n",
              "Washington, DC                7\n",
              "Arlington, VA                 7\n",
              "Denver, CO                    7\n",
              "Mountain View, CA             6\n",
              "Chantilly, VA                 6\n",
              "San Rafael, CA                6\n",
              "San Antonio, TX               6\n",
              "Basel, Switzerland            6\n",
              "Fairfax, VA                   5\n",
              "Bellevue, WA                  5\n",
              "Houston, TX                   5\n",
              "Bethesda, MD                  5\n",
              "Springfield, MA               5\n",
              "Rockville, MD                 5\n",
              "Los Angeles, CA               5\n",
              "Princeton, NJ                 5\n",
              "Pittsburgh, PA                5\n",
              "Austin, TX                    4\n",
              "Raleigh, NC                   4\n",
              "Memphis, TN                   4\n",
              "Cedar Rapids, IA              4\n",
              "Orlando, FL                   4\n",
              "McLean, VA                    4\n",
              "Pleasanton, CA                4\n",
              "South San Francisco, CA       4\n",
              "Palo Alto, CA                 4\n",
              "Santa Cruz, CA                4\n",
              "San Diego, CA                 4\n",
              "Santa Clara, CA               4\n",
              "Aliso Viejo, CA               4\n",
              "Falls Church, VA              4\n",
              "Annapolis Junction, MD        4\n",
              "Seattle, WA                   3\n",
              "Laurel, MD                    3\n",
              "Hartford, CT                  3\n",
              "Richland, WA                  3\n",
              "Columbus, OH                  3\n",
              "Atlanta, GA                   3\n",
              "Maple Plain, MN               3\n",
              "Folsom, CA                    3\n",
              "Jersey City, NJ               3\n",
              "Alexandria, VA                3\n",
              "Carson, CA                    3\n",
              "Woburn, MA                    3\n",
              "Minneapolis, MN               3\n",
              "Lincoln, NE                   3\n",
              "Hillsborough, NJ              3\n",
              "Sunnyvale, CA                 3\n",
              "Naperville, IL                3\n",
              "Westlake Village, CA          3\n",
              "Indianapolis, IN              3\n",
              "Paris, France                 3\n",
              "Winter Park, FL               3\n",
              "Greenville, SC                2\n",
              "OSAKA, Japan                  2\n",
              "Winston-Salem, NC             2\n",
              "Plainsboro, NJ                2\n",
              "Northbrook, IL                2\n",
              "Kent, WA                      2\n",
              "Huntsville, AL                2\n",
              "Kent, OH                      2\n",
              "Santa Barbara, CA             2\n",
              "Stamford, CT                  2\n",
              "Columbia, MD                  2\n",
              "Holmdel, NJ                   2\n",
              "New York, 061                 2\n",
              "Hamilton, Bermuda             2\n",
              "Sheboygan, WI                 2\n",
              "Fairmont, WV                  2\n",
              "Cincinnati, OH                2\n",
              "Lorton, VA                    2\n",
              "Saint Paul, MN                2\n",
              "Brentford, United Kingdom     2\n",
              "Fort Worth, TX                2\n",
              "North Brunswick, NJ           2\n",
              "Kansas City, MO               2\n",
              "Singapore, Singapore          2\n",
              "San Ramon, CA                 2\n",
              "Wilmington, MA                2\n",
              "Somerset, NJ                  2\n",
              "Germantown, MD                2\n",
              "Coconut Creek, FL             2\n",
              "Cupertino, CA                 2\n",
              "Fremont, CA                   2\n",
              "Scotts Valley, CA             2\n",
              "San Mateo, CA                 2\n",
              "Emeryville, CA                2\n",
              "Lehi, UT                      2\n",
              "Lexington, MA                 2\n",
              "Waltham, MA                   2\n",
              "Irvine, CA                    2\n",
              "Lynchburg, VA                 2\n",
              "Baltimore, MD                 2\n",
              "South Jordan, UT              2\n",
              "London, United Kingdom        2\n",
              "Edison, NJ                    2\n",
              "Danville, CA                  2\n",
              "San Carlos, CA                2\n",
              "Mays Landing, NJ              2\n",
              "Menlo Park, CA                2\n",
              "Toronto, Canada               2\n",
              "Carle Place, NY               2\n",
              "Chevy Chase, MD               2\n",
              "Itasca, IL                    2\n",
              "Nashville, TN                 2\n",
              "Santa Monica, CA              2\n",
              "Leesburg, VA                  2\n",
              "Plano, TX                     1\n",
              "Cherry Hill, NJ               1\n",
              "Blue Bell, PA                 1\n",
              "Beavercreek, OH               1\n",
              "Scottsdale, AZ                1\n",
              "Glen Allen, VA                1\n",
              "Aurora, CO                    1\n",
              "Albertville, AL               1\n",
              "Bangalore, India              1\n",
              "Bad Ragaz, Switzerland        1\n",
              "Orange, CA                    1\n",
              "Hilliard, OH                  1\n",
              "Carmel, IN                    1\n",
              "New Orleans, LA               1\n",
              "Alpharetta, GA                1\n",
              "Armonk, NY                    1\n",
              "Newark, CA                    1\n",
              "Manalapan, NJ                 1\n",
              "Tempe, AZ                     1\n",
              "Ventura, CA                   1\n",
              "Albuquerque, NM               1\n",
              "Bristol, PA                   1\n",
              "West Chester, PA              1\n",
              "Greenwich, CT                 1\n",
              "Ewing, NJ                     1\n",
              "Littleton, CO                 1\n",
              "Ipswich, MA                   1\n",
              "Fort Lee, NJ                  1\n",
              "Trumbull, CT                  1\n",
              "Livonia, MI                   1\n",
              "Omaha, NE                     1\n",
              "Spartanburg, SC               1\n",
              "Rancho Cucamonga, CA          1\n",
              "San Bruno, CA                 1\n",
              "Monroe, WI                    1\n",
              "Totowa, NJ                    1\n",
              "Irving, TX                    1\n",
              "Philadelphia, PA              1\n",
              "Wilsonville, OR               1\n",
              "Chennai, India                1\n",
              "Half Moon Bay, CA             1\n",
              "Harrisburg, PA                1\n",
              "Greensboro, NC                1\n",
              "Birmingham, AL                1\n",
              "Marcy-l'Etoile, France        1\n",
              "Yakima, WA                    1\n",
              "Chadds Ford, PA               1\n",
              "Carpinteria, CA               1\n",
              "Piscataway, NJ                1\n",
              "Lombard, IL                   1\n",
              "Charlotte, NC                 1\n",
              "Livermore, CA                 1\n",
              "Coral Gables, FL              1\n",
              "Oshkosh, WI                   1\n",
              "Dallas, TX                    1\n",
              "Goleta, CA                    1\n",
              "Lutherville Timonium, MD      1\n",
              "Danvers, MA                   1\n",
              "Utica, MI                     1\n",
              "Aurora, Canada                1\n",
              "Clifton Park, NY              1\n",
              "Ashburn, VA                   1\n",
              "Langley, VA                   1\n",
              "Zurich, Switzerland           1\n",
              "Marbella, Spain               1\n",
              "Columbia, SC                  1\n",
              "Simi Valley, CA               1\n",
              "Phila, PA                     1\n",
              "Tel Aviv-Yafo, Israel         1\n",
              "Columbia, MO                  1\n",
              "Beltsville, MD                1\n",
              "Cleveland, OH                 1\n",
              "Schaffhausen, Switzerland     1\n",
              "Reading, PA                   1\n",
              "Brisbane, CA                  1\n",
              "Redwood City, CA              1\n",
              "Saxonburg, PA                 1\n",
              "Dulles, VA                    1\n",
              "Durham, NC                    1\n",
              "Hanover, MD                   1\n",
              "Schaumburg, IL                1\n",
              "Santa Ana, CA                 1\n",
              "Oakville, Canada              1\n",
              "Bengaluru, India              1\n",
              "Milan, IL                     1\n",
              "Chandler, AZ                  1\n",
              "Deerfield, IL                 1\n",
              "Honolulu, HI                  1\n",
              "Detroit, MI                   1\n",
              "Tampa, FL                     1\n",
              "Lake Buena Vista, FL          1\n",
              "Reading, MA                   1\n",
              "Madison, WI                   1\n",
              "Troy, MI                      1\n",
              "Rome, NY                      1\n",
              "Goteborg, Sweden              1\n",
              "Benicia, CA                   1\n",
              "Tucson, AZ                    1\n",
              "Burlingame, CA                1\n",
              "Hoboken, NJ                   1\n",
              "Franklin, TN                  1\n",
              "Richmond, VA                  1\n",
              "Woodbridge, NJ                1\n",
              "Akron, OH                     1\n",
              "Holyoke, MA                   1\n",
              "Lake Oswego, OR               1\n",
              "Name: Headquarters, dtype: int64"
            ]
          },
          "metadata": {},
          "output_type": "display_data"
        },
        {
          "name": "stdout",
          "output_type": "stream",
          "text": [
            "\n"
          ]
        }
      ],
      "source": [
        "for column in df_company.columns:\n",
        "    print(f\"============= {column} =================\")\n",
        "    display(df_company[column].value_counts())\n",
        "    print()"
      ]
    },
    {
      "cell_type": "markdown",
      "id": "f00efcd4",
      "metadata": {
        "id": "f00efcd4"
      },
      "source": [
        "karena pada soal hanya mencari missing value pada kolom \"headquarters\", maka : <br>\n",
        "ada missing value di kolom \"headquarters\" yaitu -1"
      ]
    },
    {
      "cell_type": "code",
      "execution_count": null,
      "id": "616b525e",
      "metadata": {
        "id": "616b525e",
        "outputId": "7e300753-1668-42a8-aab2-4a27e6af0db6"
      },
      "outputs": [
        {
          "data": {
            "text/plain": [
              "New York, NY                 33\n",
              "-1                           31\n",
              "San Francisco, CA            31\n",
              "Chicago, IL                  23\n",
              "Boston, MA                   19\n",
              "Reston, VA                   14\n",
              "Mc Lean, VA                  13\n",
              "Westminster, CO              12\n",
              "Cambridge, MA                10\n",
              "Cambridge, United Kingdom    10\n",
              "Vienna, VA                    8\n",
              "San Jose, CA                  7\n",
              "Woodbine, MD                  7\n",
              "Bedford, MA                   7\n",
              "Herndon, VA                   7\n",
              "Saint Louis, MO               7\n",
              "Washington, DC                7\n",
              "Arlington, VA                 7\n",
              "Denver, CO                    7\n",
              "Mountain View, CA             6\n",
              "Chantilly, VA                 6\n",
              "San Rafael, CA                6\n",
              "San Antonio, TX               6\n",
              "Basel, Switzerland            6\n",
              "Fairfax, VA                   5\n",
              "Bellevue, WA                  5\n",
              "Houston, TX                   5\n",
              "Bethesda, MD                  5\n",
              "Springfield, MA               5\n",
              "Rockville, MD                 5\n",
              "Los Angeles, CA               5\n",
              "Princeton, NJ                 5\n",
              "Pittsburgh, PA                5\n",
              "Austin, TX                    4\n",
              "Raleigh, NC                   4\n",
              "Memphis, TN                   4\n",
              "Cedar Rapids, IA              4\n",
              "Orlando, FL                   4\n",
              "McLean, VA                    4\n",
              "Pleasanton, CA                4\n",
              "South San Francisco, CA       4\n",
              "Palo Alto, CA                 4\n",
              "Santa Cruz, CA                4\n",
              "San Diego, CA                 4\n",
              "Santa Clara, CA               4\n",
              "Aliso Viejo, CA               4\n",
              "Falls Church, VA              4\n",
              "Annapolis Junction, MD        4\n",
              "Seattle, WA                   3\n",
              "Laurel, MD                    3\n",
              "Hartford, CT                  3\n",
              "Richland, WA                  3\n",
              "Columbus, OH                  3\n",
              "Atlanta, GA                   3\n",
              "Maple Plain, MN               3\n",
              "Folsom, CA                    3\n",
              "Jersey City, NJ               3\n",
              "Alexandria, VA                3\n",
              "Carson, CA                    3\n",
              "Woburn, MA                    3\n",
              "Minneapolis, MN               3\n",
              "Lincoln, NE                   3\n",
              "Hillsborough, NJ              3\n",
              "Sunnyvale, CA                 3\n",
              "Naperville, IL                3\n",
              "Westlake Village, CA          3\n",
              "Indianapolis, IN              3\n",
              "Paris, France                 3\n",
              "Winter Park, FL               3\n",
              "Greenville, SC                2\n",
              "OSAKA, Japan                  2\n",
              "Winston-Salem, NC             2\n",
              "Plainsboro, NJ                2\n",
              "Northbrook, IL                2\n",
              "Kent, WA                      2\n",
              "Huntsville, AL                2\n",
              "Kent, OH                      2\n",
              "Santa Barbara, CA             2\n",
              "Stamford, CT                  2\n",
              "Columbia, MD                  2\n",
              "Holmdel, NJ                   2\n",
              "New York, 061                 2\n",
              "Hamilton, Bermuda             2\n",
              "Sheboygan, WI                 2\n",
              "Fairmont, WV                  2\n",
              "Cincinnati, OH                2\n",
              "Lorton, VA                    2\n",
              "Saint Paul, MN                2\n",
              "Brentford, United Kingdom     2\n",
              "Fort Worth, TX                2\n",
              "North Brunswick, NJ           2\n",
              "Kansas City, MO               2\n",
              "Singapore, Singapore          2\n",
              "San Ramon, CA                 2\n",
              "Wilmington, MA                2\n",
              "Somerset, NJ                  2\n",
              "Germantown, MD                2\n",
              "Coconut Creek, FL             2\n",
              "Cupertino, CA                 2\n",
              "Fremont, CA                   2\n",
              "Scotts Valley, CA             2\n",
              "San Mateo, CA                 2\n",
              "Emeryville, CA                2\n",
              "Lehi, UT                      2\n",
              "Lexington, MA                 2\n",
              "Waltham, MA                   2\n",
              "Irvine, CA                    2\n",
              "Lynchburg, VA                 2\n",
              "Baltimore, MD                 2\n",
              "South Jordan, UT              2\n",
              "London, United Kingdom        2\n",
              "Edison, NJ                    2\n",
              "Danville, CA                  2\n",
              "San Carlos, CA                2\n",
              "Mays Landing, NJ              2\n",
              "Menlo Park, CA                2\n",
              "Toronto, Canada               2\n",
              "Carle Place, NY               2\n",
              "Chevy Chase, MD               2\n",
              "Itasca, IL                    2\n",
              "Nashville, TN                 2\n",
              "Santa Monica, CA              2\n",
              "Leesburg, VA                  2\n",
              "Plano, TX                     1\n",
              "Cherry Hill, NJ               1\n",
              "Blue Bell, PA                 1\n",
              "Beavercreek, OH               1\n",
              "Scottsdale, AZ                1\n",
              "Glen Allen, VA                1\n",
              "Aurora, CO                    1\n",
              "Albertville, AL               1\n",
              "Bangalore, India              1\n",
              "Bad Ragaz, Switzerland        1\n",
              "Orange, CA                    1\n",
              "Hilliard, OH                  1\n",
              "Carmel, IN                    1\n",
              "New Orleans, LA               1\n",
              "Alpharetta, GA                1\n",
              "Armonk, NY                    1\n",
              "Newark, CA                    1\n",
              "Manalapan, NJ                 1\n",
              "Tempe, AZ                     1\n",
              "Ventura, CA                   1\n",
              "Albuquerque, NM               1\n",
              "Bristol, PA                   1\n",
              "West Chester, PA              1\n",
              "Greenwich, CT                 1\n",
              "Ewing, NJ                     1\n",
              "Littleton, CO                 1\n",
              "Ipswich, MA                   1\n",
              "Fort Lee, NJ                  1\n",
              "Trumbull, CT                  1\n",
              "Livonia, MI                   1\n",
              "Omaha, NE                     1\n",
              "Spartanburg, SC               1\n",
              "Rancho Cucamonga, CA          1\n",
              "San Bruno, CA                 1\n",
              "Monroe, WI                    1\n",
              "Totowa, NJ                    1\n",
              "Irving, TX                    1\n",
              "Philadelphia, PA              1\n",
              "Wilsonville, OR               1\n",
              "Chennai, India                1\n",
              "Half Moon Bay, CA             1\n",
              "Harrisburg, PA                1\n",
              "Greensboro, NC                1\n",
              "Birmingham, AL                1\n",
              "Marcy-l'Etoile, France        1\n",
              "Yakima, WA                    1\n",
              "Chadds Ford, PA               1\n",
              "Carpinteria, CA               1\n",
              "Piscataway, NJ                1\n",
              "Lombard, IL                   1\n",
              "Charlotte, NC                 1\n",
              "Livermore, CA                 1\n",
              "Coral Gables, FL              1\n",
              "Oshkosh, WI                   1\n",
              "Dallas, TX                    1\n",
              "Goleta, CA                    1\n",
              "Lutherville Timonium, MD      1\n",
              "Danvers, MA                   1\n",
              "Utica, MI                     1\n",
              "Aurora, Canada                1\n",
              "Clifton Park, NY              1\n",
              "Ashburn, VA                   1\n",
              "Langley, VA                   1\n",
              "Zurich, Switzerland           1\n",
              "Marbella, Spain               1\n",
              "Columbia, SC                  1\n",
              "Simi Valley, CA               1\n",
              "Phila, PA                     1\n",
              "Tel Aviv-Yafo, Israel         1\n",
              "Columbia, MO                  1\n",
              "Beltsville, MD                1\n",
              "Cleveland, OH                 1\n",
              "Schaffhausen, Switzerland     1\n",
              "Reading, PA                   1\n",
              "Brisbane, CA                  1\n",
              "Redwood City, CA              1\n",
              "Saxonburg, PA                 1\n",
              "Dulles, VA                    1\n",
              "Durham, NC                    1\n",
              "Hanover, MD                   1\n",
              "Schaumburg, IL                1\n",
              "Santa Ana, CA                 1\n",
              "Oakville, Canada              1\n",
              "Bengaluru, India              1\n",
              "Milan, IL                     1\n",
              "Chandler, AZ                  1\n",
              "Deerfield, IL                 1\n",
              "Honolulu, HI                  1\n",
              "Detroit, MI                   1\n",
              "Tampa, FL                     1\n",
              "Lake Buena Vista, FL          1\n",
              "Reading, MA                   1\n",
              "Madison, WI                   1\n",
              "Troy, MI                      1\n",
              "Rome, NY                      1\n",
              "Goteborg, Sweden              1\n",
              "Benicia, CA                   1\n",
              "Tucson, AZ                    1\n",
              "Burlingame, CA                1\n",
              "Hoboken, NJ                   1\n",
              "Franklin, TN                  1\n",
              "Richmond, VA                  1\n",
              "Woodbridge, NJ                1\n",
              "Akron, OH                     1\n",
              "Holyoke, MA                   1\n",
              "Lake Oswego, OR               1\n",
              "Name: Headquarters, dtype: int64"
            ]
          },
          "metadata": {},
          "output_type": "display_data"
        }
      ],
      "source": [
        "#mengidentifikasi nilai yang tidak sesuai (missing value) di kolom \"headquarters\"\n",
        "display(df_company['Headquarters'].value_counts())"
      ]
    },
    {
      "cell_type": "markdown",
      "id": "cf342a51",
      "metadata": {
        "id": "cf342a51"
      },
      "source": [
        "#### menghitung persentase missing value di kolom \"headquarters\""
      ]
    },
    {
      "cell_type": "code",
      "execution_count": null,
      "id": "bffafd58",
      "metadata": {
        "id": "bffafd58",
        "outputId": "a4946164-ae14-4552-9e8d-eab6b23d6fc7"
      },
      "outputs": [
        {
          "data": {
            "text/plain": [
              "4.613095238095238"
            ]
          },
          "execution_count": 48,
          "metadata": {},
          "output_type": "execute_result"
        }
      ],
      "source": [
        "100 * len(df_company[(df_company['Headquarters'] == \"-1\") | (df_company['Headquarters'].isna())]) / len(df_company)"
      ]
    },
    {
      "cell_type": "markdown",
      "id": "74dc7548",
      "metadata": {
        "id": "74dc7548"
      },
      "source": [
        "persentase missing value di kolom \"headquarters\" adalah 4.6130%, karena persentasenya masih <20 % maka, kita handling missing value saja"
      ]
    },
    {
      "cell_type": "markdown",
      "id": "0af4bf04",
      "metadata": {
        "id": "0af4bf04"
      },
      "source": [
        "#### handling misssing value for ML"
      ]
    },
    {
      "cell_type": "code",
      "execution_count": null,
      "id": "76ff3e04",
      "metadata": {
        "id": "76ff3e04"
      },
      "outputs": [],
      "source": [
        "train_company, test_company = train_test_split(df_company, train_size= 0.8,test_size = 0.2, random_state=42)"
      ]
    },
    {
      "cell_type": "code",
      "execution_count": null,
      "id": "c1eaa0b2",
      "metadata": {
        "id": "c1eaa0b2",
        "outputId": "14a56950-8917-4066-c037-fa5ccd78b26d"
      },
      "outputs": [
        {
          "data": {
            "text/plain": [
              "'New York, NY'"
            ]
          },
          "execution_count": 64,
          "metadata": {},
          "output_type": "execute_result"
        }
      ],
      "source": [
        "train_mode_headquar = train_company[~train_company['Headquarters'].isin(['-1'])]['Headquarters'].mode()[0]\n",
        "train_mode_headquar"
      ]
    },
    {
      "cell_type": "code",
      "execution_count": null,
      "id": "2cf4d8d1",
      "metadata": {
        "id": "2cf4d8d1"
      },
      "outputs": [],
      "source": [
        "#implement missing value imputation to train and test, from size mode value in train data\n",
        "train_company['Headquarters'] = train_company['Headquarters'].apply(lambda x: train_mode_headquar if x in ['-1'] else x)\n",
        "test_company['Headquarters'] = test_company['Headquarters'].apply(lambda x: train_mode_headquar if x in ['-1'] else x)"
      ]
    },
    {
      "cell_type": "code",
      "execution_count": null,
      "id": "13e6cee8",
      "metadata": {
        "id": "13e6cee8",
        "outputId": "786c7bbf-5355-40ff-c545-8ba72cf8828d"
      },
      "outputs": [
        {
          "data": {
            "text/plain": [
              "0"
            ]
          },
          "execution_count": 66,
          "metadata": {},
          "output_type": "execute_result"
        }
      ],
      "source": [
        "train_company['Headquarters'].isna().sum()"
      ]
    },
    {
      "cell_type": "code",
      "execution_count": null,
      "id": "583ebf89",
      "metadata": {
        "id": "583ebf89",
        "outputId": "670392a8-da6c-40f6-e160-d53542cf0797"
      },
      "outputs": [
        {
          "data": {
            "text/plain": [
              "Revenue         0\n",
              "Size            0\n",
              "Rating          9\n",
              "Headquarters    0\n",
              "dtype: int64"
            ]
          },
          "execution_count": 67,
          "metadata": {},
          "output_type": "execute_result"
        }
      ],
      "source": [
        "test_company.isna().sum()"
      ]
    },
    {
      "cell_type": "markdown",
      "id": "3790d161",
      "metadata": {
        "id": "3790d161"
      },
      "source": [
        "##### cek nilai tidak sesuai (missing value) dan menghitung persentasenya (untuk memastikan)"
      ]
    },
    {
      "cell_type": "code",
      "execution_count": null,
      "id": "81bd817f",
      "metadata": {
        "id": "81bd817f",
        "outputId": "e06a0fdd-4406-4036-ecbe-d435d6384d53"
      },
      "outputs": [
        {
          "data": {
            "text/plain": [
              "New York, NY                 53\n",
              "San Francisco, CA            28\n",
              "Chicago, IL                  20\n",
              "Boston, MA                   13\n",
              "Mc Lean, VA                  12\n",
              "Westminster, CO              10\n",
              "Reston, VA                    9\n",
              "Cambridge, MA                 8\n",
              "Cambridge, United Kingdom     8\n",
              "San Jose, CA                  7\n",
              "Vienna, VA                    7\n",
              "Bedford, MA                   7\n",
              "Herndon, VA                   6\n",
              "Woodbine, MD                  6\n",
              "Arlington, VA                 6\n",
              "Saint Louis, MO               6\n",
              "Washington, DC                6\n",
              "Mountain View, CA             6\n",
              "Denver, CO                    5\n",
              "San Antonio, TX               5\n",
              "Chantilly, VA                 5\n",
              "Los Angeles, CA               5\n",
              "Bethesda, MD                  5\n",
              "Pleasanton, CA                4\n",
              "San Rafael, CA                4\n",
              "Princeton, NJ                 4\n",
              "McLean, VA                    4\n",
              "Annapolis Junction, MD        4\n",
              "Houston, TX                   4\n",
              "Pittsburgh, PA                4\n",
              "Orlando, FL                   4\n",
              "Santa Cruz, CA                4\n",
              "Memphis, TN                   4\n",
              "Raleigh, NC                   4\n",
              "Austin, TX                    4\n",
              "Bellevue, WA                  4\n",
              "Rockville, MD                 3\n",
              "Springfield, MA               3\n",
              "Cedar Rapids, IA              3\n",
              "Woburn, MA                    3\n",
              "Atlanta, GA                   3\n",
              "San Diego, CA                 3\n",
              "Fairfax, VA                   3\n",
              "Indianapolis, IN              3\n",
              "Hillsborough, NJ              3\n",
              "Carson, CA                    3\n",
              "Falls Church, VA              3\n",
              "Sunnyvale, CA                 3\n",
              "Maple Plain, MN               3\n",
              "Santa Clara, CA               3\n",
              "Aliso Viejo, CA               3\n",
              "Folsom, CA                    3\n",
              "Jersey City, NJ               3\n",
              "Seattle, WA                   3\n",
              "Paris, France                 3\n",
              "London, United Kingdom        2\n",
              "Hartford, CT                  2\n",
              "Plainsboro, NJ                2\n",
              "San Ramon, CA                 2\n",
              "Basel, Switzerland            2\n",
              "Cincinnati, OH                2\n",
              "Palo Alto, CA                 2\n",
              "Mays Landing, NJ              2\n",
              "San Mateo, CA                 2\n",
              "Lynchburg, VA                 2\n",
              "Baltimore, MD                 2\n",
              "Nashville, TN                 2\n",
              "Huntsville, AL                2\n",
              "Lexington, MA                 2\n",
              "Carle Place, NY               2\n",
              "Lincoln, NE                   2\n",
              "Fremont, CA                   2\n",
              "San Carlos, CA                2\n",
              "Northbrook, IL                2\n",
              "Coconut Creek, FL             2\n",
              "Richland, WA                  2\n",
              "Cupertino, CA                 2\n",
              "Toronto, Canada               2\n",
              "Westlake Village, CA          2\n",
              "Somerset, NJ                  2\n",
              "Wilmington, MA                2\n",
              "Scotts Valley, CA             2\n",
              "Waltham, MA                   2\n",
              "South San Francisco, CA       2\n",
              "Danville, CA                  2\n",
              "Emeryville, CA                2\n",
              "Lorton, VA                    2\n",
              "Columbus, OH                  2\n",
              "Germantown, MD                2\n",
              "Winter Park, FL               2\n",
              "Singapore, Singapore          2\n",
              "New York, 061                 2\n",
              "Naperville, IL                2\n",
              "Holmdel, NJ                   2\n",
              "Fairmont, WV                  2\n",
              "Sheboygan, WI                 2\n",
              "Brentford, United Kingdom     2\n",
              "Winston-Salem, NC             2\n",
              "Minneapolis, MN               2\n",
              "Blue Bell, PA                 1\n",
              "Ewing, NJ                     1\n",
              "Chevy Chase, MD               1\n",
              "Benicia, CA                   1\n",
              "Langley, VA                   1\n",
              "Aurora, Canada                1\n",
              "Saint Paul, MN                1\n",
              "Fort Worth, TX                1\n",
              "Redwood City, CA              1\n",
              "Totowa, NJ                    1\n",
              "Philadelphia, PA              1\n",
              "Columbia, MO                  1\n",
              "Dallas, TX                    1\n",
              "Birmingham, AL                1\n",
              "Beltsville, MD                1\n",
              "Reading, PA                   1\n",
              "Laurel, MD                    1\n",
              "West Chester, PA              1\n",
              "Santa Monica, CA              1\n",
              "Schaumburg, IL                1\n",
              "Utica, MI                     1\n",
              "Detroit, MI                   1\n",
              "Woodbridge, NJ                1\n",
              "Wilsonville, OR               1\n",
              "Cherry Hill, NJ               1\n",
              "Orange, CA                    1\n",
              "Burlingame, CA                1\n",
              "Kansas City, MO               1\n",
              "Livonia, MI                   1\n",
              "Hoboken, NJ                   1\n",
              "Tucson, AZ                    1\n",
              "Lutherville Timonium, MD      1\n",
              "Lake Buena Vista, FL          1\n",
              "Bristol, PA                   1\n",
              "Hamilton, Bermuda             1\n",
              "Goteborg, Sweden              1\n",
              "Goleta, CA                    1\n",
              "Bengaluru, India              1\n",
              "Danvers, MA                   1\n",
              "Edison, NJ                    1\n",
              "Kent, OH                      1\n",
              "Reading, MA                   1\n",
              "OSAKA, Japan                  1\n",
              "Columbia, SC                  1\n",
              "Dulles, VA                    1\n",
              "Bangalore, India              1\n",
              "Franklin, TN                  1\n",
              "Tampa, FL                     1\n",
              "Hilliard, OH                  1\n",
              "Greenwich, CT                 1\n",
              "Alpharetta, GA                1\n",
              "Omaha, NE                     1\n",
              "Menlo Park, CA                1\n",
              "Tel Aviv-Yafo, Israel         1\n",
              "Albuquerque, NM               1\n",
              "Greenville, SC                1\n",
              "Holyoke, MA                   1\n",
              "Manalapan, NJ                 1\n",
              "South Jordan, UT              1\n",
              "Newark, CA                    1\n",
              "Ventura, CA                   1\n",
              "Cleveland, OH                 1\n",
              "Carpinteria, CA               1\n",
              "Stamford, CT                  1\n",
              "Piscataway, NJ                1\n",
              "North Brunswick, NJ           1\n",
              "Irvine, CA                    1\n",
              "Troy, MI                      1\n",
              "Half Moon Bay, CA             1\n",
              "Chennai, India                1\n",
              "Bad Ragaz, Switzerland        1\n",
              "Chadds Ford, PA               1\n",
              "Irving, TX                    1\n",
              "Ipswich, MA                   1\n",
              "Rancho Cucamonga, CA          1\n",
              "Plano, TX                     1\n",
              "Santa Barbara, CA             1\n",
              "Carmel, IN                    1\n",
              "Oakville, Canada              1\n",
              "Itasca, IL                    1\n",
              "Phila, PA                     1\n",
              "Hanover, MD                   1\n",
              "Charlotte, NC                 1\n",
              "Santa Ana, CA                 1\n",
              "Madison, WI                   1\n",
              "Alexandria, VA                1\n",
              "Oshkosh, WI                   1\n",
              "Honolulu, HI                  1\n",
              "Scottsdale, AZ                1\n",
              "Lombard, IL                   1\n",
              "Ashburn, VA                   1\n",
              "Deerfield, IL                 1\n",
              "Milan, IL                     1\n",
              "Leesburg, VA                  1\n",
              "Monroe, WI                    1\n",
              "Marbella, Spain               1\n",
              "Columbia, MD                  1\n",
              "Name: Headquarters, dtype: int64"
            ]
          },
          "metadata": {},
          "output_type": "display_data"
        }
      ],
      "source": [
        "#mengidentifikasi nilai yang tidak sesuai (missing value) di kolom \"headquarters\" di data train\n",
        "display(train_company['Headquarters'].value_counts())"
      ]
    },
    {
      "cell_type": "code",
      "execution_count": null,
      "id": "4a43b636",
      "metadata": {
        "id": "4a43b636",
        "outputId": "c3d16ebb-5557-4a1c-80ae-0a95ee88950b"
      },
      "outputs": [
        {
          "data": {
            "text/plain": [
              "New York, NY                 11\n",
              "Boston, MA                    6\n",
              "Reston, VA                    5\n",
              "Basel, Switzerland            4\n",
              "San Francisco, CA             3\n",
              "Chicago, IL                   3\n",
              "Westminster, CO               2\n",
              "Laurel, MD                    2\n",
              "San Rafael, CA                2\n",
              "Palo Alto, CA                 2\n",
              "Lehi, UT                      2\n",
              "Cambridge, MA                 2\n",
              "Alexandria, VA                2\n",
              "Springfield, MA               2\n",
              "Cambridge, United Kingdom     2\n",
              "Rockville, MD                 2\n",
              "Kent, WA                      2\n",
              "Denver, CO                    2\n",
              "Fairfax, VA                   2\n",
              "South San Francisco, CA       2\n",
              "Washington, DC                1\n",
              "San Diego, CA                 1\n",
              "Aliso Viejo, CA               1\n",
              "Lincoln, NE                   1\n",
              "Irvine, CA                    1\n",
              "Aurora, CO                    1\n",
              "Chantilly, VA                 1\n",
              "Durham, NC                    1\n",
              "Edison, NJ                    1\n",
              "Herndon, VA                   1\n",
              "Winter Park, FL               1\n",
              "Falls Church, VA              1\n",
              "Tempe, AZ                     1\n",
              "Santa Clara, CA               1\n",
              "Chandler, AZ                  1\n",
              "Naperville, IL                1\n",
              "Livermore, CA                 1\n",
              "Yakima, WA                    1\n",
              "Cedar Rapids, IA              1\n",
              "Saint Louis, MO               1\n",
              "Trumbull, CT                  1\n",
              "Saxonburg, PA                 1\n",
              "Minneapolis, MN               1\n",
              "Lake Oswego, OR               1\n",
              "Glen Allen, VA                1\n",
              "Kent, OH                      1\n",
              "Mc Lean, VA                   1\n",
              "Harrisburg, PA                1\n",
              "Littleton, CO                 1\n",
              "North Brunswick, NJ           1\n",
              "Fort Worth, TX                1\n",
              "Pittsburgh, PA                1\n",
              "Richmond, VA                  1\n",
              "Bellevue, WA                  1\n",
              "Albertville, AL               1\n",
              "Woodbine, MD                  1\n",
              "Santa Monica, CA              1\n",
              "Clifton Park, NY              1\n",
              "Hamilton, Bermuda             1\n",
              "Leesburg, VA                  1\n",
              "Chevy Chase, MD               1\n",
              "Beavercreek, OH               1\n",
              "Arlington, VA                 1\n",
              "Akron, OH                     1\n",
              "Westlake Village, CA          1\n",
              "Houston, TX                   1\n",
              "Columbus, OH                  1\n",
              "Simi Valley, CA               1\n",
              "San Antonio, TX               1\n",
              "Kansas City, MO               1\n",
              "Greenville, SC                1\n",
              "Marcy-l'Etoile, France        1\n",
              "Columbia, MD                  1\n",
              "Menlo Park, CA                1\n",
              "Vienna, VA                    1\n",
              "Richland, WA                  1\n",
              "Saint Paul, MN                1\n",
              "Hartford, CT                  1\n",
              "Greensboro, NC                1\n",
              "Brisbane, CA                  1\n",
              "Fort Lee, NJ                  1\n",
              "San Bruno, CA                 1\n",
              "OSAKA, Japan                  1\n",
              "Armonk, NY                    1\n",
              "Santa Barbara, CA             1\n",
              "Princeton, NJ                 1\n",
              "New Orleans, LA               1\n",
              "Itasca, IL                    1\n",
              "Rome, NY                      1\n",
              "Stamford, CT                  1\n",
              "Coral Gables, FL              1\n",
              "Zurich, Switzerland           1\n",
              "Schaffhausen, Switzerland     1\n",
              "Spartanburg, SC               1\n",
              "South Jordan, UT              1\n",
              "Name: Headquarters, dtype: int64"
            ]
          },
          "metadata": {},
          "output_type": "display_data"
        }
      ],
      "source": [
        "#mengidentifikasi nilai yang tidak sesuai (missing value) di kolom \"headquarters\" di data test\n",
        "display(test_company['Headquarters'].value_counts())"
      ]
    },
    {
      "cell_type": "code",
      "execution_count": null,
      "id": "d67f4861",
      "metadata": {
        "id": "d67f4861",
        "outputId": "e531d15d-0f3e-45fa-c504-affdcbd766c6"
      },
      "outputs": [
        {
          "data": {
            "text/plain": [
              "0.0"
            ]
          },
          "execution_count": 70,
          "metadata": {},
          "output_type": "execute_result"
        }
      ],
      "source": [
        "100 * len(train_company[(train_company['Headquarters'] == \"-1\") | (train_company['Headquarters'].isna())]) / len(train_company)"
      ]
    },
    {
      "cell_type": "code",
      "execution_count": null,
      "id": "3d7e7e1f",
      "metadata": {
        "id": "3d7e7e1f",
        "outputId": "fa978a71-f46d-4da8-9237-ea1bb2733c35"
      },
      "outputs": [
        {
          "data": {
            "text/plain": [
              "0.0"
            ]
          },
          "execution_count": 71,
          "metadata": {},
          "output_type": "execute_result"
        }
      ],
      "source": [
        "100 * len(test_company[(test_company['Headquarters'] == \"-1\") | (test_company['Headquarters'].isna())]) / len(test_company)"
      ]
    },
    {
      "cell_type": "markdown",
      "id": "4df754fa",
      "metadata": {
        "id": "4df754fa"
      },
      "source": [
        "#### handling missing value for EDA"
      ]
    },
    {
      "cell_type": "code",
      "execution_count": null,
      "id": "d475da25",
      "metadata": {
        "id": "d475da25"
      },
      "outputs": [],
      "source": [
        "data_company = df_company.copy()"
      ]
    },
    {
      "cell_type": "code",
      "execution_count": null,
      "id": "dc93a5b0",
      "metadata": {
        "id": "dc93a5b0",
        "outputId": "c55eb268-26dc-433f-80a4-f61aa9111b6f"
      },
      "outputs": [
        {
          "data": {
            "text/plain": [
              "'New York, NY'"
            ]
          },
          "execution_count": 75,
          "metadata": {},
          "output_type": "execute_result"
        }
      ],
      "source": [
        "mode_hq = data_company[~data_company['Headquarters'].isin(['-1'])]['Headquarters'].mode()[0]\n",
        "mode_hq"
      ]
    },
    {
      "cell_type": "code",
      "execution_count": null,
      "id": "f5402df6",
      "metadata": {
        "id": "f5402df6"
      },
      "outputs": [],
      "source": [
        "data_company['Headquarters'] = data_company['Headquarters'].apply(lambda x: mode_hq if x in ['-1'] else x)"
      ]
    },
    {
      "cell_type": "code",
      "execution_count": null,
      "id": "43c909b7",
      "metadata": {
        "id": "43c909b7",
        "outputId": "171f8083-9ed0-483f-817a-beae51b711fd"
      },
      "outputs": [
        {
          "data": {
            "text/plain": [
              "New York, NY                 64\n",
              "San Francisco, CA            31\n",
              "Chicago, IL                  23\n",
              "Boston, MA                   19\n",
              "Reston, VA                   14\n",
              "Mc Lean, VA                  13\n",
              "Westminster, CO              12\n",
              "Cambridge, MA                10\n",
              "Cambridge, United Kingdom    10\n",
              "Vienna, VA                    8\n",
              "Woodbine, MD                  7\n",
              "Saint Louis, MO               7\n",
              "Bedford, MA                   7\n",
              "Arlington, VA                 7\n",
              "San Jose, CA                  7\n",
              "Washington, DC                7\n",
              "Herndon, VA                   7\n",
              "Denver, CO                    7\n",
              "Basel, Switzerland            6\n",
              "San Rafael, CA                6\n",
              "Mountain View, CA             6\n",
              "Chantilly, VA                 6\n",
              "San Antonio, TX               6\n",
              "Princeton, NJ                 5\n",
              "Pittsburgh, PA                5\n",
              "Fairfax, VA                   5\n",
              "Bethesda, MD                  5\n",
              "Houston, TX                   5\n",
              "Los Angeles, CA               5\n",
              "Rockville, MD                 5\n",
              "Springfield, MA               5\n",
              "Bellevue, WA                  5\n",
              "Santa Cruz, CA                4\n",
              "Pleasanton, CA                4\n",
              "Memphis, TN                   4\n",
              "South San Francisco, CA       4\n",
              "Falls Church, VA              4\n",
              "Orlando, FL                   4\n",
              "Aliso Viejo, CA               4\n",
              "McLean, VA                    4\n",
              "Cedar Rapids, IA              4\n",
              "Annapolis Junction, MD        4\n",
              "Raleigh, NC                   4\n",
              "Austin, TX                    4\n",
              "Santa Clara, CA               4\n",
              "San Diego, CA                 4\n",
              "Palo Alto, CA                 4\n",
              "Alexandria, VA                3\n",
              "Woburn, MA                    3\n",
              "Atlanta, GA                   3\n",
              "Richland, WA                  3\n",
              "Hartford, CT                  3\n",
              "Sunnyvale, CA                 3\n",
              "Laurel, MD                    3\n",
              "Westlake Village, CA          3\n",
              "Indianapolis, IN              3\n",
              "Winter Park, FL               3\n",
              "Jersey City, NJ               3\n",
              "Columbus, OH                  3\n",
              "Lincoln, NE                   3\n",
              "Seattle, WA                   3\n",
              "Minneapolis, MN               3\n",
              "Paris, France                 3\n",
              "Naperville, IL                3\n",
              "Maple Plain, MN               3\n",
              "Hillsborough, NJ              3\n",
              "Carson, CA                    3\n",
              "Folsom, CA                    3\n",
              "Fort Worth, TX                2\n",
              "Santa Barbara, CA             2\n",
              "OSAKA, Japan                  2\n",
              "North Brunswick, NJ           2\n",
              "Kent, OH                      2\n",
              "Hamilton, Bermuda             2\n",
              "Menlo Park, CA                2\n",
              "Somerset, NJ                  2\n",
              "Saint Paul, MN                2\n",
              "Kent, WA                      2\n",
              "Huntsville, AL                2\n",
              "Lorton, VA                    2\n",
              "New York, 061                 2\n",
              "Brentford, United Kingdom     2\n",
              "Winston-Salem, NC             2\n",
              "Plainsboro, NJ                2\n",
              "Greenville, SC                2\n",
              "Fairmont, WV                  2\n",
              "Cincinnati, OH                2\n",
              "Northbrook, IL                2\n",
              "Columbia, MD                  2\n",
              "Holmdel, NJ                   2\n",
              "Wilmington, MA                2\n",
              "Santa Monica, CA              2\n",
              "Carle Place, NY               2\n",
              "Lexington, MA                 2\n",
              "Lynchburg, VA                 2\n",
              "South Jordan, UT              2\n",
              "London, United Kingdom        2\n",
              "Edison, NJ                    2\n",
              "Baltimore, MD                 2\n",
              "Irvine, CA                    2\n",
              "Lehi, UT                      2\n",
              "Emeryville, CA                2\n",
              "Germantown, MD                2\n",
              "Mays Landing, NJ              2\n",
              "Scotts Valley, CA             2\n",
              "San Ramon, CA                 2\n",
              "Stamford, CT                  2\n",
              "Sheboygan, WI                 2\n",
              "Kansas City, MO               2\n",
              "Waltham, MA                   2\n",
              "Singapore, Singapore          2\n",
              "Itasca, IL                    2\n",
              "Cupertino, CA                 2\n",
              "San Carlos, CA                2\n",
              "Chevy Chase, MD               2\n",
              "Danville, CA                  2\n",
              "Coconut Creek, FL             2\n",
              "Toronto, Canada               2\n",
              "San Mateo, CA                 2\n",
              "Leesburg, VA                  2\n",
              "Nashville, TN                 2\n",
              "Fremont, CA                   2\n",
              "Trumbull, CT                  1\n",
              "Scottsdale, AZ                1\n",
              "Glen Allen, VA                1\n",
              "Ventura, CA                   1\n",
              "Bristol, PA                   1\n",
              "Bangalore, India              1\n",
              "Albertville, AL               1\n",
              "Orange, CA                    1\n",
              "Alpharetta, GA                1\n",
              "New Orleans, LA               1\n",
              "Beavercreek, OH               1\n",
              "Greenwich, CT                 1\n",
              "Cherry Hill, NJ               1\n",
              "Livonia, MI                   1\n",
              "Littleton, CO                 1\n",
              "Ipswich, MA                   1\n",
              "Ewing, NJ                     1\n",
              "Fort Lee, NJ                  1\n",
              "Tempe, AZ                     1\n",
              "Albuquerque, NM               1\n",
              "West Chester, PA              1\n",
              "Plano, TX                     1\n",
              "Rancho Cucamonga, CA          1\n",
              "Hilliard, OH                  1\n",
              "Bad Ragaz, Switzerland        1\n",
              "Manalapan, NJ                 1\n",
              "Omaha, NE                     1\n",
              "Spartanburg, SC               1\n",
              "Monroe, WI                    1\n",
              "Carmel, IN                    1\n",
              "Armonk, NY                    1\n",
              "Newark, CA                    1\n",
              "Blue Bell, PA                 1\n",
              "San Bruno, CA                 1\n",
              "Totowa, NJ                    1\n",
              "Deerfield, IL                 1\n",
              "Irving, TX                    1\n",
              "Philadelphia, PA              1\n",
              "Wilsonville, OR               1\n",
              "Aurora, CO                    1\n",
              "Chennai, India                1\n",
              "Half Moon Bay, CA             1\n",
              "Harrisburg, PA                1\n",
              "Greensboro, NC                1\n",
              "Birmingham, AL                1\n",
              "Marcy-l'Etoile, France        1\n",
              "Yakima, WA                    1\n",
              "Chadds Ford, PA               1\n",
              "Carpinteria, CA               1\n",
              "Piscataway, NJ                1\n",
              "Lombard, IL                   1\n",
              "Livermore, CA                 1\n",
              "Coral Gables, FL              1\n",
              "Oshkosh, WI                   1\n",
              "Dallas, TX                    1\n",
              "Goleta, CA                    1\n",
              "Lutherville Timonium, MD      1\n",
              "Danvers, MA                   1\n",
              "Utica, MI                     1\n",
              "Aurora, Canada                1\n",
              "Clifton Park, NY              1\n",
              "Ashburn, VA                   1\n",
              "Langley, VA                   1\n",
              "Zurich, Switzerland           1\n",
              "Marbella, Spain               1\n",
              "Columbia, SC                  1\n",
              "Simi Valley, CA               1\n",
              "Phila, PA                     1\n",
              "Tel Aviv-Yafo, Israel         1\n",
              "Charlotte, NC                 1\n",
              "Columbia, MO                  1\n",
              "Beltsville, MD                1\n",
              "Durham, NC                    1\n",
              "Honolulu, HI                  1\n",
              "Reading, PA                   1\n",
              "Brisbane, CA                  1\n",
              "Redwood City, CA              1\n",
              "Saxonburg, PA                 1\n",
              "Dulles, VA                    1\n",
              "Schaffhausen, Switzerland     1\n",
              "Detroit, MI                   1\n",
              "Hanover, MD                   1\n",
              "Santa Ana, CA                 1\n",
              "Oakville, Canada              1\n",
              "Bengaluru, India              1\n",
              "Milan, IL                     1\n",
              "Chandler, AZ                  1\n",
              "Schaumburg, IL                1\n",
              "Burlingame, CA                1\n",
              "Cleveland, OH                 1\n",
              "Benicia, CA                   1\n",
              "Tampa, FL                     1\n",
              "Reading, MA                   1\n",
              "Madison, WI                   1\n",
              "Troy, MI                      1\n",
              "Rome, NY                      1\n",
              "Goteborg, Sweden              1\n",
              "Lake Buena Vista, FL          1\n",
              "Holyoke, MA                   1\n",
              "Tucson, AZ                    1\n",
              "Hoboken, NJ                   1\n",
              "Franklin, TN                  1\n",
              "Richmond, VA                  1\n",
              "Woodbridge, NJ                1\n",
              "Akron, OH                     1\n",
              "Lake Oswego, OR               1\n",
              "Name: Headquarters, dtype: int64"
            ]
          },
          "metadata": {},
          "output_type": "display_data"
        }
      ],
      "source": [
        "display(data_company['Headquarters'].value_counts())"
      ]
    },
    {
      "cell_type": "code",
      "execution_count": null,
      "id": "d4a57164",
      "metadata": {
        "id": "d4a57164",
        "outputId": "2a1a6f39-07da-424d-c895-598e1eb36b02"
      },
      "outputs": [
        {
          "data": {
            "text/plain": [
              "0.0"
            ]
          },
          "execution_count": 78,
          "metadata": {},
          "output_type": "execute_result"
        }
      ],
      "source": [
        "#persentase pada missing value\n",
        "100 * len(data_company[(data_company['Headquarters'] == \"-1\") | (data_company['Headquarters'].isna())]) / len(data_company)"
      ]
    },
    {
      "cell_type": "markdown",
      "id": "0a34d6e7",
      "metadata": {
        "id": "0a34d6e7"
      },
      "source": [
        "## Encoding Data Kategorikal"
      ]
    },
    {
      "cell_type": "code",
      "execution_count": null,
      "id": "727d03ab",
      "metadata": {
        "id": "727d03ab"
      },
      "outputs": [],
      "source": [
        "df_churn = pd.read_csv('Telco-Customer-Churn.csv')\n"
      ]
    },
    {
      "cell_type": "code",
      "execution_count": null,
      "id": "b53021fb",
      "metadata": {
        "id": "b53021fb",
        "outputId": "e274b643-ddf0-43f8-9cc2-126277b13c07"
      },
      "outputs": [
        {
          "data": {
            "text/html": [
              "<div>\n",
              "<style scoped>\n",
              "    .dataframe tbody tr th:only-of-type {\n",
              "        vertical-align: middle;\n",
              "    }\n",
              "\n",
              "    .dataframe tbody tr th {\n",
              "        vertical-align: top;\n",
              "    }\n",
              "\n",
              "    .dataframe thead th {\n",
              "        text-align: right;\n",
              "    }\n",
              "</style>\n",
              "<table border=\"1\" class=\"dataframe\">\n",
              "  <thead>\n",
              "    <tr style=\"text-align: right;\">\n",
              "      <th></th>\n",
              "      <th>customerID</th>\n",
              "      <th>gender</th>\n",
              "      <th>SeniorCitizen</th>\n",
              "      <th>Partner</th>\n",
              "      <th>Dependents</th>\n",
              "      <th>tenure</th>\n",
              "      <th>PhoneService</th>\n",
              "      <th>MultipleLines</th>\n",
              "      <th>InternetService</th>\n",
              "      <th>OnlineSecurity</th>\n",
              "      <th>OnlineBackup</th>\n",
              "      <th>DeviceProtection</th>\n",
              "      <th>TechSupport</th>\n",
              "      <th>StreamingTV</th>\n",
              "      <th>StreamingMovies</th>\n",
              "      <th>Contract</th>\n",
              "      <th>PaperlessBilling</th>\n",
              "      <th>PaymentMethod</th>\n",
              "      <th>MonthlyCharges</th>\n",
              "      <th>TotalCharges</th>\n",
              "      <th>Churn</th>\n",
              "    </tr>\n",
              "  </thead>\n",
              "  <tbody>\n",
              "    <tr>\n",
              "      <th>0</th>\n",
              "      <td>7590-VHVEG</td>\n",
              "      <td>Female</td>\n",
              "      <td>0</td>\n",
              "      <td>Yes</td>\n",
              "      <td>No</td>\n",
              "      <td>1</td>\n",
              "      <td>No</td>\n",
              "      <td>No phone service</td>\n",
              "      <td>DSL</td>\n",
              "      <td>No</td>\n",
              "      <td>Yes</td>\n",
              "      <td>No</td>\n",
              "      <td>No</td>\n",
              "      <td>No</td>\n",
              "      <td>No</td>\n",
              "      <td>Month-to-month</td>\n",
              "      <td>Yes</td>\n",
              "      <td>Electronic check</td>\n",
              "      <td>29.85</td>\n",
              "      <td>29.85</td>\n",
              "      <td>No</td>\n",
              "    </tr>\n",
              "    <tr>\n",
              "      <th>1</th>\n",
              "      <td>5575-GNVDE</td>\n",
              "      <td>Male</td>\n",
              "      <td>0</td>\n",
              "      <td>No</td>\n",
              "      <td>No</td>\n",
              "      <td>34</td>\n",
              "      <td>Yes</td>\n",
              "      <td>No</td>\n",
              "      <td>DSL</td>\n",
              "      <td>Yes</td>\n",
              "      <td>No</td>\n",
              "      <td>Yes</td>\n",
              "      <td>No</td>\n",
              "      <td>No</td>\n",
              "      <td>No</td>\n",
              "      <td>One year</td>\n",
              "      <td>No</td>\n",
              "      <td>Mailed check</td>\n",
              "      <td>56.95</td>\n",
              "      <td>1889.5</td>\n",
              "      <td>No</td>\n",
              "    </tr>\n",
              "    <tr>\n",
              "      <th>2</th>\n",
              "      <td>3668-QPYBK</td>\n",
              "      <td>Male</td>\n",
              "      <td>0</td>\n",
              "      <td>No</td>\n",
              "      <td>No</td>\n",
              "      <td>2</td>\n",
              "      <td>Yes</td>\n",
              "      <td>No</td>\n",
              "      <td>DSL</td>\n",
              "      <td>Yes</td>\n",
              "      <td>Yes</td>\n",
              "      <td>No</td>\n",
              "      <td>No</td>\n",
              "      <td>No</td>\n",
              "      <td>No</td>\n",
              "      <td>Month-to-month</td>\n",
              "      <td>Yes</td>\n",
              "      <td>Mailed check</td>\n",
              "      <td>53.85</td>\n",
              "      <td>108.15</td>\n",
              "      <td>Yes</td>\n",
              "    </tr>\n",
              "    <tr>\n",
              "      <th>3</th>\n",
              "      <td>7795-CFOCW</td>\n",
              "      <td>Male</td>\n",
              "      <td>0</td>\n",
              "      <td>No</td>\n",
              "      <td>No</td>\n",
              "      <td>45</td>\n",
              "      <td>No</td>\n",
              "      <td>No phone service</td>\n",
              "      <td>DSL</td>\n",
              "      <td>Yes</td>\n",
              "      <td>No</td>\n",
              "      <td>Yes</td>\n",
              "      <td>Yes</td>\n",
              "      <td>No</td>\n",
              "      <td>No</td>\n",
              "      <td>One year</td>\n",
              "      <td>No</td>\n",
              "      <td>Bank transfer (automatic)</td>\n",
              "      <td>42.30</td>\n",
              "      <td>1840.75</td>\n",
              "      <td>No</td>\n",
              "    </tr>\n",
              "    <tr>\n",
              "      <th>4</th>\n",
              "      <td>9237-HQITU</td>\n",
              "      <td>Female</td>\n",
              "      <td>0</td>\n",
              "      <td>No</td>\n",
              "      <td>No</td>\n",
              "      <td>2</td>\n",
              "      <td>Yes</td>\n",
              "      <td>No</td>\n",
              "      <td>Fiber optic</td>\n",
              "      <td>No</td>\n",
              "      <td>No</td>\n",
              "      <td>No</td>\n",
              "      <td>No</td>\n",
              "      <td>No</td>\n",
              "      <td>No</td>\n",
              "      <td>Month-to-month</td>\n",
              "      <td>Yes</td>\n",
              "      <td>Electronic check</td>\n",
              "      <td>70.70</td>\n",
              "      <td>151.65</td>\n",
              "      <td>Yes</td>\n",
              "    </tr>\n",
              "  </tbody>\n",
              "</table>\n",
              "</div>"
            ],
            "text/plain": [
              "   customerID  gender  SeniorCitizen Partner Dependents  tenure PhoneService  \\\n",
              "0  7590-VHVEG  Female              0     Yes         No       1           No   \n",
              "1  5575-GNVDE    Male              0      No         No      34          Yes   \n",
              "2  3668-QPYBK    Male              0      No         No       2          Yes   \n",
              "3  7795-CFOCW    Male              0      No         No      45           No   \n",
              "4  9237-HQITU  Female              0      No         No       2          Yes   \n",
              "\n",
              "      MultipleLines InternetService OnlineSecurity OnlineBackup  \\\n",
              "0  No phone service             DSL             No          Yes   \n",
              "1                No             DSL            Yes           No   \n",
              "2                No             DSL            Yes          Yes   \n",
              "3  No phone service             DSL            Yes           No   \n",
              "4                No     Fiber optic             No           No   \n",
              "\n",
              "  DeviceProtection TechSupport StreamingTV StreamingMovies        Contract  \\\n",
              "0               No          No          No              No  Month-to-month   \n",
              "1              Yes          No          No              No        One year   \n",
              "2               No          No          No              No  Month-to-month   \n",
              "3              Yes         Yes          No              No        One year   \n",
              "4               No          No          No              No  Month-to-month   \n",
              "\n",
              "  PaperlessBilling              PaymentMethod  MonthlyCharges TotalCharges  \\\n",
              "0              Yes           Electronic check           29.85        29.85   \n",
              "1               No               Mailed check           56.95       1889.5   \n",
              "2              Yes               Mailed check           53.85       108.15   \n",
              "3               No  Bank transfer (automatic)           42.30      1840.75   \n",
              "4              Yes           Electronic check           70.70       151.65   \n",
              "\n",
              "  Churn  \n",
              "0    No  \n",
              "1    No  \n",
              "2   Yes  \n",
              "3    No  \n",
              "4   Yes  "
            ]
          },
          "execution_count": 43,
          "metadata": {},
          "output_type": "execute_result"
        }
      ],
      "source": [
        "df_churn.head()"
      ]
    },
    {
      "cell_type": "code",
      "execution_count": null,
      "id": "53d3faf5",
      "metadata": {
        "id": "53d3faf5",
        "outputId": "97a94882-71eb-472a-8a9d-5fa7982b43e7"
      },
      "outputs": [
        {
          "name": "stdout",
          "output_type": "stream",
          "text": [
            "<class 'pandas.core.frame.DataFrame'>\n",
            "RangeIndex: 7043 entries, 0 to 7042\n",
            "Data columns (total 21 columns):\n",
            " #   Column            Non-Null Count  Dtype  \n",
            "---  ------            --------------  -----  \n",
            " 0   customerID        7043 non-null   object \n",
            " 1   gender            7043 non-null   object \n",
            " 2   SeniorCitizen     7043 non-null   int64  \n",
            " 3   Partner           7043 non-null   object \n",
            " 4   Dependents        7043 non-null   object \n",
            " 5   tenure            7043 non-null   int64  \n",
            " 6   PhoneService      7043 non-null   object \n",
            " 7   MultipleLines     7043 non-null   object \n",
            " 8   InternetService   7043 non-null   object \n",
            " 9   OnlineSecurity    7043 non-null   object \n",
            " 10  OnlineBackup      7043 non-null   object \n",
            " 11  DeviceProtection  7043 non-null   object \n",
            " 12  TechSupport       7043 non-null   object \n",
            " 13  StreamingTV       7043 non-null   object \n",
            " 14  StreamingMovies   7043 non-null   object \n",
            " 15  Contract          7043 non-null   object \n",
            " 16  PaperlessBilling  7043 non-null   object \n",
            " 17  PaymentMethod     7043 non-null   object \n",
            " 18  MonthlyCharges    7043 non-null   float64\n",
            " 19  TotalCharges      7043 non-null   object \n",
            " 20  Churn             7043 non-null   object \n",
            "dtypes: float64(1), int64(2), object(18)\n",
            "memory usage: 1.1+ MB\n"
          ]
        }
      ],
      "source": [
        "df_churn.info()"
      ]
    },
    {
      "cell_type": "code",
      "execution_count": null,
      "id": "5909b2cc",
      "metadata": {
        "id": "5909b2cc",
        "outputId": "862caa46-36f5-43f5-817f-166422e00d0d"
      },
      "outputs": [
        {
          "data": {
            "text/html": [
              "<div>\n",
              "<style scoped>\n",
              "    .dataframe tbody tr th:only-of-type {\n",
              "        vertical-align: middle;\n",
              "    }\n",
              "\n",
              "    .dataframe tbody tr th {\n",
              "        vertical-align: top;\n",
              "    }\n",
              "\n",
              "    .dataframe thead th {\n",
              "        text-align: right;\n",
              "    }\n",
              "</style>\n",
              "<table border=\"1\" class=\"dataframe\">\n",
              "  <thead>\n",
              "    <tr style=\"text-align: right;\">\n",
              "      <th></th>\n",
              "      <th>customerID</th>\n",
              "      <th>gender</th>\n",
              "      <th>SeniorCitizen</th>\n",
              "      <th>Partner</th>\n",
              "      <th>Dependents</th>\n",
              "      <th>tenure</th>\n",
              "      <th>PhoneService</th>\n",
              "      <th>MultipleLines</th>\n",
              "      <th>InternetService</th>\n",
              "      <th>OnlineSecurity</th>\n",
              "      <th>OnlineBackup</th>\n",
              "      <th>DeviceProtection</th>\n",
              "      <th>TechSupport</th>\n",
              "      <th>StreamingTV</th>\n",
              "      <th>StreamingMovies</th>\n",
              "      <th>Contract</th>\n",
              "      <th>PaperlessBilling</th>\n",
              "      <th>PaymentMethod</th>\n",
              "      <th>MonthlyCharges</th>\n",
              "      <th>TotalCharges</th>\n",
              "      <th>Churn</th>\n",
              "    </tr>\n",
              "  </thead>\n",
              "  <tbody>\n",
              "    <tr>\n",
              "      <th>0</th>\n",
              "      <td>7590-VHVEG</td>\n",
              "      <td>Female</td>\n",
              "      <td>0</td>\n",
              "      <td>1</td>\n",
              "      <td>0</td>\n",
              "      <td>1</td>\n",
              "      <td>No</td>\n",
              "      <td>No phone service</td>\n",
              "      <td>DSL</td>\n",
              "      <td>No</td>\n",
              "      <td>Yes</td>\n",
              "      <td>No</td>\n",
              "      <td>No</td>\n",
              "      <td>No</td>\n",
              "      <td>No</td>\n",
              "      <td>Month-to-month</td>\n",
              "      <td>Yes</td>\n",
              "      <td>Electronic check</td>\n",
              "      <td>29.85</td>\n",
              "      <td>29.85</td>\n",
              "      <td>No</td>\n",
              "    </tr>\n",
              "    <tr>\n",
              "      <th>1</th>\n",
              "      <td>5575-GNVDE</td>\n",
              "      <td>Male</td>\n",
              "      <td>0</td>\n",
              "      <td>0</td>\n",
              "      <td>0</td>\n",
              "      <td>34</td>\n",
              "      <td>Yes</td>\n",
              "      <td>No</td>\n",
              "      <td>DSL</td>\n",
              "      <td>Yes</td>\n",
              "      <td>No</td>\n",
              "      <td>Yes</td>\n",
              "      <td>No</td>\n",
              "      <td>No</td>\n",
              "      <td>No</td>\n",
              "      <td>One year</td>\n",
              "      <td>No</td>\n",
              "      <td>Mailed check</td>\n",
              "      <td>56.95</td>\n",
              "      <td>1889.5</td>\n",
              "      <td>No</td>\n",
              "    </tr>\n",
              "    <tr>\n",
              "      <th>2</th>\n",
              "      <td>3668-QPYBK</td>\n",
              "      <td>Male</td>\n",
              "      <td>0</td>\n",
              "      <td>0</td>\n",
              "      <td>0</td>\n",
              "      <td>2</td>\n",
              "      <td>Yes</td>\n",
              "      <td>No</td>\n",
              "      <td>DSL</td>\n",
              "      <td>Yes</td>\n",
              "      <td>Yes</td>\n",
              "      <td>No</td>\n",
              "      <td>No</td>\n",
              "      <td>No</td>\n",
              "      <td>No</td>\n",
              "      <td>Month-to-month</td>\n",
              "      <td>Yes</td>\n",
              "      <td>Mailed check</td>\n",
              "      <td>53.85</td>\n",
              "      <td>108.15</td>\n",
              "      <td>Yes</td>\n",
              "    </tr>\n",
              "    <tr>\n",
              "      <th>3</th>\n",
              "      <td>7795-CFOCW</td>\n",
              "      <td>Male</td>\n",
              "      <td>0</td>\n",
              "      <td>0</td>\n",
              "      <td>0</td>\n",
              "      <td>45</td>\n",
              "      <td>No</td>\n",
              "      <td>No phone service</td>\n",
              "      <td>DSL</td>\n",
              "      <td>Yes</td>\n",
              "      <td>No</td>\n",
              "      <td>Yes</td>\n",
              "      <td>Yes</td>\n",
              "      <td>No</td>\n",
              "      <td>No</td>\n",
              "      <td>One year</td>\n",
              "      <td>No</td>\n",
              "      <td>Bank transfer (automatic)</td>\n",
              "      <td>42.30</td>\n",
              "      <td>1840.75</td>\n",
              "      <td>No</td>\n",
              "    </tr>\n",
              "    <tr>\n",
              "      <th>4</th>\n",
              "      <td>9237-HQITU</td>\n",
              "      <td>Female</td>\n",
              "      <td>0</td>\n",
              "      <td>0</td>\n",
              "      <td>0</td>\n",
              "      <td>2</td>\n",
              "      <td>Yes</td>\n",
              "      <td>No</td>\n",
              "      <td>Fiber optic</td>\n",
              "      <td>No</td>\n",
              "      <td>No</td>\n",
              "      <td>No</td>\n",
              "      <td>No</td>\n",
              "      <td>No</td>\n",
              "      <td>No</td>\n",
              "      <td>Month-to-month</td>\n",
              "      <td>Yes</td>\n",
              "      <td>Electronic check</td>\n",
              "      <td>70.70</td>\n",
              "      <td>151.65</td>\n",
              "      <td>Yes</td>\n",
              "    </tr>\n",
              "  </tbody>\n",
              "</table>\n",
              "</div>"
            ],
            "text/plain": [
              "   customerID  gender  SeniorCitizen  Partner  Dependents  tenure  \\\n",
              "0  7590-VHVEG  Female              0        1           0       1   \n",
              "1  5575-GNVDE    Male              0        0           0      34   \n",
              "2  3668-QPYBK    Male              0        0           0       2   \n",
              "3  7795-CFOCW    Male              0        0           0      45   \n",
              "4  9237-HQITU  Female              0        0           0       2   \n",
              "\n",
              "  PhoneService     MultipleLines InternetService OnlineSecurity OnlineBackup  \\\n",
              "0           No  No phone service             DSL             No          Yes   \n",
              "1          Yes                No             DSL            Yes           No   \n",
              "2          Yes                No             DSL            Yes          Yes   \n",
              "3           No  No phone service             DSL            Yes           No   \n",
              "4          Yes                No     Fiber optic             No           No   \n",
              "\n",
              "  DeviceProtection TechSupport StreamingTV StreamingMovies        Contract  \\\n",
              "0               No          No          No              No  Month-to-month   \n",
              "1              Yes          No          No              No        One year   \n",
              "2               No          No          No              No  Month-to-month   \n",
              "3              Yes         Yes          No              No        One year   \n",
              "4               No          No          No              No  Month-to-month   \n",
              "\n",
              "  PaperlessBilling              PaymentMethod  MonthlyCharges TotalCharges  \\\n",
              "0              Yes           Electronic check           29.85        29.85   \n",
              "1               No               Mailed check           56.95       1889.5   \n",
              "2              Yes               Mailed check           53.85       108.15   \n",
              "3               No  Bank transfer (automatic)           42.30      1840.75   \n",
              "4              Yes           Electronic check           70.70       151.65   \n",
              "\n",
              "  Churn  \n",
              "0    No  \n",
              "1    No  \n",
              "2   Yes  \n",
              "3    No  \n",
              "4   Yes  "
            ]
          },
          "execution_count": 79,
          "metadata": {},
          "output_type": "execute_result"
        }
      ],
      "source": [
        "# Melakukan label encoder pada kolom \"Partner\" dan \"Dependents\"\n",
        "df_churn[['Partner',\"Dependents\"]] = df_churn[['Partner','Dependents']].replace({'Yes': 1, 'No': 0})\n",
        "df_churn.head()"
      ]
    },
    {
      "cell_type": "code",
      "execution_count": null,
      "id": "63585ea1",
      "metadata": {
        "id": "63585ea1",
        "outputId": "59835c48-59b3-479d-f9a2-2825db96bfe9"
      },
      "outputs": [
        {
          "name": "stdout",
          "output_type": "stream",
          "text": [
            "---------- gender -------------\n"
          ]
        },
        {
          "data": {
            "text/plain": [
              "Male      3555\n",
              "Female    3488\n",
              "Name: gender, dtype: int64"
            ]
          },
          "metadata": {},
          "output_type": "display_data"
        },
        {
          "name": "stdout",
          "output_type": "stream",
          "text": [
            "\n",
            "---------- Partner -------------\n"
          ]
        },
        {
          "data": {
            "text/plain": [
              "0    3641\n",
              "1    3402\n",
              "Name: Partner, dtype: int64"
            ]
          },
          "metadata": {},
          "output_type": "display_data"
        },
        {
          "name": "stdout",
          "output_type": "stream",
          "text": [
            "\n",
            "---------- Dependents -------------\n"
          ]
        },
        {
          "data": {
            "text/plain": [
              "0    4933\n",
              "1    2110\n",
              "Name: Dependents, dtype: int64"
            ]
          },
          "metadata": {},
          "output_type": "display_data"
        },
        {
          "name": "stdout",
          "output_type": "stream",
          "text": [
            "\n",
            "---------- PhoneService -------------\n"
          ]
        },
        {
          "data": {
            "text/plain": [
              "Yes    6361\n",
              "No      682\n",
              "Name: PhoneService, dtype: int64"
            ]
          },
          "metadata": {},
          "output_type": "display_data"
        },
        {
          "name": "stdout",
          "output_type": "stream",
          "text": [
            "\n",
            "---------- MultipleLines -------------\n"
          ]
        },
        {
          "data": {
            "text/plain": [
              "No                  3390\n",
              "Yes                 2971\n",
              "No phone service     682\n",
              "Name: MultipleLines, dtype: int64"
            ]
          },
          "metadata": {},
          "output_type": "display_data"
        },
        {
          "name": "stdout",
          "output_type": "stream",
          "text": [
            "\n",
            "---------- InternetService -------------\n"
          ]
        },
        {
          "data": {
            "text/plain": [
              "Fiber optic    3096\n",
              "DSL            2421\n",
              "No             1526\n",
              "Name: InternetService, dtype: int64"
            ]
          },
          "metadata": {},
          "output_type": "display_data"
        },
        {
          "name": "stdout",
          "output_type": "stream",
          "text": [
            "\n",
            "---------- OnlineSecurity -------------\n"
          ]
        },
        {
          "data": {
            "text/plain": [
              "No                     3498\n",
              "Yes                    2019\n",
              "No internet service    1526\n",
              "Name: OnlineSecurity, dtype: int64"
            ]
          },
          "metadata": {},
          "output_type": "display_data"
        },
        {
          "name": "stdout",
          "output_type": "stream",
          "text": [
            "\n",
            "---------- OnlineBackup -------------\n"
          ]
        },
        {
          "data": {
            "text/plain": [
              "No                     3088\n",
              "Yes                    2429\n",
              "No internet service    1526\n",
              "Name: OnlineBackup, dtype: int64"
            ]
          },
          "metadata": {},
          "output_type": "display_data"
        },
        {
          "name": "stdout",
          "output_type": "stream",
          "text": [
            "\n",
            "---------- DeviceProtection -------------\n"
          ]
        },
        {
          "data": {
            "text/plain": [
              "No                     3095\n",
              "Yes                    2422\n",
              "No internet service    1526\n",
              "Name: DeviceProtection, dtype: int64"
            ]
          },
          "metadata": {},
          "output_type": "display_data"
        },
        {
          "name": "stdout",
          "output_type": "stream",
          "text": [
            "\n",
            "---------- TechSupport -------------\n"
          ]
        },
        {
          "data": {
            "text/plain": [
              "No                     3473\n",
              "Yes                    2044\n",
              "No internet service    1526\n",
              "Name: TechSupport, dtype: int64"
            ]
          },
          "metadata": {},
          "output_type": "display_data"
        },
        {
          "name": "stdout",
          "output_type": "stream",
          "text": [
            "\n",
            "---------- StreamingTV -------------\n"
          ]
        },
        {
          "data": {
            "text/plain": [
              "No                     2810\n",
              "Yes                    2707\n",
              "No internet service    1526\n",
              "Name: StreamingTV, dtype: int64"
            ]
          },
          "metadata": {},
          "output_type": "display_data"
        },
        {
          "name": "stdout",
          "output_type": "stream",
          "text": [
            "\n",
            "---------- StreamingMovies -------------\n"
          ]
        },
        {
          "data": {
            "text/plain": [
              "No                     2785\n",
              "Yes                    2732\n",
              "No internet service    1526\n",
              "Name: StreamingMovies, dtype: int64"
            ]
          },
          "metadata": {},
          "output_type": "display_data"
        },
        {
          "name": "stdout",
          "output_type": "stream",
          "text": [
            "\n",
            "---------- Contract -------------\n"
          ]
        },
        {
          "data": {
            "text/plain": [
              "Month-to-month    3875\n",
              "Two year          1695\n",
              "One year          1473\n",
              "Name: Contract, dtype: int64"
            ]
          },
          "metadata": {},
          "output_type": "display_data"
        },
        {
          "name": "stdout",
          "output_type": "stream",
          "text": [
            "\n",
            "---------- PaperlessBilling -------------\n"
          ]
        },
        {
          "data": {
            "text/plain": [
              "Yes    4171\n",
              "No     2872\n",
              "Name: PaperlessBilling, dtype: int64"
            ]
          },
          "metadata": {},
          "output_type": "display_data"
        },
        {
          "name": "stdout",
          "output_type": "stream",
          "text": [
            "\n",
            "---------- PaymentMethod -------------\n"
          ]
        },
        {
          "data": {
            "text/plain": [
              "Electronic check             2365\n",
              "Mailed check                 1612\n",
              "Bank transfer (automatic)    1544\n",
              "Credit card (automatic)      1522\n",
              "Name: PaymentMethod, dtype: int64"
            ]
          },
          "metadata": {},
          "output_type": "display_data"
        },
        {
          "name": "stdout",
          "output_type": "stream",
          "text": [
            "\n",
            "---------- Churn -------------\n"
          ]
        },
        {
          "data": {
            "text/plain": [
              "No     5174\n",
              "Yes    1869\n",
              "Name: Churn, dtype: int64"
            ]
          },
          "metadata": {},
          "output_type": "display_data"
        },
        {
          "name": "stdout",
          "output_type": "stream",
          "text": [
            "\n"
          ]
        }
      ],
      "source": [
        "#Cek nilai-nilai di kolom kategorikal\n",
        "cek_kolom = ['gender','Partner','Dependents','PhoneService','MultipleLines',\n",
        "            'InternetService','OnlineSecurity','OnlineBackup','DeviceProtection',\n",
        "            'TechSupport','StreamingTV','StreamingMovies','Contract','PaperlessBilling','PaymentMethod','Churn']\n",
        "for kolom in cek_kolom:\n",
        "    print(f\"---------- {kolom} -------------\")\n",
        "    display(df_churn[kolom].value_counts())\n",
        "    print()"
      ]
    },
    {
      "cell_type": "code",
      "execution_count": null,
      "id": "fb4e5f57",
      "metadata": {
        "id": "fb4e5f57"
      },
      "outputs": [],
      "source": [
        "#Lakukan normalisasi nilai yang terindikasi \"no internet service\"\n",
        "cols = ['MultipleLines','OnlineSecurity','OnlineSecurity', 'OnlineBackup','DeviceProtection','TechSupport','StreamingTV','StreamingMovies']\n",
        "\n",
        "for y in cols:\n",
        "    df_churn[y] = df_churn[y].replace({'No internet service' : 'No'})"
      ]
    },
    {
      "cell_type": "code",
      "execution_count": null,
      "id": "9d62efce",
      "metadata": {
        "id": "9d62efce",
        "outputId": "9068610c-5c37-40b7-adba-84a94518e329"
      },
      "outputs": [
        {
          "name": "stdout",
          "output_type": "stream",
          "text": [
            "---------- MultipleLines -------------\n"
          ]
        },
        {
          "data": {
            "text/plain": [
              "No                  3390\n",
              "Yes                 2971\n",
              "No phone service     682\n",
              "Name: MultipleLines, dtype: int64"
            ]
          },
          "metadata": {},
          "output_type": "display_data"
        },
        {
          "name": "stdout",
          "output_type": "stream",
          "text": [
            "\n",
            "---------- OnlineSecurity -------------\n"
          ]
        },
        {
          "data": {
            "text/plain": [
              "No     5024\n",
              "Yes    2019\n",
              "Name: OnlineSecurity, dtype: int64"
            ]
          },
          "metadata": {},
          "output_type": "display_data"
        },
        {
          "name": "stdout",
          "output_type": "stream",
          "text": [
            "\n",
            "---------- OnlineSecurity -------------\n"
          ]
        },
        {
          "data": {
            "text/plain": [
              "No     5024\n",
              "Yes    2019\n",
              "Name: OnlineSecurity, dtype: int64"
            ]
          },
          "metadata": {},
          "output_type": "display_data"
        },
        {
          "name": "stdout",
          "output_type": "stream",
          "text": [
            "\n",
            "---------- OnlineBackup -------------\n"
          ]
        },
        {
          "data": {
            "text/plain": [
              "No     4614\n",
              "Yes    2429\n",
              "Name: OnlineBackup, dtype: int64"
            ]
          },
          "metadata": {},
          "output_type": "display_data"
        },
        {
          "name": "stdout",
          "output_type": "stream",
          "text": [
            "\n",
            "---------- DeviceProtection -------------\n"
          ]
        },
        {
          "data": {
            "text/plain": [
              "No     4621\n",
              "Yes    2422\n",
              "Name: DeviceProtection, dtype: int64"
            ]
          },
          "metadata": {},
          "output_type": "display_data"
        },
        {
          "name": "stdout",
          "output_type": "stream",
          "text": [
            "\n",
            "---------- TechSupport -------------\n"
          ]
        },
        {
          "data": {
            "text/plain": [
              "No     4999\n",
              "Yes    2044\n",
              "Name: TechSupport, dtype: int64"
            ]
          },
          "metadata": {},
          "output_type": "display_data"
        },
        {
          "name": "stdout",
          "output_type": "stream",
          "text": [
            "\n",
            "---------- StreamingTV -------------\n"
          ]
        },
        {
          "data": {
            "text/plain": [
              "No     4336\n",
              "Yes    2707\n",
              "Name: StreamingTV, dtype: int64"
            ]
          },
          "metadata": {},
          "output_type": "display_data"
        },
        {
          "name": "stdout",
          "output_type": "stream",
          "text": [
            "\n",
            "---------- StreamingMovies -------------\n"
          ]
        },
        {
          "data": {
            "text/plain": [
              "No     4311\n",
              "Yes    2732\n",
              "Name: StreamingMovies, dtype: int64"
            ]
          },
          "metadata": {},
          "output_type": "display_data"
        },
        {
          "name": "stdout",
          "output_type": "stream",
          "text": [
            "\n"
          ]
        }
      ],
      "source": [
        "# cek ulang hasil dari normalisasi nilai\n",
        "for kolom in cols:\n",
        "    print(f\"---------- {kolom} -------------\")\n",
        "    display(df_churn[kolom].value_counts())\n",
        "    print()"
      ]
    },
    {
      "cell_type": "code",
      "execution_count": null,
      "id": "5180f68e",
      "metadata": {
        "id": "5180f68e",
        "outputId": "614d43f8-6f46-4fe4-b59b-539262d9b398"
      },
      "outputs": [
        {
          "name": "stdout",
          "output_type": "stream",
          "text": [
            "---------- InternetService -------------\n"
          ]
        },
        {
          "data": {
            "text/plain": [
              "Fiber optic    3096\n",
              "DSL            2421\n",
              "No             1526\n",
              "Name: InternetService, dtype: int64"
            ]
          },
          "metadata": {},
          "output_type": "display_data"
        },
        {
          "name": "stdout",
          "output_type": "stream",
          "text": [
            "\n",
            "---------- Contract -------------\n"
          ]
        },
        {
          "data": {
            "text/plain": [
              "Month-to-month    3875\n",
              "Two year          1695\n",
              "One year          1473\n",
              "Name: Contract, dtype: int64"
            ]
          },
          "metadata": {},
          "output_type": "display_data"
        },
        {
          "name": "stdout",
          "output_type": "stream",
          "text": [
            "\n"
          ]
        }
      ],
      "source": [
        "#Cek nilai-nilai di kolom kategorikal yang terindikasi tipe data ordinal\n",
        "cols = ['InternetService','Contract']\n",
        "for kolom in cols:\n",
        "    print(f\"---------- {kolom} -------------\")\n",
        "    display(df_churn[kolom].value_counts())\n",
        "    print()"
      ]
    },
    {
      "cell_type": "markdown",
      "id": "f398ad3b",
      "metadata": {
        "id": "f398ad3b"
      },
      "source": [
        "##### label encoder for ML"
      ]
    },
    {
      "cell_type": "code",
      "execution_count": null,
      "id": "7b8f4f61",
      "metadata": {
        "id": "7b8f4f61"
      },
      "outputs": [],
      "source": [
        "from sklearn.preprocessing import LabelEncoder\n",
        "# Kolom-kolom yang ingin di-label encode\n",
        "columns_to_encode = ['InternetService', 'Contract']\n",
        "\n",
        "# Inisialisasi LabelEncoder\n",
        "label_encoder = LabelEncoder()"
      ]
    },
    {
      "cell_type": "code",
      "execution_count": null,
      "id": "3a34204b",
      "metadata": {
        "id": "3a34204b"
      },
      "outputs": [],
      "source": [
        "train_churn, test_churn = train_test_split(df_churn, test_size = 0.2, train_size=0.8, random_state = 42)"
      ]
    },
    {
      "cell_type": "code",
      "execution_count": null,
      "id": "c435a2c6",
      "metadata": {
        "id": "c435a2c6"
      },
      "outputs": [],
      "source": [
        "#label encoder pada data train\n",
        "for col in columns_to_encode:\n",
        "    train_churn[col] = label_encoder.fit_transform(train_churn[col])"
      ]
    },
    {
      "cell_type": "code",
      "execution_count": null,
      "id": "234ec3ff",
      "metadata": {
        "id": "234ec3ff"
      },
      "outputs": [],
      "source": [
        "#label encoder pada data test\n",
        "for col in columns_to_encode:\n",
        "    test_churn[col] = label_encoder.fit_transform(test_churn[col])"
      ]
    },
    {
      "cell_type": "code",
      "execution_count": null,
      "id": "3c857f04",
      "metadata": {
        "id": "3c857f04",
        "outputId": "c7baeea7-7394-4704-84b5-2d3fe5574cdd"
      },
      "outputs": [
        {
          "data": {
            "text/html": [
              "<div>\n",
              "<style scoped>\n",
              "    .dataframe tbody tr th:only-of-type {\n",
              "        vertical-align: middle;\n",
              "    }\n",
              "\n",
              "    .dataframe tbody tr th {\n",
              "        vertical-align: top;\n",
              "    }\n",
              "\n",
              "    .dataframe thead th {\n",
              "        text-align: right;\n",
              "    }\n",
              "</style>\n",
              "<table border=\"1\" class=\"dataframe\">\n",
              "  <thead>\n",
              "    <tr style=\"text-align: right;\">\n",
              "      <th></th>\n",
              "      <th>customerID</th>\n",
              "      <th>gender</th>\n",
              "      <th>SeniorCitizen</th>\n",
              "      <th>Partner</th>\n",
              "      <th>Dependents</th>\n",
              "      <th>tenure</th>\n",
              "      <th>PhoneService</th>\n",
              "      <th>MultipleLines</th>\n",
              "      <th>InternetService</th>\n",
              "      <th>OnlineSecurity</th>\n",
              "      <th>OnlineBackup</th>\n",
              "      <th>DeviceProtection</th>\n",
              "      <th>TechSupport</th>\n",
              "      <th>StreamingTV</th>\n",
              "      <th>StreamingMovies</th>\n",
              "      <th>Contract</th>\n",
              "      <th>PaperlessBilling</th>\n",
              "      <th>PaymentMethod</th>\n",
              "      <th>MonthlyCharges</th>\n",
              "      <th>TotalCharges</th>\n",
              "      <th>Churn</th>\n",
              "    </tr>\n",
              "  </thead>\n",
              "  <tbody>\n",
              "    <tr>\n",
              "      <th>2142</th>\n",
              "      <td>4223-BKEOR</td>\n",
              "      <td>Female</td>\n",
              "      <td>0</td>\n",
              "      <td>0</td>\n",
              "      <td>1</td>\n",
              "      <td>21</td>\n",
              "      <td>Yes</td>\n",
              "      <td>No</td>\n",
              "      <td>0</td>\n",
              "      <td>Yes</td>\n",
              "      <td>No</td>\n",
              "      <td>Yes</td>\n",
              "      <td>No</td>\n",
              "      <td>No</td>\n",
              "      <td>Yes</td>\n",
              "      <td>1</td>\n",
              "      <td>No</td>\n",
              "      <td>Mailed check</td>\n",
              "      <td>64.85</td>\n",
              "      <td>1336.8</td>\n",
              "      <td>No</td>\n",
              "    </tr>\n",
              "    <tr>\n",
              "      <th>1623</th>\n",
              "      <td>6035-RIIOM</td>\n",
              "      <td>Female</td>\n",
              "      <td>0</td>\n",
              "      <td>0</td>\n",
              "      <td>0</td>\n",
              "      <td>54</td>\n",
              "      <td>Yes</td>\n",
              "      <td>Yes</td>\n",
              "      <td>1</td>\n",
              "      <td>No</td>\n",
              "      <td>Yes</td>\n",
              "      <td>No</td>\n",
              "      <td>No</td>\n",
              "      <td>Yes</td>\n",
              "      <td>Yes</td>\n",
              "      <td>2</td>\n",
              "      <td>Yes</td>\n",
              "      <td>Bank transfer (automatic)</td>\n",
              "      <td>97.20</td>\n",
              "      <td>5129.45</td>\n",
              "      <td>No</td>\n",
              "    </tr>\n",
              "    <tr>\n",
              "      <th>6074</th>\n",
              "      <td>3797-VTIDR</td>\n",
              "      <td>Male</td>\n",
              "      <td>0</td>\n",
              "      <td>1</td>\n",
              "      <td>0</td>\n",
              "      <td>1</td>\n",
              "      <td>No</td>\n",
              "      <td>No phone service</td>\n",
              "      <td>0</td>\n",
              "      <td>No</td>\n",
              "      <td>No</td>\n",
              "      <td>No</td>\n",
              "      <td>No</td>\n",
              "      <td>No</td>\n",
              "      <td>No</td>\n",
              "      <td>0</td>\n",
              "      <td>Yes</td>\n",
              "      <td>Electronic check</td>\n",
              "      <td>23.45</td>\n",
              "      <td>23.45</td>\n",
              "      <td>Yes</td>\n",
              "    </tr>\n",
              "    <tr>\n",
              "      <th>1362</th>\n",
              "      <td>2568-BRGYX</td>\n",
              "      <td>Male</td>\n",
              "      <td>0</td>\n",
              "      <td>0</td>\n",
              "      <td>0</td>\n",
              "      <td>4</td>\n",
              "      <td>Yes</td>\n",
              "      <td>No</td>\n",
              "      <td>1</td>\n",
              "      <td>No</td>\n",
              "      <td>No</td>\n",
              "      <td>No</td>\n",
              "      <td>No</td>\n",
              "      <td>No</td>\n",
              "      <td>No</td>\n",
              "      <td>0</td>\n",
              "      <td>Yes</td>\n",
              "      <td>Electronic check</td>\n",
              "      <td>70.20</td>\n",
              "      <td>237.95</td>\n",
              "      <td>Yes</td>\n",
              "    </tr>\n",
              "    <tr>\n",
              "      <th>6754</th>\n",
              "      <td>2775-SEFEE</td>\n",
              "      <td>Male</td>\n",
              "      <td>0</td>\n",
              "      <td>0</td>\n",
              "      <td>1</td>\n",
              "      <td>0</td>\n",
              "      <td>Yes</td>\n",
              "      <td>Yes</td>\n",
              "      <td>0</td>\n",
              "      <td>Yes</td>\n",
              "      <td>Yes</td>\n",
              "      <td>No</td>\n",
              "      <td>Yes</td>\n",
              "      <td>No</td>\n",
              "      <td>No</td>\n",
              "      <td>2</td>\n",
              "      <td>Yes</td>\n",
              "      <td>Bank transfer (automatic)</td>\n",
              "      <td>61.90</td>\n",
              "      <td></td>\n",
              "      <td>No</td>\n",
              "    </tr>\n",
              "  </tbody>\n",
              "</table>\n",
              "</div>"
            ],
            "text/plain": [
              "      customerID  gender  SeniorCitizen  Partner  Dependents  tenure  \\\n",
              "2142  4223-BKEOR  Female              0        0           1      21   \n",
              "1623  6035-RIIOM  Female              0        0           0      54   \n",
              "6074  3797-VTIDR    Male              0        1           0       1   \n",
              "1362  2568-BRGYX    Male              0        0           0       4   \n",
              "6754  2775-SEFEE    Male              0        0           1       0   \n",
              "\n",
              "     PhoneService     MultipleLines  InternetService OnlineSecurity  \\\n",
              "2142          Yes                No                0            Yes   \n",
              "1623          Yes               Yes                1             No   \n",
              "6074           No  No phone service                0             No   \n",
              "1362          Yes                No                1             No   \n",
              "6754          Yes               Yes                0            Yes   \n",
              "\n",
              "     OnlineBackup DeviceProtection TechSupport StreamingTV StreamingMovies  \\\n",
              "2142           No              Yes          No          No             Yes   \n",
              "1623          Yes               No          No         Yes             Yes   \n",
              "6074           No               No          No          No              No   \n",
              "1362           No               No          No          No              No   \n",
              "6754          Yes               No         Yes          No              No   \n",
              "\n",
              "      Contract PaperlessBilling              PaymentMethod  MonthlyCharges  \\\n",
              "2142         1               No               Mailed check           64.85   \n",
              "1623         2              Yes  Bank transfer (automatic)           97.20   \n",
              "6074         0              Yes           Electronic check           23.45   \n",
              "1362         0              Yes           Electronic check           70.20   \n",
              "6754         2              Yes  Bank transfer (automatic)           61.90   \n",
              "\n",
              "     TotalCharges Churn  \n",
              "2142       1336.8    No  \n",
              "1623      5129.45    No  \n",
              "6074        23.45   Yes  \n",
              "1362       237.95   Yes  \n",
              "6754                 No  "
            ]
          },
          "execution_count": 117,
          "metadata": {},
          "output_type": "execute_result"
        }
      ],
      "source": [
        "train_churn.head()"
      ]
    },
    {
      "cell_type": "code",
      "execution_count": null,
      "id": "e32971fa",
      "metadata": {
        "id": "e32971fa",
        "outputId": "97f66bdc-924e-4d9f-dabe-5442843db04f"
      },
      "outputs": [
        {
          "data": {
            "text/html": [
              "<div>\n",
              "<style scoped>\n",
              "    .dataframe tbody tr th:only-of-type {\n",
              "        vertical-align: middle;\n",
              "    }\n",
              "\n",
              "    .dataframe tbody tr th {\n",
              "        vertical-align: top;\n",
              "    }\n",
              "\n",
              "    .dataframe thead th {\n",
              "        text-align: right;\n",
              "    }\n",
              "</style>\n",
              "<table border=\"1\" class=\"dataframe\">\n",
              "  <thead>\n",
              "    <tr style=\"text-align: right;\">\n",
              "      <th></th>\n",
              "      <th>customerID</th>\n",
              "      <th>gender</th>\n",
              "      <th>SeniorCitizen</th>\n",
              "      <th>Partner</th>\n",
              "      <th>Dependents</th>\n",
              "      <th>tenure</th>\n",
              "      <th>PhoneService</th>\n",
              "      <th>MultipleLines</th>\n",
              "      <th>InternetService</th>\n",
              "      <th>OnlineSecurity</th>\n",
              "      <th>OnlineBackup</th>\n",
              "      <th>DeviceProtection</th>\n",
              "      <th>TechSupport</th>\n",
              "      <th>StreamingTV</th>\n",
              "      <th>StreamingMovies</th>\n",
              "      <th>Contract</th>\n",
              "      <th>PaperlessBilling</th>\n",
              "      <th>PaymentMethod</th>\n",
              "      <th>MonthlyCharges</th>\n",
              "      <th>TotalCharges</th>\n",
              "      <th>Churn</th>\n",
              "    </tr>\n",
              "  </thead>\n",
              "  <tbody>\n",
              "    <tr>\n",
              "      <th>185</th>\n",
              "      <td>1024-GUALD</td>\n",
              "      <td>Female</td>\n",
              "      <td>0</td>\n",
              "      <td>1</td>\n",
              "      <td>0</td>\n",
              "      <td>1</td>\n",
              "      <td>No</td>\n",
              "      <td>No phone service</td>\n",
              "      <td>0</td>\n",
              "      <td>No</td>\n",
              "      <td>No</td>\n",
              "      <td>No</td>\n",
              "      <td>No</td>\n",
              "      <td>No</td>\n",
              "      <td>No</td>\n",
              "      <td>0</td>\n",
              "      <td>Yes</td>\n",
              "      <td>Electronic check</td>\n",
              "      <td>24.80</td>\n",
              "      <td>24.8</td>\n",
              "      <td>Yes</td>\n",
              "    </tr>\n",
              "    <tr>\n",
              "      <th>2715</th>\n",
              "      <td>0484-JPBRU</td>\n",
              "      <td>Male</td>\n",
              "      <td>0</td>\n",
              "      <td>0</td>\n",
              "      <td>0</td>\n",
              "      <td>41</td>\n",
              "      <td>Yes</td>\n",
              "      <td>Yes</td>\n",
              "      <td>2</td>\n",
              "      <td>No</td>\n",
              "      <td>No</td>\n",
              "      <td>No</td>\n",
              "      <td>No</td>\n",
              "      <td>No</td>\n",
              "      <td>No</td>\n",
              "      <td>0</td>\n",
              "      <td>Yes</td>\n",
              "      <td>Bank transfer (automatic)</td>\n",
              "      <td>25.25</td>\n",
              "      <td>996.45</td>\n",
              "      <td>No</td>\n",
              "    </tr>\n",
              "    <tr>\n",
              "      <th>3825</th>\n",
              "      <td>3620-EHIMZ</td>\n",
              "      <td>Female</td>\n",
              "      <td>0</td>\n",
              "      <td>1</td>\n",
              "      <td>1</td>\n",
              "      <td>52</td>\n",
              "      <td>Yes</td>\n",
              "      <td>No</td>\n",
              "      <td>2</td>\n",
              "      <td>No</td>\n",
              "      <td>No</td>\n",
              "      <td>No</td>\n",
              "      <td>No</td>\n",
              "      <td>No</td>\n",
              "      <td>No</td>\n",
              "      <td>2</td>\n",
              "      <td>No</td>\n",
              "      <td>Mailed check</td>\n",
              "      <td>19.35</td>\n",
              "      <td>1031.7</td>\n",
              "      <td>No</td>\n",
              "    </tr>\n",
              "    <tr>\n",
              "      <th>1807</th>\n",
              "      <td>6910-HADCM</td>\n",
              "      <td>Female</td>\n",
              "      <td>0</td>\n",
              "      <td>0</td>\n",
              "      <td>0</td>\n",
              "      <td>1</td>\n",
              "      <td>Yes</td>\n",
              "      <td>No</td>\n",
              "      <td>1</td>\n",
              "      <td>No</td>\n",
              "      <td>No</td>\n",
              "      <td>Yes</td>\n",
              "      <td>No</td>\n",
              "      <td>No</td>\n",
              "      <td>No</td>\n",
              "      <td>0</td>\n",
              "      <td>No</td>\n",
              "      <td>Electronic check</td>\n",
              "      <td>76.35</td>\n",
              "      <td>76.35</td>\n",
              "      <td>Yes</td>\n",
              "    </tr>\n",
              "    <tr>\n",
              "      <th>132</th>\n",
              "      <td>8587-XYZSF</td>\n",
              "      <td>Male</td>\n",
              "      <td>0</td>\n",
              "      <td>0</td>\n",
              "      <td>0</td>\n",
              "      <td>67</td>\n",
              "      <td>Yes</td>\n",
              "      <td>No</td>\n",
              "      <td>0</td>\n",
              "      <td>No</td>\n",
              "      <td>No</td>\n",
              "      <td>No</td>\n",
              "      <td>Yes</td>\n",
              "      <td>No</td>\n",
              "      <td>No</td>\n",
              "      <td>2</td>\n",
              "      <td>No</td>\n",
              "      <td>Bank transfer (automatic)</td>\n",
              "      <td>50.55</td>\n",
              "      <td>3260.1</td>\n",
              "      <td>No</td>\n",
              "    </tr>\n",
              "  </tbody>\n",
              "</table>\n",
              "</div>"
            ],
            "text/plain": [
              "      customerID  gender  SeniorCitizen  Partner  Dependents  tenure  \\\n",
              "185   1024-GUALD  Female              0        1           0       1   \n",
              "2715  0484-JPBRU    Male              0        0           0      41   \n",
              "3825  3620-EHIMZ  Female              0        1           1      52   \n",
              "1807  6910-HADCM  Female              0        0           0       1   \n",
              "132   8587-XYZSF    Male              0        0           0      67   \n",
              "\n",
              "     PhoneService     MultipleLines  InternetService OnlineSecurity  \\\n",
              "185            No  No phone service                0             No   \n",
              "2715          Yes               Yes                2             No   \n",
              "3825          Yes                No                2             No   \n",
              "1807          Yes                No                1             No   \n",
              "132           Yes                No                0             No   \n",
              "\n",
              "     OnlineBackup DeviceProtection TechSupport StreamingTV StreamingMovies  \\\n",
              "185            No               No          No          No              No   \n",
              "2715           No               No          No          No              No   \n",
              "3825           No               No          No          No              No   \n",
              "1807           No              Yes          No          No              No   \n",
              "132            No               No         Yes          No              No   \n",
              "\n",
              "      Contract PaperlessBilling              PaymentMethod  MonthlyCharges  \\\n",
              "185          0              Yes           Electronic check           24.80   \n",
              "2715         0              Yes  Bank transfer (automatic)           25.25   \n",
              "3825         2               No               Mailed check           19.35   \n",
              "1807         0               No           Electronic check           76.35   \n",
              "132          2               No  Bank transfer (automatic)           50.55   \n",
              "\n",
              "     TotalCharges Churn  \n",
              "185          24.8   Yes  \n",
              "2715       996.45    No  \n",
              "3825       1031.7    No  \n",
              "1807        76.35   Yes  \n",
              "132        3260.1    No  "
            ]
          },
          "execution_count": 107,
          "metadata": {},
          "output_type": "execute_result"
        }
      ],
      "source": [
        "test_churn.head()"
      ]
    },
    {
      "cell_type": "markdown",
      "id": "cc7751c4",
      "metadata": {
        "id": "cc7751c4"
      },
      "source": [
        "##### label encoder for EDA"
      ]
    },
    {
      "cell_type": "code",
      "execution_count": null,
      "id": "5fcbfeab",
      "metadata": {
        "id": "5fcbfeab"
      },
      "outputs": [],
      "source": [
        "data_churn = df_churn.copy()\n",
        "labelEncoder = LabelEncoder()\n",
        "for col in columns_to_encode:\n",
        "    data_churn[col] = labelEncoder.fit_transform(data_churn[col])"
      ]
    },
    {
      "cell_type": "code",
      "execution_count": null,
      "id": "39659fae",
      "metadata": {
        "id": "39659fae",
        "outputId": "d364e461-1c5a-404e-a75d-e58988a9e523"
      },
      "outputs": [
        {
          "data": {
            "text/html": [
              "<div>\n",
              "<style scoped>\n",
              "    .dataframe tbody tr th:only-of-type {\n",
              "        vertical-align: middle;\n",
              "    }\n",
              "\n",
              "    .dataframe tbody tr th {\n",
              "        vertical-align: top;\n",
              "    }\n",
              "\n",
              "    .dataframe thead th {\n",
              "        text-align: right;\n",
              "    }\n",
              "</style>\n",
              "<table border=\"1\" class=\"dataframe\">\n",
              "  <thead>\n",
              "    <tr style=\"text-align: right;\">\n",
              "      <th></th>\n",
              "      <th>customerID</th>\n",
              "      <th>gender</th>\n",
              "      <th>SeniorCitizen</th>\n",
              "      <th>Partner</th>\n",
              "      <th>Dependents</th>\n",
              "      <th>tenure</th>\n",
              "      <th>PhoneService</th>\n",
              "      <th>MultipleLines</th>\n",
              "      <th>InternetService</th>\n",
              "      <th>OnlineSecurity</th>\n",
              "      <th>OnlineBackup</th>\n",
              "      <th>DeviceProtection</th>\n",
              "      <th>TechSupport</th>\n",
              "      <th>StreamingTV</th>\n",
              "      <th>StreamingMovies</th>\n",
              "      <th>Contract</th>\n",
              "      <th>PaperlessBilling</th>\n",
              "      <th>PaymentMethod</th>\n",
              "      <th>MonthlyCharges</th>\n",
              "      <th>TotalCharges</th>\n",
              "      <th>Churn</th>\n",
              "    </tr>\n",
              "  </thead>\n",
              "  <tbody>\n",
              "    <tr>\n",
              "      <th>0</th>\n",
              "      <td>7590-VHVEG</td>\n",
              "      <td>Female</td>\n",
              "      <td>0</td>\n",
              "      <td>1</td>\n",
              "      <td>0</td>\n",
              "      <td>1</td>\n",
              "      <td>No</td>\n",
              "      <td>No phone service</td>\n",
              "      <td>0</td>\n",
              "      <td>No</td>\n",
              "      <td>Yes</td>\n",
              "      <td>No</td>\n",
              "      <td>No</td>\n",
              "      <td>No</td>\n",
              "      <td>No</td>\n",
              "      <td>0</td>\n",
              "      <td>Yes</td>\n",
              "      <td>Electronic check</td>\n",
              "      <td>29.85</td>\n",
              "      <td>29.85</td>\n",
              "      <td>No</td>\n",
              "    </tr>\n",
              "    <tr>\n",
              "      <th>1</th>\n",
              "      <td>5575-GNVDE</td>\n",
              "      <td>Male</td>\n",
              "      <td>0</td>\n",
              "      <td>0</td>\n",
              "      <td>0</td>\n",
              "      <td>34</td>\n",
              "      <td>Yes</td>\n",
              "      <td>No</td>\n",
              "      <td>0</td>\n",
              "      <td>Yes</td>\n",
              "      <td>No</td>\n",
              "      <td>Yes</td>\n",
              "      <td>No</td>\n",
              "      <td>No</td>\n",
              "      <td>No</td>\n",
              "      <td>1</td>\n",
              "      <td>No</td>\n",
              "      <td>Mailed check</td>\n",
              "      <td>56.95</td>\n",
              "      <td>1889.5</td>\n",
              "      <td>No</td>\n",
              "    </tr>\n",
              "    <tr>\n",
              "      <th>2</th>\n",
              "      <td>3668-QPYBK</td>\n",
              "      <td>Male</td>\n",
              "      <td>0</td>\n",
              "      <td>0</td>\n",
              "      <td>0</td>\n",
              "      <td>2</td>\n",
              "      <td>Yes</td>\n",
              "      <td>No</td>\n",
              "      <td>0</td>\n",
              "      <td>Yes</td>\n",
              "      <td>Yes</td>\n",
              "      <td>No</td>\n",
              "      <td>No</td>\n",
              "      <td>No</td>\n",
              "      <td>No</td>\n",
              "      <td>0</td>\n",
              "      <td>Yes</td>\n",
              "      <td>Mailed check</td>\n",
              "      <td>53.85</td>\n",
              "      <td>108.15</td>\n",
              "      <td>Yes</td>\n",
              "    </tr>\n",
              "    <tr>\n",
              "      <th>3</th>\n",
              "      <td>7795-CFOCW</td>\n",
              "      <td>Male</td>\n",
              "      <td>0</td>\n",
              "      <td>0</td>\n",
              "      <td>0</td>\n",
              "      <td>45</td>\n",
              "      <td>No</td>\n",
              "      <td>No phone service</td>\n",
              "      <td>0</td>\n",
              "      <td>Yes</td>\n",
              "      <td>No</td>\n",
              "      <td>Yes</td>\n",
              "      <td>Yes</td>\n",
              "      <td>No</td>\n",
              "      <td>No</td>\n",
              "      <td>1</td>\n",
              "      <td>No</td>\n",
              "      <td>Bank transfer (automatic)</td>\n",
              "      <td>42.30</td>\n",
              "      <td>1840.75</td>\n",
              "      <td>No</td>\n",
              "    </tr>\n",
              "    <tr>\n",
              "      <th>4</th>\n",
              "      <td>9237-HQITU</td>\n",
              "      <td>Female</td>\n",
              "      <td>0</td>\n",
              "      <td>0</td>\n",
              "      <td>0</td>\n",
              "      <td>2</td>\n",
              "      <td>Yes</td>\n",
              "      <td>No</td>\n",
              "      <td>1</td>\n",
              "      <td>No</td>\n",
              "      <td>No</td>\n",
              "      <td>No</td>\n",
              "      <td>No</td>\n",
              "      <td>No</td>\n",
              "      <td>No</td>\n",
              "      <td>0</td>\n",
              "      <td>Yes</td>\n",
              "      <td>Electronic check</td>\n",
              "      <td>70.70</td>\n",
              "      <td>151.65</td>\n",
              "      <td>Yes</td>\n",
              "    </tr>\n",
              "  </tbody>\n",
              "</table>\n",
              "</div>"
            ],
            "text/plain": [
              "   customerID  gender  SeniorCitizen  Partner  Dependents  tenure  \\\n",
              "0  7590-VHVEG  Female              0        1           0       1   \n",
              "1  5575-GNVDE    Male              0        0           0      34   \n",
              "2  3668-QPYBK    Male              0        0           0       2   \n",
              "3  7795-CFOCW    Male              0        0           0      45   \n",
              "4  9237-HQITU  Female              0        0           0       2   \n",
              "\n",
              "  PhoneService     MultipleLines  InternetService OnlineSecurity OnlineBackup  \\\n",
              "0           No  No phone service                0             No          Yes   \n",
              "1          Yes                No                0            Yes           No   \n",
              "2          Yes                No                0            Yes          Yes   \n",
              "3           No  No phone service                0            Yes           No   \n",
              "4          Yes                No                1             No           No   \n",
              "\n",
              "  DeviceProtection TechSupport StreamingTV StreamingMovies  Contract  \\\n",
              "0               No          No          No              No         0   \n",
              "1              Yes          No          No              No         1   \n",
              "2               No          No          No              No         0   \n",
              "3              Yes         Yes          No              No         1   \n",
              "4               No          No          No              No         0   \n",
              "\n",
              "  PaperlessBilling              PaymentMethod  MonthlyCharges TotalCharges  \\\n",
              "0              Yes           Electronic check           29.85        29.85   \n",
              "1               No               Mailed check           56.95       1889.5   \n",
              "2              Yes               Mailed check           53.85       108.15   \n",
              "3               No  Bank transfer (automatic)           42.30      1840.75   \n",
              "4              Yes           Electronic check           70.70       151.65   \n",
              "\n",
              "  Churn  \n",
              "0    No  \n",
              "1    No  \n",
              "2   Yes  \n",
              "3    No  \n",
              "4   Yes  "
            ]
          },
          "execution_count": 106,
          "metadata": {},
          "output_type": "execute_result"
        }
      ],
      "source": [
        "data_churn.head()"
      ]
    }
  ],
  "metadata": {
    "kernelspec": {
      "display_name": "base",
      "language": "python",
      "name": "python3"
    },
    "language_info": {
      "codemirror_mode": {
        "name": "ipython",
        "version": 3
      },
      "file_extension": ".py",
      "mimetype": "text/x-python",
      "name": "python",
      "nbconvert_exporter": "python",
      "pygments_lexer": "ipython3",
      "version": "3.8.8"
    },
    "colab": {
      "provenance": [],
      "include_colab_link": true
    }
  },
  "nbformat": 4,
  "nbformat_minor": 5
}