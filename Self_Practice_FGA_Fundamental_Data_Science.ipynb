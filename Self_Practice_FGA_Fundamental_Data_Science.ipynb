{
  "nbformat": 4,
  "nbformat_minor": 0,
  "metadata": {
    "colab": {
      "provenance": [],
      "authorship_tag": "ABX9TyOu2N7vAAtktyO3zAg365JV",
      "include_colab_link": true
    },
    "kernelspec": {
      "name": "python3",
      "display_name": "Python 3"
    },
    "language_info": {
      "name": "python"
    }
  },
  "cells": [
    {
      "cell_type": "markdown",
      "metadata": {
        "id": "view-in-github",
        "colab_type": "text"
      },
      "source": [
        "<a href=\"https://colab.research.google.com/github/Herdvair/Tasks/blob/main/Self_Practice_FGA_Fundamental_Data_Science.ipynb\" target=\"_parent\"><img src=\"https://colab.research.google.com/assets/colab-badge.svg\" alt=\"Open In Colab\"/></a>"
      ]
    },
    {
      "cell_type": "code",
      "source": [
        "import pandas as pd\n",
        "from sklearn.datasets import load_iris\n"
      ],
      "metadata": {
        "id": "FA_TyBhDqXhU"
      },
      "execution_count": 17,
      "outputs": []
    },
    {
      "cell_type": "markdown",
      "source": [
        "# Menelaah Data"
      ],
      "metadata": {
        "id": "A6Anw7LhuMMq"
      }
    },
    {
      "cell_type": "code",
      "source": [
        "# Ganti 'Data_Nasabah.csv' dengan path yang benar ke file CSV Anda\n",
        "data = pd.read_csv('Data_Nasabah.csv', sep=';')"
      ],
      "metadata": {
        "id": "NwDp6YqMqbCq"
      },
      "execution_count": 11,
      "outputs": []
    },
    {
      "cell_type": "code",
      "source": [
        "# Jumlah data (baris dan kolom)\n",
        "print(\"Jumlah data (baris, kolom):\", data.shape)"
      ],
      "metadata": {
        "colab": {
          "base_uri": "https://localhost:8080/"
        },
        "id": "1zjP2CisqeBx",
        "outputId": "78d655f7-263a-4469-c62a-830ecd410774"
      },
      "execution_count": 12,
      "outputs": [
        {
          "output_type": "stream",
          "name": "stdout",
          "text": [
            "Jumlah data (baris, kolom): (100, 10)\n"
          ]
        }
      ]
    },
    {
      "cell_type": "code",
      "source": [
        "# Informasi tentang tipe data dan skema pengkodean\n",
        "print(\"\\nInformasi tipe data dan skema pengkodean:\")\n",
        "print(data.info())"
      ],
      "metadata": {
        "colab": {
          "base_uri": "https://localhost:8080/"
        },
        "id": "SE1oThlCqeqb",
        "outputId": "dc6791fc-64e4-450a-e33d-26c5f5bc65f4"
      },
      "execution_count": 13,
      "outputs": [
        {
          "output_type": "stream",
          "name": "stdout",
          "text": [
            "\n",
            "Informasi tipe data dan skema pengkodean:\n",
            "<class 'pandas.core.frame.DataFrame'>\n",
            "RangeIndex: 100 entries, 0 to 99\n",
            "Data columns (total 10 columns):\n",
            " #   Column                     Non-Null Count  Dtype \n",
            "---  ------                     --------------  ----- \n",
            " 0   nasabah_id                 100 non-null    object\n",
            " 1   umur                       100 non-null    int64 \n",
            " 2   jenis_kelamin              100 non-null    object\n",
            " 3   pendapatan                 100 non-null    int64 \n",
            " 4   saldo_rata_rata            100 non-null    int64 \n",
            " 5   jumlah_transaksi           100 non-null    int64 \n",
            " 6   jenis_produk               100 non-null    object\n",
            " 7   frekuensi_kunjungi_cabang  100 non-null    int64 \n",
            " 8   pengguna_mobile_banking    100 non-null    object\n",
            " 9   skor_kredit                100 non-null    int64 \n",
            "dtypes: int64(6), object(4)\n",
            "memory usage: 7.9+ KB\n",
            "None\n"
          ]
        }
      ]
    },
    {
      "cell_type": "code",
      "source": [
        "# Melihat beberapa baris pertama data\n",
        "print(\"\\nBeberapa baris pertama data:\")\n",
        "print(data.head())"
      ],
      "metadata": {
        "colab": {
          "base_uri": "https://localhost:8080/"
        },
        "id": "Pz6sjlvVqksB",
        "outputId": "76c3efee-a91a-4b12-9ef6-9d29ea2e3c0e"
      },
      "execution_count": 14,
      "outputs": [
        {
          "output_type": "stream",
          "name": "stdout",
          "text": [
            "\n",
            "Beberapa baris pertama data:\n",
            "  nasabah_id  umur jenis_kelamin  pendapatan  saldo_rata_rata  \\\n",
            "0       N001    22     Perempuan     5800000          1508000   \n",
            "1       N002    64     Perempuan     5700000          1254000   \n",
            "2       N003    27     Perempuan     2950000           590000   \n",
            "3       N004    34     Perempuan     3100000           186000   \n",
            "4       N005    45     Laki-Laki     6700000          1474000   \n",
            "\n",
            "   jumlah_transaksi  jenis_produk  frekuensi_kunjungi_cabang  \\\n",
            "0                19      tabungan                          1   \n",
            "1                 9  kartu_kredit                          2   \n",
            "2                12      tabungan                          1   \n",
            "3                16      deposito                          5   \n",
            "4                15  kartu_kredit                          3   \n",
            "\n",
            "  pengguna_mobile_banking  skor_kredit  \n",
            "0                   TIDAK          900  \n",
            "1                   TIDAK          900  \n",
            "2                      YA          500  \n",
            "3                   TIDAK          700  \n",
            "4                      YA          800  \n"
          ]
        }
      ]
    },
    {
      "cell_type": "code",
      "source": [
        "# Menampilkan jumlah nilai unik untuk setiap kolom (untuk memahami kategori)\n",
        "print(\"\\nJumlah nilai unik untuk setiap kolom:\")\n",
        "for column in data.columns:\n",
        "  print(f\"{column}: {data[column].nunique()}\")"
      ],
      "metadata": {
        "colab": {
          "base_uri": "https://localhost:8080/"
        },
        "id": "Ef1SEc_sqoki",
        "outputId": "a93bc145-735a-4969-bff3-d515b07da834"
      },
      "execution_count": 15,
      "outputs": [
        {
          "output_type": "stream",
          "name": "stdout",
          "text": [
            "\n",
            "Jumlah nilai unik untuk setiap kolom:\n",
            "nasabah_id: 100\n",
            "umur: 40\n",
            "jenis_kelamin: 2\n",
            "pendapatan: 30\n",
            "saldo_rata_rata: 90\n",
            "jumlah_transaksi: 24\n",
            "jenis_produk: 3\n",
            "frekuensi_kunjungi_cabang: 5\n",
            "pengguna_mobile_banking: 2\n",
            "skor_kredit: 5\n"
          ]
        }
      ]
    },
    {
      "cell_type": "code",
      "source": [
        "data['jenis_kelamin'] = data['jenis_kelamin'].map({'Laki-Laki': 1, 'Perempuan': 2})\n",
        "data['jenis_produk'] = data['jenis_produk'].map({'tabungan': 1, 'kartu_kredit': 2, 'deposito': 3})\n",
        "data['pengguna_mobile_banking'] = data['pengguna_mobile_banking'].map({'YA': 1, 'TIDAK': 2})\n",
        "print(data.head()) # Memastikan perubahan"
      ],
      "metadata": {
        "colab": {
          "base_uri": "https://localhost:8080/"
        },
        "id": "XNlAgohwrCBt",
        "outputId": "7acfb3d9-d72f-4d51-8728-e9e652a0be67"
      },
      "execution_count": 16,
      "outputs": [
        {
          "output_type": "stream",
          "name": "stdout",
          "text": [
            "  nasabah_id  umur  jenis_kelamin  pendapatan  saldo_rata_rata  \\\n",
            "0       N001    22              2     5800000          1508000   \n",
            "1       N002    64              2     5700000          1254000   \n",
            "2       N003    27              2     2950000           590000   \n",
            "3       N004    34              2     3100000           186000   \n",
            "4       N005    45              1     6700000          1474000   \n",
            "\n",
            "   jumlah_transaksi  jenis_produk  frekuensi_kunjungi_cabang  \\\n",
            "0                19             1                          1   \n",
            "1                 9             2                          2   \n",
            "2                12             1                          1   \n",
            "3                16             3                          5   \n",
            "4                15             2                          3   \n",
            "\n",
            "   pengguna_mobile_banking  skor_kredit  \n",
            "0                        2          900  \n",
            "1                        2          900  \n",
            "2                        1          500  \n",
            "3                        2          700  \n",
            "4                        1          800  \n"
          ]
        }
      ]
    },
    {
      "cell_type": "code",
      "source": [],
      "metadata": {
        "id": "aZTEAn9grJwv"
      },
      "execution_count": null,
      "outputs": []
    },
    {
      "cell_type": "markdown",
      "source": [
        "# Data Cleaning"
      ],
      "metadata": {
        "id": "2ZEOhcsOuoSD"
      }
    },
    {
      "cell_type": "code",
      "source": [
        "# Muat dataset iris\n",
        "iris = load_iris()\n",
        "df = pd.DataFrame(data=iris.data, columns=iris.feature_names)\n",
        "df['target'] = iris.target"
      ],
      "metadata": {
        "id": "ZJzES4AluVNR"
      },
      "execution_count": 18,
      "outputs": []
    },
    {
      "cell_type": "code",
      "source": [
        "# Identifikasi jumlah data\n",
        "print(\"Jumlah data:\", df.shape[0])"
      ],
      "metadata": {
        "colab": {
          "base_uri": "https://localhost:8080/"
        },
        "id": "klydLi8HuY-a",
        "outputId": "3b94eae6-c13a-465e-f5cc-d62775f7abd4"
      },
      "execution_count": 19,
      "outputs": [
        {
          "output_type": "stream",
          "name": "stdout",
          "text": [
            "Jumlah data: 150\n"
          ]
        }
      ]
    },
    {
      "cell_type": "code",
      "source": [
        "# Identifikasi tipe data\n",
        "print(\"\\nTipe data:\")\n",
        "print(df.dtypes)"
      ],
      "metadata": {
        "colab": {
          "base_uri": "https://localhost:8080/"
        },
        "id": "pfcTX-GRua49",
        "outputId": "7ede3174-dfc9-4613-95d0-acc35eb07c56"
      },
      "execution_count": 20,
      "outputs": [
        {
          "output_type": "stream",
          "name": "stdout",
          "text": [
            "\n",
            "Tipe data:\n",
            "sepal length (cm)    float64\n",
            "sepal width (cm)     float64\n",
            "petal length (cm)    float64\n",
            "petal width (cm)     float64\n",
            "target                 int64\n",
            "dtype: object\n"
          ]
        }
      ]
    },
    {
      "cell_type": "code",
      "source": [
        "# Identifikasi nilai yang hilang\n",
        "print(\"\\nJumlah nilai yang hilang:\")\n",
        "print(df.isnull().sum())"
      ],
      "metadata": {
        "colab": {
          "base_uri": "https://localhost:8080/"
        },
        "id": "DeJU72p-ugTP",
        "outputId": "b7f83ceb-cd5a-4743-f648-6c163c6c12b3"
      },
      "execution_count": 21,
      "outputs": [
        {
          "output_type": "stream",
          "name": "stdout",
          "text": [
            "\n",
            "Jumlah nilai yang hilang:\n",
            "sepal length (cm)    0\n",
            "sepal width (cm)     0\n",
            "petal length (cm)    0\n",
            "petal width (cm)     0\n",
            "target               0\n",
            "dtype: int64\n"
          ]
        }
      ]
    },
    {
      "cell_type": "code",
      "source": [
        "# Identifikasi outlier (menggunakan IQR)\n",
        "for column in df.columns[:-1]:  # Loop melalui fitur numerik\n",
        "  Q1 = df[column].quantile(0.25)\n",
        "  Q3 = df[column].quantile(0.75)\n",
        "  IQR = Q3 - Q1\n",
        "  lower_bound = Q1 - 1.5 * IQR\n",
        "  upper_bound = Q3 + 1.5 * IQR\n",
        "  outliers = df[(df[column] < lower_bound) | (df[column] > upper_bound)]\n",
        "  print(f\"\\nOutlier pada kolom {column}:\")\n",
        "  print(outliers)"
      ],
      "metadata": {
        "colab": {
          "base_uri": "https://localhost:8080/"
        },
        "id": "q3bhEi8vujhW",
        "outputId": "f493fcb0-18dd-4f17-d625-e05f1c4a491d"
      },
      "execution_count": 22,
      "outputs": [
        {
          "output_type": "stream",
          "name": "stdout",
          "text": [
            "\n",
            "Outlier pada kolom sepal length (cm):\n",
            "Empty DataFrame\n",
            "Columns: [sepal length (cm), sepal width (cm), petal length (cm), petal width (cm), target]\n",
            "Index: []\n",
            "\n",
            "Outlier pada kolom sepal width (cm):\n",
            "    sepal length (cm)  sepal width (cm)  petal length (cm)  petal width (cm)  \\\n",
            "15                5.7               4.4                1.5               0.4   \n",
            "32                5.2               4.1                1.5               0.1   \n",
            "33                5.5               4.2                1.4               0.2   \n",
            "60                5.0               2.0                3.5               1.0   \n",
            "\n",
            "    target  \n",
            "15       0  \n",
            "32       0  \n",
            "33       0  \n",
            "60       1  \n",
            "\n",
            "Outlier pada kolom petal length (cm):\n",
            "Empty DataFrame\n",
            "Columns: [sepal length (cm), sepal width (cm), petal length (cm), petal width (cm), target]\n",
            "Index: []\n",
            "\n",
            "Outlier pada kolom petal width (cm):\n",
            "Empty DataFrame\n",
            "Columns: [sepal length (cm), sepal width (cm), petal length (cm), petal width (cm), target]\n",
            "Index: []\n"
          ]
        }
      ]
    },
    {
      "cell_type": "code",
      "source": [
        "# Deskripsi statistik data\n",
        "print(\"\\nDeskripsi statistik:\")\n",
        "print(df.describe())"
      ],
      "metadata": {
        "colab": {
          "base_uri": "https://localhost:8080/"
        },
        "id": "wWydInJgultX",
        "outputId": "8190907f-e554-477b-aaf2-79d9b2168da9"
      },
      "execution_count": 23,
      "outputs": [
        {
          "output_type": "stream",
          "name": "stdout",
          "text": [
            "\n",
            "Deskripsi statistik:\n",
            "       sepal length (cm)  sepal width (cm)  petal length (cm)  \\\n",
            "count         150.000000        150.000000         150.000000   \n",
            "mean            5.843333          3.057333           3.758000   \n",
            "std             0.828066          0.435866           1.765298   \n",
            "min             4.300000          2.000000           1.000000   \n",
            "25%             5.100000          2.800000           1.600000   \n",
            "50%             5.800000          3.000000           4.350000   \n",
            "75%             6.400000          3.300000           5.100000   \n",
            "max             7.900000          4.400000           6.900000   \n",
            "\n",
            "       petal width (cm)      target  \n",
            "count        150.000000  150.000000  \n",
            "mean           1.199333    1.000000  \n",
            "std            0.762238    0.819232  \n",
            "min            0.100000    0.000000  \n",
            "25%            0.300000    0.000000  \n",
            "50%            1.300000    1.000000  \n",
            "75%            1.800000    2.000000  \n",
            "max            2.500000    2.000000  \n"
          ]
        }
      ]
    },
    {
      "cell_type": "code",
      "source": [],
      "metadata": {
        "id": "tYgfjQC3uuJi"
      },
      "execution_count": 23,
      "outputs": []
    }
  ]
}